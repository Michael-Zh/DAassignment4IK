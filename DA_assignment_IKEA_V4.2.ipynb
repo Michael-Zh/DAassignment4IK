{
  "nbformat": 4,
  "nbformat_minor": 0,
  "metadata": {
    "language_info": {
      "name": "python",
      "version": "3.7.10",
      "mimetype": "text/x-python",
      "codemirror_mode": {
        "name": "ipython",
        "version": 3
      },
      "pygments_lexer": "ipython3",
      "nbconvert_exporter": "python",
      "file_extension": ".py"
    },
    "kernelspec": {
      "name": "python3",
      "display_name": "Python 3",
      "language": "python"
    },
    "colab": {
      "name": "DA assignment IKEA V2.3.ipynb",
      "provenance": [],
      "collapsed_sections": [],
      "toc_visible": true,
      "include_colab_link": true
    }
  },
  "cells": [
    {
      "cell_type": "markdown",
      "metadata": {
        "id": "view-in-github",
        "colab_type": "text"
      },
      "source": [
        "<a href=\"https://colab.research.google.com/github/Michael-Zh/DAassignment4IK/blob/main/DA_assignment_IKEA_V4.2.ipynb\" target=\"_parent\"><img src=\"https://colab.research.google.com/assets/colab-badge.svg\" alt=\"Open In Colab\"/></a>"
      ]
    },
    {
      "cell_type": "markdown",
      "metadata": {
        "id": "jyklO1HmcwHU"
      },
      "source": [
        "# Technical Assignment - IKEA DA"
      ]
    },
    {
      "cell_type": "markdown",
      "metadata": {
        "id": "5R94-KffcwHh"
      },
      "source": [
        "Prepared by **Michael Zhang** | 2021 Mar | @AMSTERDAM"
      ]
    },
    {
      "cell_type": "markdown",
      "metadata": {
        "id": "djD2b3pxcwHi"
      },
      "source": [
        "## 0. Executive Summary"
      ]
    },
    {
      "cell_type": "markdown",
      "metadata": {
        "id": "UH2Uwm0fcwHj"
      },
      "source": [
        "### Question 1: Propose a segmentation analysis\n",
        "\n",
        "A natural thought to segment the consumer is to use `clustering analysis`. With a relatively clean data... Seg A, B, C\n",
        "\n",
        "### Question 3: Key segment(s) to focus to increase sales\n",
        "\n",
        "Seg A\n",
        "based on A, B, C reasons\n",
        "* Increase sales is more of a short-term goal -> with the info I have, either focus on the large seg with potential to upsell (small improvement but big moneytory potential), or niche seg with great %growth potential\n",
        "\n",
        "### Question 2: Potential data points to improve the analysis\n",
        "\n",
        "* Unit info: understand if the product is of high unit price (which may not be purchased again in a short term)\n",
        "* Category info: similar to above; also make it difficult to interpret the clustering\n",
        "* Transactional info: what does it buy together per order -> basket analysis, frequency analysis, recency (3D of CLV or CV)\n",
        "\n",
        "\n",
        "### Question 4: Prediction of the value in \"HaveChildren\" with vitualization"
      ]
    },
    {
      "cell_type": "code",
      "metadata": {
        "id": "HDqbVpRkdK5L",
        "colab": {
          "base_uri": "https://localhost:8080/"
        },
        "outputId": "27f77073-a90a-4bea-ad7b-6b340552d7d2"
      },
      "source": [
        "!pip install kneed"
      ],
      "execution_count": 501,
      "outputs": [
        {
          "output_type": "stream",
          "text": [
            "Requirement already satisfied: kneed in /usr/local/lib/python3.7/dist-packages (0.7.0)\n",
            "Requirement already satisfied: scipy in /usr/local/lib/python3.7/dist-packages (from kneed) (1.4.1)\n",
            "Requirement already satisfied: numpy>=1.14.2 in /usr/local/lib/python3.7/dist-packages (from kneed) (1.19.5)\n",
            "Requirement already satisfied: matplotlib in /usr/local/lib/python3.7/dist-packages (from kneed) (3.2.2)\n",
            "Requirement already satisfied: kiwisolver>=1.0.1 in /usr/local/lib/python3.7/dist-packages (from matplotlib->kneed) (1.3.1)\n",
            "Requirement already satisfied: cycler>=0.10 in /usr/local/lib/python3.7/dist-packages (from matplotlib->kneed) (0.10.0)\n",
            "Requirement already satisfied: pyparsing!=2.0.4,!=2.1.2,!=2.1.6,>=2.0.1 in /usr/local/lib/python3.7/dist-packages (from matplotlib->kneed) (2.4.7)\n",
            "Requirement already satisfied: python-dateutil>=2.1 in /usr/local/lib/python3.7/dist-packages (from matplotlib->kneed) (2.8.1)\n",
            "Requirement already satisfied: six in /usr/local/lib/python3.7/dist-packages (from cycler>=0.10->matplotlib->kneed) (1.15.0)\n"
          ],
          "name": "stdout"
        }
      ]
    },
    {
      "cell_type": "code",
      "metadata": {
        "trusted": true,
        "id": "sZ15LAY2cwHk"
      },
      "source": [
        "import numpy as np\n",
        "import pandas as pd\n",
        "import seaborn as sns\n",
        "import matplotlib.pyplot as plt\n",
        "from kneed import KneeLocator\n",
        "from sklearn.cluster import KMeans\n",
        "from sklearn.metrics import silhouette_score\n",
        "from sklearn.pipeline import Pipeline\n",
        "from sklearn.preprocessing import MinMaxScaler, StandardScaler"
      ],
      "execution_count": 502,
      "outputs": []
    },
    {
      "cell_type": "markdown",
      "metadata": {
        "id": "3DQZpMk3cwHn"
      },
      "source": [
        "## 1. Data Import and Exploration\n",
        "##### **High-level descriptives**\n",
        "* **Sex**: 70% are Male\n",
        "* **Age**: 35% are 26-35, followed by ~20% 18-25 and 36-45, respectively\n",
        "* **CityType**: 50%+ from type C cities\n",
        "* **YearsInCity**: 35% reside between 1-2 years, followed by 20% 2-3 years (other durations are close too)\n",
        "* **HaveChildren**: 55% Customers do not have children (and 3.5% of them missing this information)\n",
        "* **TotalSpending** and **ValueTier**: top 20% customers contribute 55% of the total revenue; next 30% contribute 30%; and the bottom 50% contribute 15%. Accordingly, label them as `High`, `Mid` and `Low` in `ValueTier`\n",
        "* **PriceTier**: based on the item unit price (less than 5500, 5500 to 10000, and over 10000), classify each item as `High`, `Mid` and `Low` in `PriceTier`\n",
        "\n",
        "##### **Load raw data and convert to proper data type**"
      ]
    },
    {
      "cell_type": "code",
      "metadata": {
        "trusted": true,
        "id": "MH7QKGupcwHn",
        "colab": {
          "base_uri": "https://localhost:8080/"
        },
        "outputId": "6ab29d7c-0508-47e0-f379-71d25d6eb618"
      },
      "source": [
        "url = 'https://raw.githubusercontent.com/Michael-Zh/DAassignment4IK/main/RetailCustomerSales.csv'\n",
        "\n",
        "df = pd.read_csv(url,sep = ';', dtype = {'CustomerID':'str',\n",
        "                                         'ItemID':'str',\n",
        "                                          'Sex':'str',\n",
        "                                          'Age':'str',\n",
        "                                          'Profession':'str',\n",
        "                                          'CityType':'str',\n",
        "                                          'YearsInCity':'str',\n",
        "                                          'HaveChildren':'str',## to deal witht he NaN\n",
        "                                          'ItemCategory1':'str',\n",
        "                                          'ItemCategory2':'str',\n",
        "                                          'ItemCategory3':'str'})\n",
        "df.info()"
      ],
      "execution_count": 503,
      "outputs": [
        {
          "output_type": "stream",
          "text": [
            "<class 'pandas.core.frame.DataFrame'>\n",
            "RangeIndex: 537577 entries, 0 to 537576\n",
            "Data columns (total 12 columns):\n",
            " #   Column         Non-Null Count   Dtype \n",
            "---  ------         --------------   ----- \n",
            " 0   CustomerID     537577 non-null  object\n",
            " 1   ItemID         537577 non-null  object\n",
            " 2   Sex            537577 non-null  object\n",
            " 3   Age            537577 non-null  object\n",
            " 4   Profession     537577 non-null  object\n",
            " 5   CityType       537577 non-null  object\n",
            " 6   YearsInCity    537577 non-null  object\n",
            " 7   HaveChildren   517407 non-null  object\n",
            " 8   ItemCategory1  537577 non-null  object\n",
            " 9   ItemCategory2  370591 non-null  object\n",
            " 10  ItemCategory3  164278 non-null  object\n",
            " 11  Amount         537577 non-null  int64 \n",
            "dtypes: int64(1), object(11)\n",
            "memory usage: 49.2+ MB\n"
          ],
          "name": "stdout"
        }
      ]
    },
    {
      "cell_type": "markdown",
      "metadata": {
        "id": "iAomfAcGcwHp"
      },
      "source": [
        "##### **Check duplicated rows**"
      ]
    },
    {
      "cell_type": "code",
      "metadata": {
        "trusted": true,
        "id": "d2Hj4TAdcwHq",
        "colab": {
          "base_uri": "https://localhost:8080/"
        },
        "outputId": "9bd70cfb-8cc5-427e-93f0-4ec170792c75"
      },
      "source": [
        "df.duplicated().sum()"
      ],
      "execution_count": 504,
      "outputs": [
        {
          "output_type": "execute_result",
          "data": {
            "text/plain": [
              "0"
            ]
          },
          "metadata": {
            "tags": []
          },
          "execution_count": 504
        }
      ]
    },
    {
      "cell_type": "markdown",
      "metadata": {
        "id": "r7C7dX16cwHr"
      },
      "source": [
        "##### **Check `NaN` value**\n",
        "* Only `HaveChildren` column has `NaN`"
      ]
    },
    {
      "cell_type": "code",
      "metadata": {
        "trusted": true,
        "scrolled": true,
        "id": "bX7IvwZUcwHr",
        "colab": {
          "base_uri": "https://localhost:8080/"
        },
        "outputId": "753bdebd-abdf-4b36-d971-d1ccb2ed80b8"
      },
      "source": [
        "print(df.isnull().sum())"
      ],
      "execution_count": 505,
      "outputs": [
        {
          "output_type": "stream",
          "text": [
            "CustomerID            0\n",
            "ItemID                0\n",
            "Sex                   0\n",
            "Age                   0\n",
            "Profession            0\n",
            "CityType              0\n",
            "YearsInCity           0\n",
            "HaveChildren      20170\n",
            "ItemCategory1         0\n",
            "ItemCategory2    166986\n",
            "ItemCategory3    373299\n",
            "Amount                0\n",
            "dtype: int64\n"
          ],
          "name": "stdout"
        }
      ]
    },
    {
      "cell_type": "markdown",
      "metadata": {
        "id": "DliH3AomcwHs"
      },
      "source": [
        "##### **Revenue contributions per customer and check potential outliers**"
      ]
    },
    {
      "cell_type": "code",
      "metadata": {
        "trusted": true,
        "scrolled": true,
        "id": "gW1v40ugcwHs",
        "colab": {
          "base_uri": "https://localhost:8080/"
        },
        "outputId": "9cf822f3-ce78-4bfe-dfb5-da888d734335"
      },
      "source": [
        "consumer_spend = df.groupby('CustomerID')['Amount'].sum().sort_values()\n",
        "consumer_spend.describe()"
      ],
      "execution_count": 506,
      "outputs": [
        {
          "output_type": "execute_result",
          "data": {
            "text/plain": [
              "count    5.891000e+03\n",
              "mean     8.517515e+05\n",
              "std      9.329978e+05\n",
              "min      4.410800e+04\n",
              "25%      2.349140e+05\n",
              "50%      5.126120e+05\n",
              "75%      1.099005e+06\n",
              "max      1.053678e+07\n",
              "Name: Amount, dtype: float64"
            ]
          },
          "metadata": {
            "tags": []
          },
          "execution_count": 506
        }
      ]
    },
    {
      "cell_type": "code",
      "metadata": {
        "colab": {
          "base_uri": "https://localhost:8080/"
        },
        "id": "Qhr2O0oHXAZk",
        "outputId": "290c4345-f1ee-4303-b730-7847298c32b5"
      },
      "source": [
        "consumer_spend.sum()"
      ],
      "execution_count": 507,
      "outputs": [
        {
          "output_type": "execute_result",
          "data": {
            "text/plain": [
              "5017668378"
            ]
          },
          "metadata": {
            "tags": []
          },
          "execution_count": 507
        }
      ]
    },
    {
      "cell_type": "code",
      "metadata": {
        "colab": {
          "base_uri": "https://localhost:8080/"
        },
        "id": "t6o4lnawYkoO",
        "outputId": "7b9a5a53-81a3-49d8-e9b2-9c97d058113c"
      },
      "source": [
        "## Top 20% customers contribute 55% of the total revenue\n",
        "consumer_spend.loc[(consumer_spend>consumer_spend.quantile(0.8)),].sum()/consumer_spend.sum()"
      ],
      "execution_count": 508,
      "outputs": [
        {
          "output_type": "execute_result",
          "data": {
            "text/plain": [
              "0.5543116293206732"
            ]
          },
          "metadata": {
            "tags": []
          },
          "execution_count": 508
        }
      ]
    },
    {
      "cell_type": "code",
      "metadata": {
        "colab": {
          "base_uri": "https://localhost:8080/"
        },
        "id": "BAJ1RlvtWxIv",
        "outputId": "d85b67ee-10d0-490e-c18f-23452cdc383a"
      },
      "source": [
        "## Mid 30% customers contribute 30% of the total revenue\n",
        "consumer_spend.loc[(consumer_spend<=consumer_spend.quantile(0.8)) & (consumer_spend>consumer_spend.quantile(0.5)),].sum()/consumer_spend.sum()"
      ],
      "execution_count": 509,
      "outputs": [
        {
          "output_type": "execute_result",
          "data": {
            "text/plain": [
              "0.29442580392067513"
            ]
          },
          "metadata": {
            "tags": []
          },
          "execution_count": 509
        }
      ]
    },
    {
      "cell_type": "code",
      "metadata": {
        "colab": {
          "base_uri": "https://localhost:8080/"
        },
        "id": "AxTeBjoBWjau",
        "outputId": "d3de6dce-3201-4b91-9fd5-4ff4ea2fc9b5"
      },
      "source": [
        "## Bottom 50% customers contribute 15% of the total revenue\n",
        "consumer_spend.loc[(consumer_spend<=consumer_spend.quantile(0.5)),].sum()/consumer_spend.sum()"
      ],
      "execution_count": 510,
      "outputs": [
        {
          "output_type": "execute_result",
          "data": {
            "text/plain": [
              "0.15126256675865157"
            ]
          },
          "metadata": {
            "tags": []
          },
          "execution_count": 510
        }
      ]
    },
    {
      "cell_type": "code",
      "metadata": {
        "colab": {
          "base_uri": "https://localhost:8080/"
        },
        "id": "ABkZmHlRdiao",
        "outputId": "bd05d5c6-f31d-4f6f-b9d6-b259cfe80f47"
      },
      "source": [
        "## Check the count of CustomerID in each ValueTier\n",
        "consumer_spend = pd.DataFrame(consumer_spend)\n",
        "consumer_spend.loc[consumer_spend['Amount']<consumer_spend['Amount'].quantile(0.5),'ValueTier'] = 'Low'\n",
        "consumer_spend.loc[(consumer_spend['Amount']>=consumer_spend['Amount'].quantile(0.5))&(consumer_spend['Amount']<consumer_spend['Amount'].quantile(0.8)),'ValueTier'] = 'Mid'\n",
        "consumer_spend.loc[consumer_spend['Amount']>consumer_spend['Amount'].quantile(0.8),'ValueTier'] = 'High'\n",
        "consumer_spend['ValueTier'].value_counts()"
      ],
      "execution_count": 511,
      "outputs": [
        {
          "output_type": "execute_result",
          "data": {
            "text/plain": [
              "Low     2945\n",
              "Mid     1767\n",
              "High    1178\n",
              "Name: ValueTier, dtype: int64"
            ]
          },
          "metadata": {
            "tags": []
          },
          "execution_count": 511
        }
      ]
    },
    {
      "cell_type": "markdown",
      "metadata": {
        "id": "hLMVszDyRzYb"
      },
      "source": [
        "The top 3 dots in the box plot can potentially be removed as outlier: `TotalSpending` > 7M"
      ]
    },
    {
      "cell_type": "code",
      "metadata": {
        "scrolled": true,
        "trusted": true,
        "id": "xOKQUQF2cwHt",
        "colab": {
          "base_uri": "https://localhost:8080/",
          "height": 296
        },
        "outputId": "441be5ae-970a-47cb-dd24-461215cc5fce"
      },
      "source": [
        "plt.style.use(\"fivethirtyeight\")\n",
        "plt.boxplot(consumer_spend['Amount'])\n",
        "plt.ylabel(\"Spending\")\n",
        "plt.show()"
      ],
      "execution_count": 322,
      "outputs": [
        {
          "output_type": "display_data",
          "data": {
            "image/png": "[encoded data removed]",
            "text/plain": [
              "<Figure size 432x288 with 1 Axes>"
            ]
          },
          "metadata": {
            "tags": []
          }
        }
      ]
    },
    {
      "cell_type": "code",
      "metadata": {
        "trusted": true,
        "scrolled": true,
        "id": "braxMxH2cwHu",
        "colab": {
          "base_uri": "https://localhost:8080/"
        },
        "outputId": "ac98cb6d-7c28-4bba-8f7d-9f24b5527cd9"
      },
      "source": [
        "## Check the top 10 amount -> identify the top dots in the box plot\n",
        "consumer_spend['Amount'].sort_values(ascending=False).head(10)"
      ],
      "execution_count": 323,
      "outputs": [
        {
          "output_type": "execute_result",
          "data": {
            "text/plain": [
              "CustomerID\n",
              "1004277    10536783\n",
              "1001680     8699232\n",
              "1002909     7577505\n",
              "1001941     6817493\n",
              "1000424     6573609\n",
              "1004448     6565878\n",
              "1001015     6511302\n",
              "1003391     6476786\n",
              "1001181     6387899\n",
              "1000549     6310604\n",
              "Name: Amount, dtype: int64"
            ]
          },
          "metadata": {
            "tags": []
          },
          "execution_count": 323
        }
      ]
    },
    {
      "cell_type": "code",
      "metadata": {
        "trusted": true,
        "id": "BjsRyZBMcwHv",
        "colab": {
          "base_uri": "https://localhost:8080/"
        },
        "outputId": "aec815ad-0127-4156-f136-13cdaf3014f6"
      },
      "source": [
        "## Pull the outliers' CustomerID for later exclusion\n",
        "consumer_spend_outlier = consumer_spend['Amount'].sort_values(ascending=False).iloc[:3].index.tolist()\n",
        "consumer_spend_outlier"
      ],
      "execution_count": 512,
      "outputs": [
        {
          "output_type": "execute_result",
          "data": {
            "text/plain": [
              "['1004277', '1001680', '1002909']"
            ]
          },
          "metadata": {
            "tags": []
          },
          "execution_count": 512
        }
      ]
    },
    {
      "cell_type": "markdown",
      "metadata": {
        "id": "YNpRiGg2Z1Sc"
      },
      "source": [
        "##### **Segment items based on their unit price** (assuming each row is a single unit):\n",
        "* price < 5500 **Low Price**\n",
        "* 5500<= price <10000 **Mid Price**\n",
        "* price >10000 **High Price**"
      ]
    },
    {
      "cell_type": "code",
      "metadata": {
        "colab": {
          "base_uri": "https://localhost:8080/"
        },
        "id": "2gYQ6maEdTot",
        "outputId": "91130a3f-4d46-4c14-8f77-2a898cd6643f"
      },
      "source": [
        "item_UnitPrice = df.groupby('ItemID')['Amount'].mean().sort_values()\n",
        "item_UnitPrice.describe()"
      ],
      "execution_count": 325,
      "outputs": [
        {
          "output_type": "execute_result",
          "data": {
            "text/plain": [
              "count     3623.000000\n",
              "mean      7885.579323\n",
              "std       3865.782359\n",
              "min        405.000000\n",
              "25%       5391.022321\n",
              "50%       6943.724138\n",
              "75%      10138.703652\n",
              "max      21297.865672\n",
              "Name: Amount, dtype: float64"
            ]
          },
          "metadata": {
            "tags": []
          },
          "execution_count": 325
        }
      ]
    },
    {
      "cell_type": "code",
      "metadata": {
        "colab": {
          "base_uri": "https://localhost:8080/",
          "height": 304
        },
        "id": "6sXK7InlZPIx",
        "outputId": "6f8d7b44-d6c8-4d98-9f9f-6980acb3d252"
      },
      "source": [
        "plt.style.use(\"fivethirtyeight\")\n",
        "plt.hist(item_UnitPrice, bins = 100)\n",
        "plt.xlabel(\"Unit Price\")\n",
        "plt.ylabel(\"Item Count\")\n",
        "plt.show()"
      ],
      "execution_count": 326,
      "outputs": [
        {
          "output_type": "display_data",
          "data": {
            "image/png": "[encoded data removed]",
            "text/plain": [
              "<Figure size 432x288 with 1 Axes>"
            ]
          },
          "metadata": {
            "tags": []
          }
        }
      ]
    },
    {
      "cell_type": "code",
      "metadata": {
        "id": "AAVpoG8ba9TB"
      },
      "source": [
        "item_UnitPriceMap = pd.DataFrame(item_UnitPrice)\n",
        "item_UnitPriceMap.loc[item_UnitPriceMap['Amount']<5500,'PriceTier'] = 'Low'\n",
        "item_UnitPriceMap.loc[(item_UnitPriceMap['Amount']>=5500)&(item_UnitPriceMap['Amount']<10000),'PriceTier'] = 'Mid'\n",
        "item_UnitPriceMap.loc[item_UnitPriceMap['Amount']>=10000,'PriceTier'] = 'High'"
      ],
      "execution_count": 327,
      "outputs": []
    },
    {
      "cell_type": "code",
      "metadata": {
        "colab": {
          "base_uri": "https://localhost:8080/"
        },
        "id": "zml1E3YUcXYk",
        "outputId": "4fb6881f-aadb-41d1-a205-c85b59ed45c2"
      },
      "source": [
        "## Check the unique ItemID in each price tier\n",
        "item_UnitPriceMap['PriceTier'].value_counts()"
      ],
      "execution_count": 513,
      "outputs": [
        {
          "output_type": "execute_result",
          "data": {
            "text/plain": [
              "Mid     1744\n",
              "Low      946\n",
              "High     933\n",
              "Name: PriceTier, dtype: int64"
            ]
          },
          "metadata": {
            "tags": []
          },
          "execution_count": 513
        }
      ]
    },
    {
      "cell_type": "markdown",
      "metadata": {
        "id": "zY42ZjFVcwHx"
      },
      "source": [
        "##### **Other descriptives**"
      ]
    },
    {
      "cell_type": "code",
      "metadata": {
        "trusted": true,
        "scrolled": true,
        "id": "aW1jHMxWcwHx",
        "colab": {
          "base_uri": "https://localhost:8080/",
          "height": 304
        },
        "outputId": "374d3b61-b7f9-4089-9491-1e4dc39ff36a"
      },
      "source": [
        "sex = df.groupby('Sex')['CustomerID'].nunique().sort_index()\n",
        "plt.style.use(\"fivethirtyeight\")\n",
        "plt.bar(sex.index, sex)\n",
        "plt.xlabel(\"Sex\")\n",
        "plt.ylabel(\"Consumer Count\")\n",
        "plt.show()"
      ],
      "execution_count": 329,
      "outputs": [
        {
          "output_type": "display_data",
          "data": {
            "image/png": "[encoded data removed]",
            "text/plain": [
              "<Figure size 432x288 with 1 Axes>"
            ]
          },
          "metadata": {
            "tags": []
          }
        }
      ]
    },
    {
      "cell_type": "code",
      "metadata": {
        "trusted": true,
        "id": "fXrCyfKOcwHx",
        "colab": {
          "base_uri": "https://localhost:8080/"
        },
        "outputId": "773f3ff4-fb15-4c7f-f43f-bacd148d2a85"
      },
      "source": [
        "round(sex/sex.sum()*100,1)"
      ],
      "execution_count": 330,
      "outputs": [
        {
          "output_type": "execute_result",
          "data": {
            "text/plain": [
              "Sex\n",
              "F    28.3\n",
              "M    71.7\n",
              "Name: CustomerID, dtype: float64"
            ]
          },
          "metadata": {
            "tags": []
          },
          "execution_count": 330
        }
      ]
    },
    {
      "cell_type": "code",
      "metadata": {
        "trusted": true,
        "id": "ZYxGrfWvcwHy",
        "colab": {
          "base_uri": "https://localhost:8080/",
          "height": 304
        },
        "outputId": "dadf9915-36a7-4aa9-a97e-b0b9021bf915"
      },
      "source": [
        "age = df.groupby('Age')['CustomerID'].nunique().sort_index()\n",
        "plt.style.use(\"fivethirtyeight\")\n",
        "plt.bar(age.index, age)\n",
        "plt.xlabel(\"Age\")\n",
        "plt.ylabel(\"Consumer Count\")\n",
        "plt.show()\n",
        "\n",
        "## Main consumer base is aroudn 26-35 YO"
      ],
      "execution_count": 331,
      "outputs": [
        {
          "output_type": "display_data",
          "data": {
            "image/png": "[encoded data removed]",
            "text/plain": [
              "<Figure size 432x288 with 1 Axes>"
            ]
          },
          "metadata": {
            "tags": []
          }
        }
      ]
    },
    {
      "cell_type": "code",
      "metadata": {
        "trusted": true,
        "id": "NJilPqmCcwHy",
        "colab": {
          "base_uri": "https://localhost:8080/"
        },
        "outputId": "5e9181ba-8663-4d60-ec92-16d625043d6d"
      },
      "source": [
        "round(age/age.sum()*100,1)"
      ],
      "execution_count": 332,
      "outputs": [
        {
          "output_type": "execute_result",
          "data": {
            "text/plain": [
              "Age\n",
              "0-17      3.7\n",
              "18-25    18.1\n",
              "26-35    34.8\n",
              "36-45    19.8\n",
              "46-50     9.0\n",
              "51-55     8.2\n",
              "55+       6.3\n",
              "Name: CustomerID, dtype: float64"
            ]
          },
          "metadata": {
            "tags": []
          },
          "execution_count": 332
        }
      ]
    },
    {
      "cell_type": "code",
      "metadata": {
        "trusted": true,
        "id": "c8QrlS_OcwHy",
        "colab": {
          "base_uri": "https://localhost:8080/",
          "height": 304
        },
        "outputId": "a1046837-7267-4538-dda6-8328950ccbcd"
      },
      "source": [
        "CityType = df.groupby('CityType')['CustomerID'].nunique().sort_index()\n",
        "plt.style.use(\"fivethirtyeight\")\n",
        "plt.bar(CityType.index, CityType)\n",
        "plt.xlabel(\"CityType\")\n",
        "plt.ylabel(\"Consumer Count\")\n",
        "plt.show()"
      ],
      "execution_count": 333,
      "outputs": [
        {
          "output_type": "display_data",
          "data": {
            "image/png": "[encoded data removed]",
            "text/plain": [
              "<Figure size 432x288 with 1 Axes>"
            ]
          },
          "metadata": {
            "tags": []
          }
        }
      ]
    },
    {
      "cell_type": "code",
      "metadata": {
        "trusted": true,
        "id": "OqhffbykcwH0",
        "colab": {
          "base_uri": "https://localhost:8080/"
        },
        "outputId": "c65f41c8-e198-4e4f-b5f8-321502e3291e"
      },
      "source": [
        "round(CityType/CityType.sum()*100,1)"
      ],
      "execution_count": 334,
      "outputs": [
        {
          "output_type": "execute_result",
          "data": {
            "text/plain": [
              "CityType\n",
              "A    17.7\n",
              "B    29.0\n",
              "C    53.3\n",
              "Name: CustomerID, dtype: float64"
            ]
          },
          "metadata": {
            "tags": []
          },
          "execution_count": 334
        }
      ]
    },
    {
      "cell_type": "code",
      "metadata": {
        "trusted": true,
        "id": "tDP2iK5UcwH1",
        "colab": {
          "base_uri": "https://localhost:8080/",
          "height": 304
        },
        "outputId": "3e15896e-6307-4f2a-bd5d-cde3c0d1cd9f"
      },
      "source": [
        "YearsInCity = df.groupby('YearsInCity')['CustomerID'].nunique().sort_index()\n",
        "plt.style.use(\"fivethirtyeight\")\n",
        "plt.bar(YearsInCity.index, YearsInCity)\n",
        "plt.xlabel(\"YearsInCity\")\n",
        "plt.ylabel(\"Consumer Count\")\n",
        "plt.show()"
      ],
      "execution_count": 335,
      "outputs": [
        {
          "output_type": "display_data",
          "data": {
            "image/png": "[encoded data removed]",
            "text/plain": [
              "<Figure size 432x288 with 1 Axes>"
            ]
          },
          "metadata": {
            "tags": []
          }
        }
      ]
    },
    {
      "cell_type": "code",
      "metadata": {
        "trusted": true,
        "id": "3gcxlFa3cwH1",
        "colab": {
          "base_uri": "https://localhost:8080/"
        },
        "outputId": "98248fa6-0c3e-4d77-c81b-4ee311eaf1a7"
      },
      "source": [
        "round(YearsInCity/YearsInCity.sum()*100,1)"
      ],
      "execution_count": 336,
      "outputs": [
        {
          "output_type": "execute_result",
          "data": {
            "text/plain": [
              "YearsInCity\n",
              "0     13.1\n",
              "1     35.4\n",
              "2     19.4\n",
              "3     16.6\n",
              "4+    15.4\n",
              "Name: CustomerID, dtype: float64"
            ]
          },
          "metadata": {
            "tags": []
          },
          "execution_count": 336
        }
      ]
    },
    {
      "cell_type": "code",
      "metadata": {
        "scrolled": true,
        "trusted": true,
        "id": "TzSUxpD7cwH2",
        "colab": {
          "base_uri": "https://localhost:8080/",
          "height": 304
        },
        "outputId": "bf46f815-49eb-4e57-d116-9d372ffb73d7"
      },
      "source": [
        "Profession = df.groupby('Profession')['CustomerID'].nunique().sort_values(ascending=False)\n",
        "plt.style.use(\"fivethirtyeight\")\n",
        "plt.bar(Profession.index, Profession)\n",
        "plt.xlabel(\"Profession\")\n",
        "plt.ylabel(\"Consumer Count\")\n",
        "plt.show()"
      ],
      "execution_count": 337,
      "outputs": [
        {
          "output_type": "display_data",
          "data": {
            "image/png": "[encoded data removed]",
            "text/plain": [
              "<Figure size 432x288 with 1 Axes>"
            ]
          },
          "metadata": {
            "tags": []
          }
        }
      ]
    },
    {
      "cell_type": "code",
      "metadata": {
        "trusted": true,
        "id": "UNsbOpwucwH2",
        "colab": {
          "base_uri": "https://localhost:8080/"
        },
        "outputId": "c6c38bf3-3bb7-4b95-b6ed-ea91a1831c6b"
      },
      "source": [
        "round(Profession/Profession.sum()*100,1)"
      ],
      "execution_count": 338,
      "outputs": [
        {
          "output_type": "execute_result",
          "data": {
            "text/plain": [
              "Profession\n",
              "4     12.6\n",
              "0     11.7\n",
              "7     11.4\n",
              "1      8.8\n",
              "17     8.3\n",
              "12     6.4\n",
              "14     5.0\n",
              "20     4.6\n",
              "2      4.3\n",
              "16     4.0\n",
              "6      3.9\n",
              "10     3.3\n",
              "3      2.9\n",
              "15     2.4\n",
              "13     2.4\n",
              "11     2.2\n",
              "5      1.9\n",
              "9      1.5\n",
              "19     1.2\n",
              "18     1.1\n",
              "8      0.3\n",
              "Name: CustomerID, dtype: float64"
            ]
          },
          "metadata": {
            "tags": []
          },
          "execution_count": 338
        }
      ]
    },
    {
      "cell_type": "markdown",
      "metadata": {
        "id": "mlSxUs1CcwH3"
      },
      "source": [
        "Since the missing records account for a small subset (3.6%), consider remove it from the clustering"
      ]
    },
    {
      "cell_type": "code",
      "metadata": {
        "trusted": true,
        "scrolled": true,
        "id": "D5Iww2YtcwH3",
        "colab": {
          "base_uri": "https://localhost:8080/",
          "height": 304
        },
        "outputId": "f46e70c8-094c-44b3-97ce-6306028d1122"
      },
      "source": [
        "df_c = df.copy()\n",
        "df_c['HaveChildren'] = df_c['HaveChildren'].fillna('Missing')\n",
        "HaveChildren = df_c.groupby('HaveChildren')['CustomerID'].nunique().sort_index()\n",
        "plt.style.use(\"fivethirtyeight\")\n",
        "plt.bar(HaveChildren.index, HaveChildren)\n",
        "plt.xlabel(\"HaveChildren\")\n",
        "plt.ylabel(\"Consumer Count\")\n",
        "plt.show()"
      ],
      "execution_count": 339,
      "outputs": [
        {
          "output_type": "display_data",
          "data": {
            "image/png": "[encoded data removed]",
            "text/plain": [
              "<Figure size 432x288 with 1 Axes>"
            ]
          },
          "metadata": {
            "tags": []
          }
        }
      ]
    },
    {
      "cell_type": "code",
      "metadata": {
        "trusted": true,
        "id": "VaKhWY-OcwH3",
        "colab": {
          "base_uri": "https://localhost:8080/"
        },
        "outputId": "f27c4fbf-06a3-4858-d25c-0ab33059a07f"
      },
      "source": [
        "round(HaveChildren/HaveChildren.sum()*100,1)"
      ],
      "execution_count": 340,
      "outputs": [
        {
          "output_type": "execute_result",
          "data": {
            "text/plain": [
              "HaveChildren\n",
              "0          55.7\n",
              "1          40.7\n",
              "Missing     3.6\n",
              "Name: CustomerID, dtype: float64"
            ]
          },
          "metadata": {
            "tags": []
          },
          "execution_count": 340
        }
      ]
    },
    {
      "cell_type": "markdown",
      "metadata": {
        "id": "Iz3bm_EGcwH4"
      },
      "source": [
        "###### **Check how the category columns structure**"
      ]
    },
    {
      "cell_type": "code",
      "metadata": {
        "trusted": true,
        "id": "e8yE43cZcwH4",
        "colab": {
          "base_uri": "https://localhost:8080/"
        },
        "outputId": "d9f6060b-6bcf-4e00-dc9e-d6926b36da8e"
      },
      "source": [
        "df.loc[df['ItemCategory1'] == df['ItemCategory2'],'ItemID'].unique()\n",
        "## cat start small"
      ],
      "execution_count": 341,
      "outputs": [
        {
          "output_type": "execute_result",
          "data": {
            "text/plain": [
              "array([], dtype=object)"
            ]
          },
          "metadata": {
            "tags": []
          },
          "execution_count": 341
        }
      ]
    },
    {
      "cell_type": "markdown",
      "metadata": {
        "id": "KB-1fN1gcwH5"
      },
      "source": [
        "##### **Convert the category combination to one column**\n",
        "Category 5 and 8 has both very high # of unique items and high sales"
      ]
    },
    {
      "cell_type": "code",
      "metadata": {
        "scrolled": true,
        "trusted": true,
        "id": "BZj_E4wIcwH5"
      },
      "source": [
        "df_combo = df.copy()\n",
        "\n",
        "df_combo['ItemCategory2'].fillna('N', inplace=True)\n",
        "df_combo['ItemCategory3'].fillna('N', inplace=True)\n",
        "\n",
        "df_combo['CatCombo'] = df_combo['ItemCategory1']+'_'\\\n",
        "                       +df_combo['ItemCategory2']+'_'\\\n",
        "                       +df_combo['ItemCategory3']"
      ],
      "execution_count": 342,
      "outputs": []
    },
    {
      "cell_type": "code",
      "metadata": {
        "trusted": true,
        "scrolled": true,
        "id": "M5csvjpTcwH5",
        "colab": {
          "base_uri": "https://localhost:8080/",
          "height": 282
        },
        "outputId": "6714e99b-9b16-414d-f85a-2f9a5907f69a"
      },
      "source": [
        "ItemCombo = df_combo.groupby(['CatCombo'])['ItemID'].nunique().sort_values(ascending=False)\n",
        "plt.style.use(\"fivethirtyeight\")\n",
        "plt.boxplot(ItemCombo)\n",
        "plt.ylabel(\"Item Count\")\n",
        "plt.show()"
      ],
      "execution_count": 343,
      "outputs": [
        {
          "output_type": "display_data",
          "data": {
            "image/png": "[encoded data removed]",
            "text/plain": [
              "<Figure size 432x288 with 1 Axes>"
            ]
          },
          "metadata": {
            "tags": []
          }
        }
      ]
    },
    {
      "cell_type": "code",
      "metadata": {
        "trusted": true,
        "id": "zSjKtxo5cwH5",
        "colab": {
          "base_uri": "https://localhost:8080/"
        },
        "outputId": "48a65848-25e2-45c4-e10a-68273549f723"
      },
      "source": [
        "ItemCombo.head(5)"
      ],
      "execution_count": 344,
      "outputs": [
        {
          "output_type": "execute_result",
          "data": {
            "text/plain": [
              "CatCombo\n",
              "8_N_N     727\n",
              "5_N_N     488\n",
              "11_N_N    171\n",
              "5_8_N     150\n",
              "5_14_N    136\n",
              "Name: ItemID, dtype: int64"
            ]
          },
          "metadata": {
            "tags": []
          },
          "execution_count": 344
        }
      ]
    },
    {
      "cell_type": "code",
      "metadata": {
        "trusted": true,
        "scrolled": true,
        "id": "YM3IhTc_cwH6",
        "colab": {
          "base_uri": "https://localhost:8080/",
          "height": 296
        },
        "outputId": "ea7f70e3-2166-4b84-c940-92de1539e309"
      },
      "source": [
        "ItemComboSales = df_combo.groupby(['CatCombo'])['Amount'].sum().sort_values(ascending=False)\n",
        "plt.style.use(\"fivethirtyeight\")\n",
        "plt.boxplot(ItemComboSales)\n",
        "plt.ylabel(\"Sales\")\n",
        "plt.show()"
      ],
      "execution_count": 345,
      "outputs": [
        {
          "output_type": "display_data",
          "data": {
            "image/png": "[encoded data removed]",
            "text/plain": [
              "<Figure size 432x288 with 1 Axes>"
            ]
          },
          "metadata": {
            "tags": []
          }
        }
      ]
    },
    {
      "cell_type": "code",
      "metadata": {
        "trusted": true,
        "id": "mBEDZGBhcwH6",
        "colab": {
          "base_uri": "https://localhost:8080/"
        },
        "outputId": "33920d84-d598-4b43-c2cc-687a99e35559"
      },
      "source": [
        "ItemComboSales.head(5)"
      ],
      "execution_count": 346,
      "outputs": [
        {
          "output_type": "execute_result",
          "data": {
            "text/plain": [
              "CatCombo\n",
              "8_N_N     449437193\n",
              "5_N_N     383126455\n",
              "1_16_N    198147606\n",
              "1_2_15    191990411\n",
              "5_8_N     149089678\n",
              "Name: Amount, dtype: int64"
            ]
          },
          "metadata": {
            "tags": []
          },
          "execution_count": 346
        }
      ]
    },
    {
      "cell_type": "markdown",
      "metadata": {
        "id": "d0z3zVe1cwH6"
      },
      "source": [
        "## 2. Segmentation (Clustering Analysis)\n",
        "\n",
        "#### Considerations of clustering model/feature selection\n",
        "* To serve the main business goal, which is (short-term) sales growth, in this assignment I use the classic and popular `K-means` clustering method to cluster the (simplified) purchasing behavior, as all the features are conintuous data.\n",
        "\n",
        "* Feature selection/creation: from the initial exploration, three `ValueTiers` are apparent. However, even if we go after the high value members, what drives them to buy more (or will they at all)? Therefore, I constructed a set of features representing the percentage of spend in each `PriceTier` of a consumer's `TotalSpending`. E.g. a high value customer with relatively high % of spending in high price products may mean that they spent are more opt for quality and less price sensitive; another high value customer with relatively high % of spending in low price products may indicate a (frequent and loyal) value seeking behavior.\n",
        "\n",
        "* The dataset is clean overall. Only `HaveChildren` column has `NaN` values. Since it accounts for a small subset, they were dropped for clustering. Three outliers were removed (3 customers of exceptionally high `TotalSpending`)\n",
        "\n",
        "* All features are normalized\n",
        "\n",
        "### 2.1 Data Preparation\n",
        "##### **Left join the `ValueTier` and `PriceTier` to the raw data**"
      ]
    },
    {
      "cell_type": "code",
      "metadata": {
        "trusted": true,
        "id": "L86t9OCtcwH7",
        "colab": {
          "base_uri": "https://localhost:8080/",
          "height": 292
        },
        "outputId": "4b35a60b-0745-4bba-985f-2770a3cc4bb0"
      },
      "source": [
        "df_gb = df.copy()\n",
        "df_gb = df_gb.merge(item_UnitPriceMap.drop(columns='Amount').reset_index(),on='ItemID',how='left')\n",
        "df_gb = df_gb.merge(consumer_spend.drop(columns='Amount').reset_index(),on='CustomerID',how='left')\n",
        "df_gb.head()"
      ],
      "execution_count": 347,
      "outputs": [
        {
          "output_type": "execute_result",
          "data": {
            "text/html": [
              "<div>\n",
              "<style scoped>\n",
              "    .dataframe tbody tr th:only-of-type {\n",
              "        vertical-align: middle;\n",
              "    }\n",
              "\n",
              "    .dataframe tbody tr th {\n",
              "        vertical-align: top;\n",
              "    }\n",
              "\n",
              "    .dataframe thead th {\n",
              "        text-align: right;\n",
              "    }\n",
              "</style>\n",
              "<table border=\"1\" class=\"dataframe\">\n",
              "  <thead>\n",
              "    <tr style=\"text-align: right;\">\n",
              "      <th></th>\n",
              "      <th>CustomerID</th>\n",
              "      <th>ItemID</th>\n",
              "      <th>Sex</th>\n",
              "      <th>Age</th>\n",
              "      <th>Profession</th>\n",
              "      <th>CityType</th>\n",
              "      <th>YearsInCity</th>\n",
              "      <th>HaveChildren</th>\n",
              "      <th>ItemCategory1</th>\n",
              "      <th>ItemCategory2</th>\n",
              "      <th>ItemCategory3</th>\n",
              "      <th>Amount</th>\n",
              "      <th>PriceTier</th>\n",
              "      <th>ValueTier</th>\n",
              "    </tr>\n",
              "  </thead>\n",
              "  <tbody>\n",
              "    <tr>\n",
              "      <th>0</th>\n",
              "      <td>1000001</td>\n",
              "      <td>P00069042</td>\n",
              "      <td>F</td>\n",
              "      <td>0-17</td>\n",
              "      <td>10</td>\n",
              "      <td>A</td>\n",
              "      <td>2</td>\n",
              "      <td>0</td>\n",
              "      <td>3</td>\n",
              "      <td>NaN</td>\n",
              "      <td>NaN</td>\n",
              "      <td>8370</td>\n",
              "      <td>High</td>\n",
              "      <td>Low</td>\n",
              "    </tr>\n",
              "    <tr>\n",
              "      <th>1</th>\n",
              "      <td>1000001</td>\n",
              "      <td>P00248942</td>\n",
              "      <td>F</td>\n",
              "      <td>0-17</td>\n",
              "      <td>10</td>\n",
              "      <td>A</td>\n",
              "      <td>2</td>\n",
              "      <td>0</td>\n",
              "      <td>1</td>\n",
              "      <td>6</td>\n",
              "      <td>14</td>\n",
              "      <td>15200</td>\n",
              "      <td>High</td>\n",
              "      <td>Low</td>\n",
              "    </tr>\n",
              "    <tr>\n",
              "      <th>2</th>\n",
              "      <td>1000001</td>\n",
              "      <td>P00087842</td>\n",
              "      <td>F</td>\n",
              "      <td>0-17</td>\n",
              "      <td>10</td>\n",
              "      <td>A</td>\n",
              "      <td>2</td>\n",
              "      <td>0</td>\n",
              "      <td>12</td>\n",
              "      <td>NaN</td>\n",
              "      <td>NaN</td>\n",
              "      <td>1422</td>\n",
              "      <td>Low</td>\n",
              "      <td>Low</td>\n",
              "    </tr>\n",
              "    <tr>\n",
              "      <th>3</th>\n",
              "      <td>1000001</td>\n",
              "      <td>P00085442</td>\n",
              "      <td>F</td>\n",
              "      <td>0-17</td>\n",
              "      <td>10</td>\n",
              "      <td>A</td>\n",
              "      <td>2</td>\n",
              "      <td>0</td>\n",
              "      <td>12</td>\n",
              "      <td>14</td>\n",
              "      <td>NaN</td>\n",
              "      <td>1057</td>\n",
              "      <td>Low</td>\n",
              "      <td>Low</td>\n",
              "    </tr>\n",
              "    <tr>\n",
              "      <th>4</th>\n",
              "      <td>1000002</td>\n",
              "      <td>P00285442</td>\n",
              "      <td>M</td>\n",
              "      <td>55+</td>\n",
              "      <td>16</td>\n",
              "      <td>C</td>\n",
              "      <td>4+</td>\n",
              "      <td>0</td>\n",
              "      <td>8</td>\n",
              "      <td>NaN</td>\n",
              "      <td>NaN</td>\n",
              "      <td>7969</td>\n",
              "      <td>Mid</td>\n",
              "      <td>Mid</td>\n",
              "    </tr>\n",
              "  </tbody>\n",
              "</table>\n",
              "</div>"
            ],
            "text/plain": [
              "  CustomerID     ItemID Sex   Age  ... ItemCategory3 Amount PriceTier ValueTier\n",
              "0    1000001  P00069042   F  0-17  ...           NaN   8370      High       Low\n",
              "1    1000001  P00248942   F  0-17  ...            14  15200      High       Low\n",
              "2    1000001  P00087842   F  0-17  ...           NaN   1422       Low       Low\n",
              "3    1000001  P00085442   F  0-17  ...           NaN   1057       Low       Low\n",
              "4    1000002  P00285442   M   55+  ...           NaN   7969       Mid       Mid\n",
              "\n",
              "[5 rows x 14 columns]"
            ]
          },
          "metadata": {
            "tags": []
          },
          "execution_count": 347
        }
      ]
    },
    {
      "cell_type": "markdown",
      "metadata": {
        "id": "nftx43iYneNk"
      },
      "source": [
        "##### **Obtain demographic labels with `groupby` and save it as `df_demo`**"
      ]
    },
    {
      "cell_type": "code",
      "metadata": {
        "colab": {
          "base_uri": "https://localhost:8080/"
        },
        "id": "ngkp_6c0nODE",
        "outputId": "79e0d5cb-75e1-499d-f1be-419081a8a039"
      },
      "source": [
        "df_demo = df_gb.groupby(['CustomerID','Sex','Age','Profession',\\\n",
        "                       'CityType','YearsInCity','HaveChildren','ValueTier']\\\n",
        "                       ,dropna=False)['Amount']\\\n",
        "                       .sum().reset_index().set_index('CustomerID')\n",
        "df_demo = df_demo.rename(columns={'Amount':'TotalSpending'})\n",
        "df_demo.info()"
      ],
      "execution_count": 349,
      "outputs": [
        {
          "output_type": "stream",
          "text": [
            "<class 'pandas.core.frame.DataFrame'>\n",
            "Index: 5891 entries, 1000001 to 1006040\n",
            "Data columns (total 8 columns):\n",
            " #   Column         Non-Null Count  Dtype \n",
            "---  ------         --------------  ----- \n",
            " 0   Sex            5891 non-null   object\n",
            " 1   Age            5891 non-null   object\n",
            " 2   Profession     5891 non-null   object\n",
            " 3   CityType       5891 non-null   object\n",
            " 4   YearsInCity    5891 non-null   object\n",
            " 5   HaveChildren   5679 non-null   object\n",
            " 6   ValueTier      5890 non-null   object\n",
            " 7   TotalSpending  5891 non-null   int64 \n",
            "dtypes: int64(1), object(7)\n",
            "memory usage: 414.2+ KB\n"
          ],
          "name": "stdout"
        }
      ]
    },
    {
      "cell_type": "markdown",
      "metadata": {
        "id": "dhfE5nHvcwH-"
      },
      "source": [
        "##### **Combine three `ItemCategory` columns to `CatCombo` and save it as `df_combo`** (this feature is not used in the clustering, but it is included in the descriptive analysis)"
      ]
    },
    {
      "cell_type": "code",
      "metadata": {
        "scrolled": true,
        "trusted": true,
        "id": "81Gx5TYPcwH_",
        "colab": {
          "base_uri": "https://localhost:8080/"
        },
        "outputId": "5020868c-9f74-448b-e226-c1655aa61fc5"
      },
      "source": [
        "df_combo = df.copy()\n",
        "\n",
        "df_combo['ItemCategory2'].fillna('N', inplace=True)\n",
        "df_combo['ItemCategory3'].fillna('N', inplace=True)\n",
        "\n",
        "df_combo['CatCombo'] = df_combo['ItemCategory1']+'_'\\\n",
        "                       +df_combo['ItemCategory2']+'_'\\\n",
        "                       +df_combo['ItemCategory3']\n",
        "\n",
        "print(df_combo.sort_values(['CatCombo']).head())"
      ],
      "execution_count": 353,
      "outputs": [
        {
          "output_type": "stream",
          "text": [
            "       CustomerID     ItemID Sex  ... ItemCategory3 Amount  CatCombo\n",
            "137562    1003292  P00308042   F  ...             N  19206   10_11_N\n",
            "409858    1003110  P00346542   M  ...            16   4932  10_13_16\n",
            "3908      1000645  P00116142   M  ...            16  23395  10_13_16\n",
            "220120    1003934  P00161842   M  ...            16   4627  10_13_16\n",
            "130594    1002049  P00116142   F  ...            16  14258  10_13_16\n",
            "\n",
            "[5 rows x 13 columns]\n"
          ],
          "name": "stdout"
        }
      ]
    },
    {
      "cell_type": "markdown",
      "metadata": {
        "id": "gNpHCo97cwH_"
      },
      "source": [
        "Pivot the `CatCombo` column to wide format, resulting in each row respresenting a unique `CustomerID` and each columns contains its spending in each category combo"
      ]
    },
    {
      "cell_type": "code",
      "metadata": {
        "trusted": true,
        "id": "py1cRxmCcwH_",
        "colab": {
          "base_uri": "https://localhost:8080/"
        },
        "outputId": "b67f9b64-ef47-405e-adaf-cd1a71ed5ccf"
      },
      "source": [
        "df_combo = pd.pivot_table(df_combo, values=['Amount'], index=['CustomerID'],\\\n",
        "                          columns=['CatCombo'], aggfunc=np.sum, fill_value=0)\\\n",
        "                          .reset_index().set_index('CustomerID').droplevel(0, axis=1)\n",
        "\n",
        "df_combo.info()"
      ],
      "execution_count": 354,
      "outputs": [
        {
          "output_type": "stream",
          "text": [
            "<class 'pandas.core.frame.DataFrame'>\n",
            "Index: 5891 entries, 1000001 to 1006040\n",
            "Columns: 235 entries, 10_11_N to 9_N_N\n",
            "dtypes: int64(235)\n",
            "memory usage: 10.6+ MB\n"
          ],
          "name": "stdout"
        }
      ]
    },
    {
      "cell_type": "code",
      "metadata": {
        "trusted": true,
        "id": "o9dRMR2WcwIA",
        "colab": {
          "base_uri": "https://localhost:8080/"
        },
        "outputId": "908a8caa-4689-4156-fcda-ca58897d2f67"
      },
      "source": [
        "print(df_combo.head())"
      ],
      "execution_count": 355,
      "outputs": [
        {
          "output_type": "stream",
          "text": [
            "CatCombo    10_11_N  10_13_16  10_13_N  10_14_16  ...  8_9_N   8_N_N  9_15_N  9_N_N\n",
            "CustomerID                                        ...                              \n",
            "1000001           0         0        0         0  ...      0   59604       0      0\n",
            "1000002           0         0        0         0  ...      0  152360       0      0\n",
            "1000003           0         0        0         0  ...      0       0       0      0\n",
            "1000004           0         0        0         0  ...      0       0       0      0\n",
            "1000005           0         0        0         0  ...      0  174152       0      0\n",
            "\n",
            "[5 rows x 235 columns]\n"
          ],
          "name": "stdout"
        }
      ]
    },
    {
      "cell_type": "markdown",
      "metadata": {
        "id": "uv2kdE3yoDPx"
      },
      "source": [
        "##### **Group by `PriceTier` to obtain % of spending in each price tier among the `TotalSpending`**"
      ]
    },
    {
      "cell_type": "code",
      "metadata": {
        "colab": {
          "base_uri": "https://localhost:8080/",
          "height": 235
        },
        "id": "5Se4Piv4ofmx",
        "outputId": "180a45a9-9229-4c68-c751-3a07e8a0a64e"
      },
      "source": [
        "df_pricetier = df_gb.groupby(['CustomerID','PriceTier'],dropna=False)\\\n",
        "                             ['Amount'].sum().reset_index()\\\n",
        "                             .set_index('CustomerID')\n",
        "\n",
        "df_pricetier = pd.pivot_table(df_pricetier, values=['Amount'], index=['CustomerID'],\\\n",
        "                          columns=['PriceTier'], aggfunc=np.sum, fill_value=0)\\\n",
        "                          .reset_index().set_index('CustomerID').droplevel(0, axis=1)\n",
        "\n",
        "df_pricetier.head()"
      ],
      "execution_count": 356,
      "outputs": [
        {
          "output_type": "execute_result",
          "data": {
            "text/html": [
              "<div>\n",
              "<style scoped>\n",
              "    .dataframe tbody tr th:only-of-type {\n",
              "        vertical-align: middle;\n",
              "    }\n",
              "\n",
              "    .dataframe tbody tr th {\n",
              "        vertical-align: top;\n",
              "    }\n",
              "\n",
              "    .dataframe thead th {\n",
              "        text-align: right;\n",
              "    }\n",
              "</style>\n",
              "<table border=\"1\" class=\"dataframe\">\n",
              "  <thead>\n",
              "    <tr style=\"text-align: right;\">\n",
              "      <th>PriceTier</th>\n",
              "      <th>High</th>\n",
              "      <th>Low</th>\n",
              "      <th>Mid</th>\n",
              "    </tr>\n",
              "    <tr>\n",
              "      <th>CustomerID</th>\n",
              "      <th></th>\n",
              "      <th></th>\n",
              "      <th></th>\n",
              "    </tr>\n",
              "  </thead>\n",
              "  <tbody>\n",
              "    <tr>\n",
              "      <th>1000001</th>\n",
              "      <td>173368</td>\n",
              "      <td>9806</td>\n",
              "      <td>150307</td>\n",
              "    </tr>\n",
              "    <tr>\n",
              "      <th>1000002</th>\n",
              "      <td>519534</td>\n",
              "      <td>5144</td>\n",
              "      <td>285675</td>\n",
              "    </tr>\n",
              "    <tr>\n",
              "      <th>1000003</th>\n",
              "      <td>268538</td>\n",
              "      <td>3854</td>\n",
              "      <td>69243</td>\n",
              "    </tr>\n",
              "    <tr>\n",
              "      <th>1000004</th>\n",
              "      <td>205987</td>\n",
              "      <td>0</td>\n",
              "      <td>0</td>\n",
              "    </tr>\n",
              "    <tr>\n",
              "      <th>1000005</th>\n",
              "      <td>425732</td>\n",
              "      <td>22497</td>\n",
              "      <td>372772</td>\n",
              "    </tr>\n",
              "  </tbody>\n",
              "</table>\n",
              "</div>"
            ],
            "text/plain": [
              "PriceTier     High    Low     Mid\n",
              "CustomerID                       \n",
              "1000001     173368   9806  150307\n",
              "1000002     519534   5144  285675\n",
              "1000003     268538   3854   69243\n",
              "1000004     205987      0       0\n",
              "1000005     425732  22497  372772"
            ]
          },
          "metadata": {
            "tags": []
          },
          "execution_count": 356
        }
      ]
    },
    {
      "cell_type": "markdown",
      "metadata": {
        "id": "2haQ5ZMfcwIA"
      },
      "source": [
        "##### **Complie all the features**"
      ]
    },
    {
      "cell_type": "markdown",
      "metadata": {
        "id": "xNRZiKcXrNqY"
      },
      "source": [
        "Convert `PriceTier` spending to %"
      ]
    },
    {
      "cell_type": "code",
      "metadata": {
        "trusted": true,
        "id": "_pLjiaqRcwIA",
        "colab": {
          "base_uri": "https://localhost:8080/",
          "height": 352
        },
        "outputId": "701be88c-921a-4483-8655-6052f1366eb1"
      },
      "source": [
        "df_compile = df_demo.join([df_pricetier])\n",
        "df_compile['HighPerc'] = df_compile['High']/df_compile['TotalSpending']\n",
        "df_compile['MidPerc'] = df_compile['Mid']/df_compile['TotalSpending']\n",
        "df_compile['LowPerc'] = df_compile['Low']/df_compile['TotalSpending']\n",
        "df_compile = df_compile.join([df_combo])\n",
        "\n",
        "df_compile.head()"
      ],
      "execution_count": 357,
      "outputs": [
        {
          "output_type": "execute_result",
          "data": {
            "text/html": [
              "<div>\n",
              "<style scoped>\n",
              "    .dataframe tbody tr th:only-of-type {\n",
              "        vertical-align: middle;\n",
              "    }\n",
              "\n",
              "    .dataframe tbody tr th {\n",
              "        vertical-align: top;\n",
              "    }\n",
              "\n",
              "    .dataframe thead th {\n",
              "        text-align: right;\n",
              "    }\n",
              "</style>\n",
              "<table border=\"1\" class=\"dataframe\">\n",
              "  <thead>\n",
              "    <tr style=\"text-align: right;\">\n",
              "      <th></th>\n",
              "      <th>Sex</th>\n",
              "      <th>Age</th>\n",
              "      <th>Profession</th>\n",
              "      <th>CityType</th>\n",
              "      <th>YearsInCity</th>\n",
              "      <th>HaveChildren</th>\n",
              "      <th>ValueTier</th>\n",
              "      <th>TotalSpending</th>\n",
              "      <th>High</th>\n",
              "      <th>Low</th>\n",
              "      <th>Mid</th>\n",
              "      <th>HighPerc</th>\n",
              "      <th>MidPerc</th>\n",
              "      <th>LowPerc</th>\n",
              "      <th>10_11_N</th>\n",
              "      <th>10_13_16</th>\n",
              "      <th>10_13_N</th>\n",
              "      <th>10_14_16</th>\n",
              "      <th>10_15_16</th>\n",
              "      <th>10_15_N</th>\n",
              "      <th>10_16_N</th>\n",
              "      <th>10_N_N</th>\n",
              "      <th>11_13_16</th>\n",
              "      <th>11_13_N</th>\n",
              "      <th>11_14_N</th>\n",
              "      <th>11_15_16</th>\n",
              "      <th>11_15_N</th>\n",
              "      <th>11_16_N</th>\n",
              "      <th>11_N_N</th>\n",
              "      <th>12_14_17</th>\n",
              "      <th>12_14_N</th>\n",
              "      <th>12_17_N</th>\n",
              "      <th>12_N_N</th>\n",
              "      <th>13_14_16</th>\n",
              "      <th>13_15_16</th>\n",
              "      <th>13_15_N</th>\n",
              "      <th>13_16_N</th>\n",
              "      <th>13_N_N</th>\n",
              "      <th>14_16_N</th>\n",
              "      <th>14_17_N</th>\n",
              "      <th>...</th>\n",
              "      <th>6_11_N</th>\n",
              "      <th>6_13_N</th>\n",
              "      <th>6_16_N</th>\n",
              "      <th>6_8_10</th>\n",
              "      <th>6_8_13</th>\n",
              "      <th>6_8_14</th>\n",
              "      <th>6_8_15</th>\n",
              "      <th>6_8_16</th>\n",
              "      <th>6_8_N</th>\n",
              "      <th>6_N_N</th>\n",
              "      <th>7_12_N</th>\n",
              "      <th>7_17_N</th>\n",
              "      <th>7_8_N</th>\n",
              "      <th>7_N_N</th>\n",
              "      <th>8_10_16</th>\n",
              "      <th>8_10_N</th>\n",
              "      <th>8_11_16</th>\n",
              "      <th>8_11_N</th>\n",
              "      <th>8_12_17</th>\n",
              "      <th>8_12_N</th>\n",
              "      <th>8_13_14</th>\n",
              "      <th>8_13_15</th>\n",
              "      <th>8_13_16</th>\n",
              "      <th>8_13_N</th>\n",
              "      <th>8_14_15</th>\n",
              "      <th>8_14_16</th>\n",
              "      <th>8_14_17</th>\n",
              "      <th>8_14_18</th>\n",
              "      <th>8_14_N</th>\n",
              "      <th>8_15_16</th>\n",
              "      <th>8_15_N</th>\n",
              "      <th>8_16_17</th>\n",
              "      <th>8_16_N</th>\n",
              "      <th>8_17_N</th>\n",
              "      <th>8_18_N</th>\n",
              "      <th>8_9_14</th>\n",
              "      <th>8_9_N</th>\n",
              "      <th>8_N_N</th>\n",
              "      <th>9_15_N</th>\n",
              "      <th>9_N_N</th>\n",
              "    </tr>\n",
              "    <tr>\n",
              "      <th>CustomerID</th>\n",
              "      <th></th>\n",
              "      <th></th>\n",
              "      <th></th>\n",
              "      <th></th>\n",
              "      <th></th>\n",
              "      <th></th>\n",
              "      <th></th>\n",
              "      <th></th>\n",
              "      <th></th>\n",
              "      <th></th>\n",
              "      <th></th>\n",
              "      <th></th>\n",
              "      <th></th>\n",
              "      <th></th>\n",
              "      <th></th>\n",
              "      <th></th>\n",
              "      <th></th>\n",
              "      <th></th>\n",
              "      <th></th>\n",
              "      <th></th>\n",
              "      <th></th>\n",
              "      <th></th>\n",
              "      <th></th>\n",
              "      <th></th>\n",
              "      <th></th>\n",
              "      <th></th>\n",
              "      <th></th>\n",
              "      <th></th>\n",
              "      <th></th>\n",
              "      <th></th>\n",
              "      <th></th>\n",
              "      <th></th>\n",
              "      <th></th>\n",
              "      <th></th>\n",
              "      <th></th>\n",
              "      <th></th>\n",
              "      <th></th>\n",
              "      <th></th>\n",
              "      <th></th>\n",
              "      <th></th>\n",
              "      <th></th>\n",
              "      <th></th>\n",
              "      <th></th>\n",
              "      <th></th>\n",
              "      <th></th>\n",
              "      <th></th>\n",
              "      <th></th>\n",
              "      <th></th>\n",
              "      <th></th>\n",
              "      <th></th>\n",
              "      <th></th>\n",
              "      <th></th>\n",
              "      <th></th>\n",
              "      <th></th>\n",
              "      <th></th>\n",
              "      <th></th>\n",
              "      <th></th>\n",
              "      <th></th>\n",
              "      <th></th>\n",
              "      <th></th>\n",
              "      <th></th>\n",
              "      <th></th>\n",
              "      <th></th>\n",
              "      <th></th>\n",
              "      <th></th>\n",
              "      <th></th>\n",
              "      <th></th>\n",
              "      <th></th>\n",
              "      <th></th>\n",
              "      <th></th>\n",
              "      <th></th>\n",
              "      <th></th>\n",
              "      <th></th>\n",
              "      <th></th>\n",
              "      <th></th>\n",
              "      <th></th>\n",
              "      <th></th>\n",
              "      <th></th>\n",
              "      <th></th>\n",
              "      <th></th>\n",
              "      <th></th>\n",
              "    </tr>\n",
              "  </thead>\n",
              "  <tbody>\n",
              "    <tr>\n",
              "      <th>1000001</th>\n",
              "      <td>F</td>\n",
              "      <td>0-17</td>\n",
              "      <td>10</td>\n",
              "      <td>A</td>\n",
              "      <td>2</td>\n",
              "      <td>0</td>\n",
              "      <td>Low</td>\n",
              "      <td>333481</td>\n",
              "      <td>173368</td>\n",
              "      <td>9806</td>\n",
              "      <td>150307</td>\n",
              "      <td>0.519874</td>\n",
              "      <td>0.450721</td>\n",
              "      <td>0.029405</td>\n",
              "      <td>0</td>\n",
              "      <td>0</td>\n",
              "      <td>0</td>\n",
              "      <td>0</td>\n",
              "      <td>0</td>\n",
              "      <td>0</td>\n",
              "      <td>0</td>\n",
              "      <td>0</td>\n",
              "      <td>0</td>\n",
              "      <td>0</td>\n",
              "      <td>0</td>\n",
              "      <td>0</td>\n",
              "      <td>0</td>\n",
              "      <td>0</td>\n",
              "      <td>0</td>\n",
              "      <td>0</td>\n",
              "      <td>1057</td>\n",
              "      <td>0</td>\n",
              "      <td>3137</td>\n",
              "      <td>0</td>\n",
              "      <td>0</td>\n",
              "      <td>0</td>\n",
              "      <td>0</td>\n",
              "      <td>0</td>\n",
              "      <td>0</td>\n",
              "      <td>0</td>\n",
              "      <td>...</td>\n",
              "      <td>0</td>\n",
              "      <td>0</td>\n",
              "      <td>0</td>\n",
              "      <td>0</td>\n",
              "      <td>0</td>\n",
              "      <td>0</td>\n",
              "      <td>0</td>\n",
              "      <td>16622</td>\n",
              "      <td>0</td>\n",
              "      <td>0</td>\n",
              "      <td>0</td>\n",
              "      <td>0</td>\n",
              "      <td>0</td>\n",
              "      <td>0</td>\n",
              "      <td>0</td>\n",
              "      <td>0</td>\n",
              "      <td>0</td>\n",
              "      <td>0</td>\n",
              "      <td>0</td>\n",
              "      <td>0</td>\n",
              "      <td>0</td>\n",
              "      <td>0</td>\n",
              "      <td>0</td>\n",
              "      <td>0</td>\n",
              "      <td>0</td>\n",
              "      <td>0</td>\n",
              "      <td>0</td>\n",
              "      <td>0</td>\n",
              "      <td>0</td>\n",
              "      <td>0</td>\n",
              "      <td>0</td>\n",
              "      <td>0</td>\n",
              "      <td>0</td>\n",
              "      <td>9938</td>\n",
              "      <td>0</td>\n",
              "      <td>0</td>\n",
              "      <td>0</td>\n",
              "      <td>59604</td>\n",
              "      <td>0</td>\n",
              "      <td>0</td>\n",
              "    </tr>\n",
              "    <tr>\n",
              "      <th>1000002</th>\n",
              "      <td>M</td>\n",
              "      <td>55+</td>\n",
              "      <td>16</td>\n",
              "      <td>C</td>\n",
              "      <td>4+</td>\n",
              "      <td>0</td>\n",
              "      <td>Mid</td>\n",
              "      <td>810353</td>\n",
              "      <td>519534</td>\n",
              "      <td>5144</td>\n",
              "      <td>285675</td>\n",
              "      <td>0.641121</td>\n",
              "      <td>0.352532</td>\n",
              "      <td>0.006348</td>\n",
              "      <td>0</td>\n",
              "      <td>0</td>\n",
              "      <td>0</td>\n",
              "      <td>0</td>\n",
              "      <td>0</td>\n",
              "      <td>0</td>\n",
              "      <td>0</td>\n",
              "      <td>0</td>\n",
              "      <td>0</td>\n",
              "      <td>0</td>\n",
              "      <td>0</td>\n",
              "      <td>0</td>\n",
              "      <td>0</td>\n",
              "      <td>0</td>\n",
              "      <td>0</td>\n",
              "      <td>0</td>\n",
              "      <td>0</td>\n",
              "      <td>0</td>\n",
              "      <td>0</td>\n",
              "      <td>0</td>\n",
              "      <td>0</td>\n",
              "      <td>0</td>\n",
              "      <td>0</td>\n",
              "      <td>0</td>\n",
              "      <td>0</td>\n",
              "      <td>0</td>\n",
              "      <td>...</td>\n",
              "      <td>0</td>\n",
              "      <td>0</td>\n",
              "      <td>0</td>\n",
              "      <td>15952</td>\n",
              "      <td>0</td>\n",
              "      <td>0</td>\n",
              "      <td>0</td>\n",
              "      <td>0</td>\n",
              "      <td>74043</td>\n",
              "      <td>0</td>\n",
              "      <td>0</td>\n",
              "      <td>0</td>\n",
              "      <td>0</td>\n",
              "      <td>0</td>\n",
              "      <td>0</td>\n",
              "      <td>0</td>\n",
              "      <td>0</td>\n",
              "      <td>0</td>\n",
              "      <td>0</td>\n",
              "      <td>0</td>\n",
              "      <td>0</td>\n",
              "      <td>0</td>\n",
              "      <td>0</td>\n",
              "      <td>0</td>\n",
              "      <td>0</td>\n",
              "      <td>0</td>\n",
              "      <td>9899</td>\n",
              "      <td>0</td>\n",
              "      <td>8017</td>\n",
              "      <td>0</td>\n",
              "      <td>16001</td>\n",
              "      <td>0</td>\n",
              "      <td>17865</td>\n",
              "      <td>6187</td>\n",
              "      <td>0</td>\n",
              "      <td>0</td>\n",
              "      <td>0</td>\n",
              "      <td>152360</td>\n",
              "      <td>0</td>\n",
              "      <td>0</td>\n",
              "    </tr>\n",
              "    <tr>\n",
              "      <th>1000003</th>\n",
              "      <td>M</td>\n",
              "      <td>26-35</td>\n",
              "      <td>15</td>\n",
              "      <td>A</td>\n",
              "      <td>3</td>\n",
              "      <td>0</td>\n",
              "      <td>Low</td>\n",
              "      <td>341635</td>\n",
              "      <td>268538</td>\n",
              "      <td>3854</td>\n",
              "      <td>69243</td>\n",
              "      <td>0.786038</td>\n",
              "      <td>0.202681</td>\n",
              "      <td>0.011281</td>\n",
              "      <td>0</td>\n",
              "      <td>0</td>\n",
              "      <td>0</td>\n",
              "      <td>0</td>\n",
              "      <td>0</td>\n",
              "      <td>0</td>\n",
              "      <td>0</td>\n",
              "      <td>0</td>\n",
              "      <td>0</td>\n",
              "      <td>0</td>\n",
              "      <td>0</td>\n",
              "      <td>0</td>\n",
              "      <td>0</td>\n",
              "      <td>0</td>\n",
              "      <td>0</td>\n",
              "      <td>0</td>\n",
              "      <td>0</td>\n",
              "      <td>0</td>\n",
              "      <td>0</td>\n",
              "      <td>0</td>\n",
              "      <td>0</td>\n",
              "      <td>0</td>\n",
              "      <td>0</td>\n",
              "      <td>0</td>\n",
              "      <td>0</td>\n",
              "      <td>0</td>\n",
              "      <td>...</td>\n",
              "      <td>0</td>\n",
              "      <td>0</td>\n",
              "      <td>0</td>\n",
              "      <td>0</td>\n",
              "      <td>0</td>\n",
              "      <td>0</td>\n",
              "      <td>0</td>\n",
              "      <td>0</td>\n",
              "      <td>0</td>\n",
              "      <td>0</td>\n",
              "      <td>0</td>\n",
              "      <td>0</td>\n",
              "      <td>0</td>\n",
              "      <td>0</td>\n",
              "      <td>0</td>\n",
              "      <td>0</td>\n",
              "      <td>0</td>\n",
              "      <td>0</td>\n",
              "      <td>0</td>\n",
              "      <td>0</td>\n",
              "      <td>0</td>\n",
              "      <td>0</td>\n",
              "      <td>0</td>\n",
              "      <td>0</td>\n",
              "      <td>0</td>\n",
              "      <td>0</td>\n",
              "      <td>0</td>\n",
              "      <td>0</td>\n",
              "      <td>0</td>\n",
              "      <td>0</td>\n",
              "      <td>0</td>\n",
              "      <td>0</td>\n",
              "      <td>5817</td>\n",
              "      <td>0</td>\n",
              "      <td>0</td>\n",
              "      <td>0</td>\n",
              "      <td>0</td>\n",
              "      <td>0</td>\n",
              "      <td>0</td>\n",
              "      <td>0</td>\n",
              "    </tr>\n",
              "    <tr>\n",
              "      <th>1000004</th>\n",
              "      <td>M</td>\n",
              "      <td>46-50</td>\n",
              "      <td>7</td>\n",
              "      <td>B</td>\n",
              "      <td>2</td>\n",
              "      <td>1</td>\n",
              "      <td>Low</td>\n",
              "      <td>205987</td>\n",
              "      <td>205987</td>\n",
              "      <td>0</td>\n",
              "      <td>0</td>\n",
              "      <td>1.000000</td>\n",
              "      <td>0.000000</td>\n",
              "      <td>0.000000</td>\n",
              "      <td>0</td>\n",
              "      <td>0</td>\n",
              "      <td>0</td>\n",
              "      <td>0</td>\n",
              "      <td>0</td>\n",
              "      <td>0</td>\n",
              "      <td>0</td>\n",
              "      <td>0</td>\n",
              "      <td>0</td>\n",
              "      <td>0</td>\n",
              "      <td>0</td>\n",
              "      <td>0</td>\n",
              "      <td>0</td>\n",
              "      <td>0</td>\n",
              "      <td>0</td>\n",
              "      <td>0</td>\n",
              "      <td>0</td>\n",
              "      <td>0</td>\n",
              "      <td>0</td>\n",
              "      <td>0</td>\n",
              "      <td>0</td>\n",
              "      <td>0</td>\n",
              "      <td>0</td>\n",
              "      <td>0</td>\n",
              "      <td>0</td>\n",
              "      <td>0</td>\n",
              "      <td>...</td>\n",
              "      <td>0</td>\n",
              "      <td>0</td>\n",
              "      <td>0</td>\n",
              "      <td>0</td>\n",
              "      <td>0</td>\n",
              "      <td>0</td>\n",
              "      <td>0</td>\n",
              "      <td>0</td>\n",
              "      <td>0</td>\n",
              "      <td>0</td>\n",
              "      <td>0</td>\n",
              "      <td>0</td>\n",
              "      <td>0</td>\n",
              "      <td>0</td>\n",
              "      <td>0</td>\n",
              "      <td>0</td>\n",
              "      <td>0</td>\n",
              "      <td>0</td>\n",
              "      <td>0</td>\n",
              "      <td>0</td>\n",
              "      <td>0</td>\n",
              "      <td>0</td>\n",
              "      <td>0</td>\n",
              "      <td>0</td>\n",
              "      <td>0</td>\n",
              "      <td>0</td>\n",
              "      <td>0</td>\n",
              "      <td>0</td>\n",
              "      <td>0</td>\n",
              "      <td>0</td>\n",
              "      <td>0</td>\n",
              "      <td>0</td>\n",
              "      <td>0</td>\n",
              "      <td>0</td>\n",
              "      <td>0</td>\n",
              "      <td>0</td>\n",
              "      <td>0</td>\n",
              "      <td>0</td>\n",
              "      <td>0</td>\n",
              "      <td>0</td>\n",
              "    </tr>\n",
              "    <tr>\n",
              "      <th>1000005</th>\n",
              "      <td>M</td>\n",
              "      <td>26-35</td>\n",
              "      <td>20</td>\n",
              "      <td>A</td>\n",
              "      <td>1</td>\n",
              "      <td>1</td>\n",
              "      <td>Mid</td>\n",
              "      <td>821001</td>\n",
              "      <td>425732</td>\n",
              "      <td>22497</td>\n",
              "      <td>372772</td>\n",
              "      <td>0.518552</td>\n",
              "      <td>0.454046</td>\n",
              "      <td>0.027402</td>\n",
              "      <td>0</td>\n",
              "      <td>0</td>\n",
              "      <td>0</td>\n",
              "      <td>0</td>\n",
              "      <td>0</td>\n",
              "      <td>0</td>\n",
              "      <td>0</td>\n",
              "      <td>0</td>\n",
              "      <td>4653</td>\n",
              "      <td>0</td>\n",
              "      <td>0</td>\n",
              "      <td>0</td>\n",
              "      <td>0</td>\n",
              "      <td>0</td>\n",
              "      <td>5895</td>\n",
              "      <td>0</td>\n",
              "      <td>0</td>\n",
              "      <td>0</td>\n",
              "      <td>0</td>\n",
              "      <td>0</td>\n",
              "      <td>0</td>\n",
              "      <td>0</td>\n",
              "      <td>0</td>\n",
              "      <td>0</td>\n",
              "      <td>0</td>\n",
              "      <td>0</td>\n",
              "      <td>...</td>\n",
              "      <td>4240</td>\n",
              "      <td>0</td>\n",
              "      <td>8232</td>\n",
              "      <td>0</td>\n",
              "      <td>0</td>\n",
              "      <td>0</td>\n",
              "      <td>0</td>\n",
              "      <td>16244</td>\n",
              "      <td>20603</td>\n",
              "      <td>16421</td>\n",
              "      <td>0</td>\n",
              "      <td>0</td>\n",
              "      <td>0</td>\n",
              "      <td>74954</td>\n",
              "      <td>0</td>\n",
              "      <td>0</td>\n",
              "      <td>0</td>\n",
              "      <td>0</td>\n",
              "      <td>0</td>\n",
              "      <td>4004</td>\n",
              "      <td>0</td>\n",
              "      <td>0</td>\n",
              "      <td>4263</td>\n",
              "      <td>7913</td>\n",
              "      <td>0</td>\n",
              "      <td>6181</td>\n",
              "      <td>0</td>\n",
              "      <td>0</td>\n",
              "      <td>28140</td>\n",
              "      <td>0</td>\n",
              "      <td>7803</td>\n",
              "      <td>0</td>\n",
              "      <td>20245</td>\n",
              "      <td>7850</td>\n",
              "      <td>0</td>\n",
              "      <td>0</td>\n",
              "      <td>0</td>\n",
              "      <td>174152</td>\n",
              "      <td>0</td>\n",
              "      <td>0</td>\n",
              "    </tr>\n",
              "  </tbody>\n",
              "</table>\n",
              "<p>5 rows × 249 columns</p>\n",
              "</div>"
            ],
            "text/plain": [
              "           Sex    Age Profession CityType  ... 8_9_N   8_N_N 9_15_N  9_N_N\n",
              "CustomerID                                 ...                            \n",
              "1000001      F   0-17         10        A  ...     0   59604      0      0\n",
              "1000002      M    55+         16        C  ...     0  152360      0      0\n",
              "1000003      M  26-35         15        A  ...     0       0      0      0\n",
              "1000004      M  46-50          7        B  ...     0       0      0      0\n",
              "1000005      M  26-35         20        A  ...     0  174152      0      0\n",
              "\n",
              "[5 rows x 249 columns]"
            ]
          },
          "metadata": {
            "tags": []
          },
          "execution_count": 357
        }
      ]
    },
    {
      "cell_type": "markdown",
      "metadata": {
        "id": "zVaCSn1xcwIB"
      },
      "source": [
        "Drop missing value in `HaveChildren`"
      ]
    },
    {
      "cell_type": "code",
      "metadata": {
        "trusted": true,
        "id": "r-8oRW-fcwIC",
        "colab": {
          "base_uri": "https://localhost:8080/"
        },
        "outputId": "bc3e89f8-bfc0-448b-c4b3-538c11ee9cce"
      },
      "source": [
        "df_dropna = df_compile.dropna(subset=['HaveChildren'])\n",
        "df_dropna.info()"
      ],
      "execution_count": 358,
      "outputs": [
        {
          "output_type": "stream",
          "text": [
            "<class 'pandas.core.frame.DataFrame'>\n",
            "Index: 5679 entries, 1000001 to 1006040\n",
            "Columns: 249 entries, Sex to 9_N_N\n",
            "dtypes: float64(3), int64(239), object(7)\n",
            "memory usage: 10.8+ MB\n"
          ],
          "name": "stdout"
        }
      ]
    },
    {
      "cell_type": "markdown",
      "metadata": {
        "id": "cjPVow5DcwIC"
      },
      "source": [
        "Drop outliers (`TotalSpending` >= 7M)"
      ]
    },
    {
      "cell_type": "code",
      "metadata": {
        "trusted": true,
        "id": "4wYpm-aTcwIC",
        "colab": {
          "base_uri": "https://localhost:8080/"
        },
        "outputId": "10e3f30e-1c0c-4918-b179-d8558a5a2b36"
      },
      "source": [
        "df_inliner = df_dropna.drop(consumer_spend_outlier)\n",
        "df_inliner.info()"
      ],
      "execution_count": 359,
      "outputs": [
        {
          "output_type": "stream",
          "text": [
            "<class 'pandas.core.frame.DataFrame'>\n",
            "Index: 5676 entries, 1000001 to 1006040\n",
            "Columns: 249 entries, Sex to 9_N_N\n",
            "dtypes: float64(3), int64(239), object(7)\n",
            "memory usage: 10.8+ MB\n"
          ],
          "name": "stdout"
        }
      ]
    },
    {
      "cell_type": "code",
      "metadata": {
        "colab": {
          "base_uri": "https://localhost:8080/",
          "height": 352
        },
        "id": "WsScC-1c2YWc",
        "outputId": "fa25ce6a-d4fd-4bf1-9445-0ba0af1e4425"
      },
      "source": [
        "df_inliner.head()"
      ],
      "execution_count": 360,
      "outputs": [
        {
          "output_type": "execute_result",
          "data": {
            "text/html": [
              "<div>\n",
              "<style scoped>\n",
              "    .dataframe tbody tr th:only-of-type {\n",
              "        vertical-align: middle;\n",
              "    }\n",
              "\n",
              "    .dataframe tbody tr th {\n",
              "        vertical-align: top;\n",
              "    }\n",
              "\n",
              "    .dataframe thead th {\n",
              "        text-align: right;\n",
              "    }\n",
              "</style>\n",
              "<table border=\"1\" class=\"dataframe\">\n",
              "  <thead>\n",
              "    <tr style=\"text-align: right;\">\n",
              "      <th></th>\n",
              "      <th>Sex</th>\n",
              "      <th>Age</th>\n",
              "      <th>Profession</th>\n",
              "      <th>CityType</th>\n",
              "      <th>YearsInCity</th>\n",
              "      <th>HaveChildren</th>\n",
              "      <th>ValueTier</th>\n",
              "      <th>TotalSpending</th>\n",
              "      <th>High</th>\n",
              "      <th>Low</th>\n",
              "      <th>Mid</th>\n",
              "      <th>HighPerc</th>\n",
              "      <th>MidPerc</th>\n",
              "      <th>LowPerc</th>\n",
              "      <th>10_11_N</th>\n",
              "      <th>10_13_16</th>\n",
              "      <th>10_13_N</th>\n",
              "      <th>10_14_16</th>\n",
              "      <th>10_15_16</th>\n",
              "      <th>10_15_N</th>\n",
              "      <th>10_16_N</th>\n",
              "      <th>10_N_N</th>\n",
              "      <th>11_13_16</th>\n",
              "      <th>11_13_N</th>\n",
              "      <th>11_14_N</th>\n",
              "      <th>11_15_16</th>\n",
              "      <th>11_15_N</th>\n",
              "      <th>11_16_N</th>\n",
              "      <th>11_N_N</th>\n",
              "      <th>12_14_17</th>\n",
              "      <th>12_14_N</th>\n",
              "      <th>12_17_N</th>\n",
              "      <th>12_N_N</th>\n",
              "      <th>13_14_16</th>\n",
              "      <th>13_15_16</th>\n",
              "      <th>13_15_N</th>\n",
              "      <th>13_16_N</th>\n",
              "      <th>13_N_N</th>\n",
              "      <th>14_16_N</th>\n",
              "      <th>14_17_N</th>\n",
              "      <th>...</th>\n",
              "      <th>6_11_N</th>\n",
              "      <th>6_13_N</th>\n",
              "      <th>6_16_N</th>\n",
              "      <th>6_8_10</th>\n",
              "      <th>6_8_13</th>\n",
              "      <th>6_8_14</th>\n",
              "      <th>6_8_15</th>\n",
              "      <th>6_8_16</th>\n",
              "      <th>6_8_N</th>\n",
              "      <th>6_N_N</th>\n",
              "      <th>7_12_N</th>\n",
              "      <th>7_17_N</th>\n",
              "      <th>7_8_N</th>\n",
              "      <th>7_N_N</th>\n",
              "      <th>8_10_16</th>\n",
              "      <th>8_10_N</th>\n",
              "      <th>8_11_16</th>\n",
              "      <th>8_11_N</th>\n",
              "      <th>8_12_17</th>\n",
              "      <th>8_12_N</th>\n",
              "      <th>8_13_14</th>\n",
              "      <th>8_13_15</th>\n",
              "      <th>8_13_16</th>\n",
              "      <th>8_13_N</th>\n",
              "      <th>8_14_15</th>\n",
              "      <th>8_14_16</th>\n",
              "      <th>8_14_17</th>\n",
              "      <th>8_14_18</th>\n",
              "      <th>8_14_N</th>\n",
              "      <th>8_15_16</th>\n",
              "      <th>8_15_N</th>\n",
              "      <th>8_16_17</th>\n",
              "      <th>8_16_N</th>\n",
              "      <th>8_17_N</th>\n",
              "      <th>8_18_N</th>\n",
              "      <th>8_9_14</th>\n",
              "      <th>8_9_N</th>\n",
              "      <th>8_N_N</th>\n",
              "      <th>9_15_N</th>\n",
              "      <th>9_N_N</th>\n",
              "    </tr>\n",
              "    <tr>\n",
              "      <th>CustomerID</th>\n",
              "      <th></th>\n",
              "      <th></th>\n",
              "      <th></th>\n",
              "      <th></th>\n",
              "      <th></th>\n",
              "      <th></th>\n",
              "      <th></th>\n",
              "      <th></th>\n",
              "      <th></th>\n",
              "      <th></th>\n",
              "      <th></th>\n",
              "      <th></th>\n",
              "      <th></th>\n",
              "      <th></th>\n",
              "      <th></th>\n",
              "      <th></th>\n",
              "      <th></th>\n",
              "      <th></th>\n",
              "      <th></th>\n",
              "      <th></th>\n",
              "      <th></th>\n",
              "      <th></th>\n",
              "      <th></th>\n",
              "      <th></th>\n",
              "      <th></th>\n",
              "      <th></th>\n",
              "      <th></th>\n",
              "      <th></th>\n",
              "      <th></th>\n",
              "      <th></th>\n",
              "      <th></th>\n",
              "      <th></th>\n",
              "      <th></th>\n",
              "      <th></th>\n",
              "      <th></th>\n",
              "      <th></th>\n",
              "      <th></th>\n",
              "      <th></th>\n",
              "      <th></th>\n",
              "      <th></th>\n",
              "      <th></th>\n",
              "      <th></th>\n",
              "      <th></th>\n",
              "      <th></th>\n",
              "      <th></th>\n",
              "      <th></th>\n",
              "      <th></th>\n",
              "      <th></th>\n",
              "      <th></th>\n",
              "      <th></th>\n",
              "      <th></th>\n",
              "      <th></th>\n",
              "      <th></th>\n",
              "      <th></th>\n",
              "      <th></th>\n",
              "      <th></th>\n",
              "      <th></th>\n",
              "      <th></th>\n",
              "      <th></th>\n",
              "      <th></th>\n",
              "      <th></th>\n",
              "      <th></th>\n",
              "      <th></th>\n",
              "      <th></th>\n",
              "      <th></th>\n",
              "      <th></th>\n",
              "      <th></th>\n",
              "      <th></th>\n",
              "      <th></th>\n",
              "      <th></th>\n",
              "      <th></th>\n",
              "      <th></th>\n",
              "      <th></th>\n",
              "      <th></th>\n",
              "      <th></th>\n",
              "      <th></th>\n",
              "      <th></th>\n",
              "      <th></th>\n",
              "      <th></th>\n",
              "      <th></th>\n",
              "      <th></th>\n",
              "    </tr>\n",
              "  </thead>\n",
              "  <tbody>\n",
              "    <tr>\n",
              "      <th>1000001</th>\n",
              "      <td>F</td>\n",
              "      <td>0-17</td>\n",
              "      <td>10</td>\n",
              "      <td>A</td>\n",
              "      <td>2</td>\n",
              "      <td>0</td>\n",
              "      <td>Low</td>\n",
              "      <td>333481</td>\n",
              "      <td>173368</td>\n",
              "      <td>9806</td>\n",
              "      <td>150307</td>\n",
              "      <td>0.519874</td>\n",
              "      <td>0.450721</td>\n",
              "      <td>0.029405</td>\n",
              "      <td>0</td>\n",
              "      <td>0</td>\n",
              "      <td>0</td>\n",
              "      <td>0</td>\n",
              "      <td>0</td>\n",
              "      <td>0</td>\n",
              "      <td>0</td>\n",
              "      <td>0</td>\n",
              "      <td>0</td>\n",
              "      <td>0</td>\n",
              "      <td>0</td>\n",
              "      <td>0</td>\n",
              "      <td>0</td>\n",
              "      <td>0</td>\n",
              "      <td>0</td>\n",
              "      <td>0</td>\n",
              "      <td>1057</td>\n",
              "      <td>0</td>\n",
              "      <td>3137</td>\n",
              "      <td>0</td>\n",
              "      <td>0</td>\n",
              "      <td>0</td>\n",
              "      <td>0</td>\n",
              "      <td>0</td>\n",
              "      <td>0</td>\n",
              "      <td>0</td>\n",
              "      <td>...</td>\n",
              "      <td>0</td>\n",
              "      <td>0</td>\n",
              "      <td>0</td>\n",
              "      <td>0</td>\n",
              "      <td>0</td>\n",
              "      <td>0</td>\n",
              "      <td>0</td>\n",
              "      <td>16622</td>\n",
              "      <td>0</td>\n",
              "      <td>0</td>\n",
              "      <td>0</td>\n",
              "      <td>0</td>\n",
              "      <td>0</td>\n",
              "      <td>0</td>\n",
              "      <td>0</td>\n",
              "      <td>0</td>\n",
              "      <td>0</td>\n",
              "      <td>0</td>\n",
              "      <td>0</td>\n",
              "      <td>0</td>\n",
              "      <td>0</td>\n",
              "      <td>0</td>\n",
              "      <td>0</td>\n",
              "      <td>0</td>\n",
              "      <td>0</td>\n",
              "      <td>0</td>\n",
              "      <td>0</td>\n",
              "      <td>0</td>\n",
              "      <td>0</td>\n",
              "      <td>0</td>\n",
              "      <td>0</td>\n",
              "      <td>0</td>\n",
              "      <td>0</td>\n",
              "      <td>9938</td>\n",
              "      <td>0</td>\n",
              "      <td>0</td>\n",
              "      <td>0</td>\n",
              "      <td>59604</td>\n",
              "      <td>0</td>\n",
              "      <td>0</td>\n",
              "    </tr>\n",
              "    <tr>\n",
              "      <th>1000002</th>\n",
              "      <td>M</td>\n",
              "      <td>55+</td>\n",
              "      <td>16</td>\n",
              "      <td>C</td>\n",
              "      <td>4+</td>\n",
              "      <td>0</td>\n",
              "      <td>Mid</td>\n",
              "      <td>810353</td>\n",
              "      <td>519534</td>\n",
              "      <td>5144</td>\n",
              "      <td>285675</td>\n",
              "      <td>0.641121</td>\n",
              "      <td>0.352532</td>\n",
              "      <td>0.006348</td>\n",
              "      <td>0</td>\n",
              "      <td>0</td>\n",
              "      <td>0</td>\n",
              "      <td>0</td>\n",
              "      <td>0</td>\n",
              "      <td>0</td>\n",
              "      <td>0</td>\n",
              "      <td>0</td>\n",
              "      <td>0</td>\n",
              "      <td>0</td>\n",
              "      <td>0</td>\n",
              "      <td>0</td>\n",
              "      <td>0</td>\n",
              "      <td>0</td>\n",
              "      <td>0</td>\n",
              "      <td>0</td>\n",
              "      <td>0</td>\n",
              "      <td>0</td>\n",
              "      <td>0</td>\n",
              "      <td>0</td>\n",
              "      <td>0</td>\n",
              "      <td>0</td>\n",
              "      <td>0</td>\n",
              "      <td>0</td>\n",
              "      <td>0</td>\n",
              "      <td>0</td>\n",
              "      <td>...</td>\n",
              "      <td>0</td>\n",
              "      <td>0</td>\n",
              "      <td>0</td>\n",
              "      <td>15952</td>\n",
              "      <td>0</td>\n",
              "      <td>0</td>\n",
              "      <td>0</td>\n",
              "      <td>0</td>\n",
              "      <td>74043</td>\n",
              "      <td>0</td>\n",
              "      <td>0</td>\n",
              "      <td>0</td>\n",
              "      <td>0</td>\n",
              "      <td>0</td>\n",
              "      <td>0</td>\n",
              "      <td>0</td>\n",
              "      <td>0</td>\n",
              "      <td>0</td>\n",
              "      <td>0</td>\n",
              "      <td>0</td>\n",
              "      <td>0</td>\n",
              "      <td>0</td>\n",
              "      <td>0</td>\n",
              "      <td>0</td>\n",
              "      <td>0</td>\n",
              "      <td>0</td>\n",
              "      <td>9899</td>\n",
              "      <td>0</td>\n",
              "      <td>8017</td>\n",
              "      <td>0</td>\n",
              "      <td>16001</td>\n",
              "      <td>0</td>\n",
              "      <td>17865</td>\n",
              "      <td>6187</td>\n",
              "      <td>0</td>\n",
              "      <td>0</td>\n",
              "      <td>0</td>\n",
              "      <td>152360</td>\n",
              "      <td>0</td>\n",
              "      <td>0</td>\n",
              "    </tr>\n",
              "    <tr>\n",
              "      <th>1000003</th>\n",
              "      <td>M</td>\n",
              "      <td>26-35</td>\n",
              "      <td>15</td>\n",
              "      <td>A</td>\n",
              "      <td>3</td>\n",
              "      <td>0</td>\n",
              "      <td>Low</td>\n",
              "      <td>341635</td>\n",
              "      <td>268538</td>\n",
              "      <td>3854</td>\n",
              "      <td>69243</td>\n",
              "      <td>0.786038</td>\n",
              "      <td>0.202681</td>\n",
              "      <td>0.011281</td>\n",
              "      <td>0</td>\n",
              "      <td>0</td>\n",
              "      <td>0</td>\n",
              "      <td>0</td>\n",
              "      <td>0</td>\n",
              "      <td>0</td>\n",
              "      <td>0</td>\n",
              "      <td>0</td>\n",
              "      <td>0</td>\n",
              "      <td>0</td>\n",
              "      <td>0</td>\n",
              "      <td>0</td>\n",
              "      <td>0</td>\n",
              "      <td>0</td>\n",
              "      <td>0</td>\n",
              "      <td>0</td>\n",
              "      <td>0</td>\n",
              "      <td>0</td>\n",
              "      <td>0</td>\n",
              "      <td>0</td>\n",
              "      <td>0</td>\n",
              "      <td>0</td>\n",
              "      <td>0</td>\n",
              "      <td>0</td>\n",
              "      <td>0</td>\n",
              "      <td>0</td>\n",
              "      <td>...</td>\n",
              "      <td>0</td>\n",
              "      <td>0</td>\n",
              "      <td>0</td>\n",
              "      <td>0</td>\n",
              "      <td>0</td>\n",
              "      <td>0</td>\n",
              "      <td>0</td>\n",
              "      <td>0</td>\n",
              "      <td>0</td>\n",
              "      <td>0</td>\n",
              "      <td>0</td>\n",
              "      <td>0</td>\n",
              "      <td>0</td>\n",
              "      <td>0</td>\n",
              "      <td>0</td>\n",
              "      <td>0</td>\n",
              "      <td>0</td>\n",
              "      <td>0</td>\n",
              "      <td>0</td>\n",
              "      <td>0</td>\n",
              "      <td>0</td>\n",
              "      <td>0</td>\n",
              "      <td>0</td>\n",
              "      <td>0</td>\n",
              "      <td>0</td>\n",
              "      <td>0</td>\n",
              "      <td>0</td>\n",
              "      <td>0</td>\n",
              "      <td>0</td>\n",
              "      <td>0</td>\n",
              "      <td>0</td>\n",
              "      <td>0</td>\n",
              "      <td>5817</td>\n",
              "      <td>0</td>\n",
              "      <td>0</td>\n",
              "      <td>0</td>\n",
              "      <td>0</td>\n",
              "      <td>0</td>\n",
              "      <td>0</td>\n",
              "      <td>0</td>\n",
              "    </tr>\n",
              "    <tr>\n",
              "      <th>1000004</th>\n",
              "      <td>M</td>\n",
              "      <td>46-50</td>\n",
              "      <td>7</td>\n",
              "      <td>B</td>\n",
              "      <td>2</td>\n",
              "      <td>1</td>\n",
              "      <td>Low</td>\n",
              "      <td>205987</td>\n",
              "      <td>205987</td>\n",
              "      <td>0</td>\n",
              "      <td>0</td>\n",
              "      <td>1.000000</td>\n",
              "      <td>0.000000</td>\n",
              "      <td>0.000000</td>\n",
              "      <td>0</td>\n",
              "      <td>0</td>\n",
              "      <td>0</td>\n",
              "      <td>0</td>\n",
              "      <td>0</td>\n",
              "      <td>0</td>\n",
              "      <td>0</td>\n",
              "      <td>0</td>\n",
              "      <td>0</td>\n",
              "      <td>0</td>\n",
              "      <td>0</td>\n",
              "      <td>0</td>\n",
              "      <td>0</td>\n",
              "      <td>0</td>\n",
              "      <td>0</td>\n",
              "      <td>0</td>\n",
              "      <td>0</td>\n",
              "      <td>0</td>\n",
              "      <td>0</td>\n",
              "      <td>0</td>\n",
              "      <td>0</td>\n",
              "      <td>0</td>\n",
              "      <td>0</td>\n",
              "      <td>0</td>\n",
              "      <td>0</td>\n",
              "      <td>0</td>\n",
              "      <td>...</td>\n",
              "      <td>0</td>\n",
              "      <td>0</td>\n",
              "      <td>0</td>\n",
              "      <td>0</td>\n",
              "      <td>0</td>\n",
              "      <td>0</td>\n",
              "      <td>0</td>\n",
              "      <td>0</td>\n",
              "      <td>0</td>\n",
              "      <td>0</td>\n",
              "      <td>0</td>\n",
              "      <td>0</td>\n",
              "      <td>0</td>\n",
              "      <td>0</td>\n",
              "      <td>0</td>\n",
              "      <td>0</td>\n",
              "      <td>0</td>\n",
              "      <td>0</td>\n",
              "      <td>0</td>\n",
              "      <td>0</td>\n",
              "      <td>0</td>\n",
              "      <td>0</td>\n",
              "      <td>0</td>\n",
              "      <td>0</td>\n",
              "      <td>0</td>\n",
              "      <td>0</td>\n",
              "      <td>0</td>\n",
              "      <td>0</td>\n",
              "      <td>0</td>\n",
              "      <td>0</td>\n",
              "      <td>0</td>\n",
              "      <td>0</td>\n",
              "      <td>0</td>\n",
              "      <td>0</td>\n",
              "      <td>0</td>\n",
              "      <td>0</td>\n",
              "      <td>0</td>\n",
              "      <td>0</td>\n",
              "      <td>0</td>\n",
              "      <td>0</td>\n",
              "    </tr>\n",
              "    <tr>\n",
              "      <th>1000005</th>\n",
              "      <td>M</td>\n",
              "      <td>26-35</td>\n",
              "      <td>20</td>\n",
              "      <td>A</td>\n",
              "      <td>1</td>\n",
              "      <td>1</td>\n",
              "      <td>Mid</td>\n",
              "      <td>821001</td>\n",
              "      <td>425732</td>\n",
              "      <td>22497</td>\n",
              "      <td>372772</td>\n",
              "      <td>0.518552</td>\n",
              "      <td>0.454046</td>\n",
              "      <td>0.027402</td>\n",
              "      <td>0</td>\n",
              "      <td>0</td>\n",
              "      <td>0</td>\n",
              "      <td>0</td>\n",
              "      <td>0</td>\n",
              "      <td>0</td>\n",
              "      <td>0</td>\n",
              "      <td>0</td>\n",
              "      <td>4653</td>\n",
              "      <td>0</td>\n",
              "      <td>0</td>\n",
              "      <td>0</td>\n",
              "      <td>0</td>\n",
              "      <td>0</td>\n",
              "      <td>5895</td>\n",
              "      <td>0</td>\n",
              "      <td>0</td>\n",
              "      <td>0</td>\n",
              "      <td>0</td>\n",
              "      <td>0</td>\n",
              "      <td>0</td>\n",
              "      <td>0</td>\n",
              "      <td>0</td>\n",
              "      <td>0</td>\n",
              "      <td>0</td>\n",
              "      <td>0</td>\n",
              "      <td>...</td>\n",
              "      <td>4240</td>\n",
              "      <td>0</td>\n",
              "      <td>8232</td>\n",
              "      <td>0</td>\n",
              "      <td>0</td>\n",
              "      <td>0</td>\n",
              "      <td>0</td>\n",
              "      <td>16244</td>\n",
              "      <td>20603</td>\n",
              "      <td>16421</td>\n",
              "      <td>0</td>\n",
              "      <td>0</td>\n",
              "      <td>0</td>\n",
              "      <td>74954</td>\n",
              "      <td>0</td>\n",
              "      <td>0</td>\n",
              "      <td>0</td>\n",
              "      <td>0</td>\n",
              "      <td>0</td>\n",
              "      <td>4004</td>\n",
              "      <td>0</td>\n",
              "      <td>0</td>\n",
              "      <td>4263</td>\n",
              "      <td>7913</td>\n",
              "      <td>0</td>\n",
              "      <td>6181</td>\n",
              "      <td>0</td>\n",
              "      <td>0</td>\n",
              "      <td>28140</td>\n",
              "      <td>0</td>\n",
              "      <td>7803</td>\n",
              "      <td>0</td>\n",
              "      <td>20245</td>\n",
              "      <td>7850</td>\n",
              "      <td>0</td>\n",
              "      <td>0</td>\n",
              "      <td>0</td>\n",
              "      <td>174152</td>\n",
              "      <td>0</td>\n",
              "      <td>0</td>\n",
              "    </tr>\n",
              "  </tbody>\n",
              "</table>\n",
              "<p>5 rows × 249 columns</p>\n",
              "</div>"
            ],
            "text/plain": [
              "           Sex    Age Profession CityType  ... 8_9_N   8_N_N 9_15_N  9_N_N\n",
              "CustomerID                                 ...                            \n",
              "1000001      F   0-17         10        A  ...     0   59604      0      0\n",
              "1000002      M    55+         16        C  ...     0  152360      0      0\n",
              "1000003      M  26-35         15        A  ...     0       0      0      0\n",
              "1000004      M  46-50          7        B  ...     0       0      0      0\n",
              "1000005      M  26-35         20        A  ...     0  174152      0      0\n",
              "\n",
              "[5 rows x 249 columns]"
            ]
          },
          "metadata": {
            "tags": []
          },
          "execution_count": 360
        }
      ]
    },
    {
      "cell_type": "markdown",
      "metadata": {
        "id": "1kV_sa_0cwIC"
      },
      "source": [
        "### 2.2 K-mean Clustering"
      ]
    },
    {
      "cell_type": "markdown",
      "metadata": {
        "id": "PpesbGQvcwIH"
      },
      "source": [
        "##### **Build the pipeline**"
      ]
    },
    {
      "cell_type": "code",
      "metadata": {
        "trusted": false,
        "id": "xc1vsb9WcwIH"
      },
      "source": [
        "def KMeanCluster(n, data):\n",
        "    \n",
        "    preprocessor = Pipeline(\n",
        "        [\n",
        "            (\"scaler\", MinMaxScaler())\n",
        "        ]\n",
        "    )\n",
        "\n",
        "    clusterer = Pipeline(\n",
        "       [\n",
        "           (\n",
        "               \"kmeans\",\n",
        "               KMeans(\n",
        "                   n_clusters=n,\n",
        "                   init=\"k-means++\",\n",
        "                   n_init=50,\n",
        "                   max_iter=500,\n",
        "                   random_state=99,\n",
        "               ),\n",
        "           ),\n",
        "       ]\n",
        "    )\n",
        "\n",
        "    pipe = Pipeline(\n",
        "        [\n",
        "            (\"preprocessor\", preprocessor),\n",
        "            (\"clusterer\", clusterer)\n",
        "        ]\n",
        "    )\n",
        "\n",
        "    pipe.fit(data)\n",
        "    \n",
        "    preprocessed_data = pipe[\"preprocessor\"].transform(data)\n",
        "\n",
        "    predicted_labels = pipe[\"clusterer\"][\"kmeans\"].labels_\n",
        "\n",
        "    sse = pipe[\"clusterer\"][\"kmeans\"].inertia_\n",
        "    \n",
        "    ss = silhouette_score(preprocessed_data, predicted_labels)\n",
        "\n",
        "    return predicted_labels, sse, ss"
      ],
      "execution_count": 437,
      "outputs": []
    },
    {
      "cell_type": "markdown",
      "metadata": {
        "id": "8acf7A4acwIH"
      },
      "source": [
        "##### **Vectorize the data**"
      ]
    },
    {
      "cell_type": "code",
      "metadata": {
        "trusted": false,
        "id": "Ya-WAqbjcwIH",
        "colab": {
          "base_uri": "https://localhost:8080/"
        },
        "outputId": "6aebac73-47a9-4881-ff63-ffeb9a2d8f78"
      },
      "source": [
        "features = df_inliner[['TotalSpending','HighPerc','MidPerc','LowPerc']].to_numpy()\n",
        "features"
      ],
      "execution_count": 448,
      "outputs": [
        {
          "output_type": "execute_result",
          "data": {
            "text/plain": [
              "array([[3.33481000e+05, 5.19873696e-01, 4.50721330e-01, 2.94049736e-02],\n",
              "       [8.10353000e+05, 6.41120598e-01, 3.52531551e-01, 6.34785087e-03],\n",
              "       [3.41635000e+05, 7.86037730e-01, 2.02681224e-01, 1.12810456e-02],\n",
              "       ...,\n",
              "       [8.08590000e+04, 3.33840389e-01, 6.66159611e-01, 0.00000000e+00],\n",
              "       [5.54504000e+05, 5.56731782e-01, 4.24597478e-01, 1.86707400e-02],\n",
              "       [1.56261500e+06, 5.26959616e-01, 4.51783069e-01, 2.12573155e-02]])"
            ]
          },
          "metadata": {
            "tags": []
          },
          "execution_count": 448
        }
      ]
    },
    {
      "cell_type": "markdown",
      "metadata": {
        "id": "wDpwFK9m0XYb"
      },
      "source": [
        "##### **Run the model**"
      ]
    },
    {
      "cell_type": "code",
      "metadata": {
        "scrolled": false,
        "trusted": false,
        "id": "MKmCVjfIcwIH"
      },
      "source": [
        "# A list holds the silhouette coefficients for each k\n",
        "silhouette_coefficients = []\n",
        "predicted_labels = []\n",
        "sseList = []\n",
        "    \n",
        "for k in range(2, 11):\n",
        "    pred_labels, sse, ss = KMeanCluster(k, features)\n",
        "    silhouette_coefficients.append(ss)\n",
        "    predicted_labels.append(pred_labels)\n",
        "    sseList.append(sse)"
      ],
      "execution_count": 449,
      "outputs": []
    },
    {
      "cell_type": "markdown",
      "metadata": {
        "id": "VOA1N7vx0dMY"
      },
      "source": [
        "##### **Evaluate the models and choose right number of clusters**\n",
        "Based on `SC` and `SSE` metrics, `4` clusters appear to be sensible numbers"
      ]
    },
    {
      "cell_type": "code",
      "metadata": {
        "colab": {
          "base_uri": "https://localhost:8080/",
          "height": 304
        },
        "id": "p3p2hdVvrliy",
        "outputId": "852f93af-53a0-40b1-94c5-dec2e69a0507"
      },
      "source": [
        "## Determine the max(sc) from plot\n",
        "plt.style.use(\"fivethirtyeight\")\n",
        "plt.plot(range(2, 11), silhouette_coefficients)\n",
        "plt.xticks(range(2, 11))\n",
        "plt.xlabel(\"Number of Clusters\")\n",
        "plt.ylabel(\"Silhouette Coefficient\")\n",
        "plt.show()"
      ],
      "execution_count": 450,
      "outputs": [
        {
          "output_type": "display_data",
          "data": {
            "image/png": "[encoded data removed]",
            "text/plain": [
              "<Figure size 432x288 with 1 Axes>"
            ]
          },
          "metadata": {
            "tags": []
          }
        }
      ]
    },
    {
      "cell_type": "code",
      "metadata": {
        "colab": {
          "base_uri": "https://localhost:8080/",
          "height": 304
        },
        "id": "Gki6_qqQru_s",
        "outputId": "606fe84a-949c-4eda-c5dc-fb4017127d43"
      },
      "source": [
        "# ## Determine the elbow from plot\n",
        "plt.style.use(\"fivethirtyeight\")\n",
        "plt.plot(range(2, 11), sseList)\n",
        "plt.xticks(range(2, 11))\n",
        "plt.xlabel(\"Number of Clusters\")\n",
        "plt.ylabel(\"SSE\")\n",
        "plt.show()"
      ],
      "execution_count": 451,
      "outputs": [
        {
          "output_type": "display_data",
          "data": {
            "image/png": "[encoded data removed]",
            "text/plain": [
              "<Figure size 432x288 with 1 Axes>"
            ]
          },
          "metadata": {
            "tags": []
          }
        }
      ]
    },
    {
      "cell_type": "code",
      "metadata": {
        "colab": {
          "base_uri": "https://localhost:8080/"
        },
        "id": "cGsiSW8ll0qR",
        "outputId": "50450bea-d13b-4ac1-c7d2-e16e93c3f80f"
      },
      "source": [
        "## Determine the elbow programmatically\n",
        "kl = KneeLocator(\n",
        "    range(2, 11), sseList, curve=\"convex\", direction=\"decreasing\"\n",
        ")\n",
        "\n",
        "kl.elbow"
      ],
      "execution_count": 452,
      "outputs": [
        {
          "output_type": "execute_result",
          "data": {
            "text/plain": [
              "4"
            ]
          },
          "metadata": {
            "tags": []
          },
          "execution_count": 452
        }
      ]
    },
    {
      "cell_type": "markdown",
      "metadata": {
        "id": "x_JhsPSMcwIN"
      },
      "source": [
        "##### Assigning labels to each row"
      ]
    },
    {
      "cell_type": "code",
      "metadata": {
        "colab": {
          "base_uri": "https://localhost:8080/"
        },
        "id": "mF_zy1HW66Zy",
        "outputId": "9d7a97bc-6c77-4c2a-9229-b4b4bd5d66b6"
      },
      "source": [
        "df_clustered = df_inliner.copy()\n",
        "df_clustered['cluster'] = predicted_labels[1]\n",
        "\n",
        "replace_map = {'cluster': {1: 'Loyal', 2: 'Quality', 0: 'Value'}}\n",
        "df_clustered.replace(replace_map, inplace=True)\n",
        "\n",
        "df_clustered = df_clustered.reset_index()\n",
        "df_clustered.groupby('cluster')['CustomerID'].count()"
      ],
      "execution_count": 463,
      "outputs": [
        {
          "output_type": "execute_result",
          "data": {
            "text/plain": [
              "cluster\n",
              "Loyal      2585\n",
              "Quality    1697\n",
              "Value      1394\n",
              "Name: CustomerID, dtype: int64"
            ]
          },
          "metadata": {
            "tags": []
          },
          "execution_count": 463
        }
      ]
    },
    {
      "cell_type": "code",
      "metadata": {
        "id": "R1Lu6OlqKbJV"
      },
      "source": [
        "df_clustered.to_csv('clustered_data.csv')"
      ],
      "execution_count": 477,
      "outputs": []
    },
    {
      "cell_type": "markdown",
      "metadata": {
        "id": "QHg7E5A7cwIN"
      },
      "source": [
        "### 2.3 Choosing the `K` and descriptives of each cluster"
      ]
    },
    {
      "cell_type": "markdown",
      "metadata": {
        "id": "tIwhwXcVZe-F"
      },
      "source": [
        "Although the evaluation metrics are in favor of `K=4`, a further look at the actual clusters shows that the additional cluster broke out from 3 clusters is too small and less distinvtive in terms of average % of spending in each price tiers. Therefore, I chose `K=3` for the final model."
      ]
    },
    {
      "cell_type": "code",
      "metadata": {
        "colab": {
          "base_uri": "https://localhost:8080/"
        },
        "id": "Ce3OMmaXLiAt",
        "outputId": "a4d20ef8-bf06-499d-f4da-459e14cf98e4"
      },
      "source": [
        "## Load labeled data from github\n",
        "url2 = 'https://raw.githubusercontent.com/Michael-Zh/DAassignment4IK/main/clustered_data.csv'\n",
        "\n",
        "df_clustered = pd.read_csv(url2,sep = ',')\n",
        "\n",
        "df_clustered.info()"
      ],
      "execution_count": 478,
      "outputs": [
        {
          "output_type": "stream",
          "text": [
            "<class 'pandas.core.frame.DataFrame'>\n",
            "RangeIndex: 5676 entries, 0 to 5675\n",
            "Columns: 252 entries, Unnamed: 0 to cluster\n",
            "dtypes: float64(3), int64(243), object(6)\n",
            "memory usage: 10.9+ MB\n"
          ],
          "name": "stdout"
        }
      ]
    },
    {
      "cell_type": "code",
      "metadata": {
        "id": "uaHS54UstxyP"
      },
      "source": [
        "for col in ['Sex','Age','Profession','CityType','YearsInCity','HaveChildren','cluster','ValueTier']:\n",
        "    df_clustered[col] = df_clustered[col].astype('category').cat.as_ordered()"
      ],
      "execution_count": 479,
      "outputs": []
    },
    {
      "cell_type": "markdown",
      "metadata": {
        "id": "kNp7pS9BaU41"
      },
      "source": [
        "##### **Naming the clusters**\n",
        "The table below represent the average % of spending in each price tier product within each clusters.\n",
        "\n",
        "* We can easily spot the exceptional high % in high price product - this signify the `Quality` cluster, who tends to purchase quality/expensive items most of the time\n",
        "\n",
        "* We can also notice another high % in spending in mid-price product, while % of the high price products is the lowest - I named it `Value` to match their potential motivation of bargin seeking\n",
        "\n",
        "* Lastly, the `Loyal` cluster sits in the middle - they seem to be happy with IKEA overall and purchase both bargin and higher price products"
      ]
    },
    {
      "cell_type": "code",
      "metadata": {
        "colab": {
          "base_uri": "https://localhost:8080/",
          "height": 227
        },
        "id": "na0ku4S5ML_S",
        "outputId": "7a9b60ef-d4d7-4c2f-97fe-428b0945367d"
      },
      "source": [
        "df_seg = df_clustered.groupby('cluster')['HighPerc','MidPerc','LowPerc'].mean()*100\n",
        "df_seg.sort_values(by=['HighPerc','MidPerc','LowPerc']).sort_index()"
      ],
      "execution_count": 480,
      "outputs": [
        {
          "output_type": "stream",
          "text": [
            "/usr/local/lib/python3.7/dist-packages/ipykernel_launcher.py:1: FutureWarning: Indexing with multiple keys (implicitly converted to a tuple of keys) will be deprecated, use a list instead.\n",
            "  \"\"\"Entry point for launching an IPython kernel.\n"
          ],
          "name": "stderr"
        },
        {
          "output_type": "execute_result",
          "data": {
            "text/html": [
              "<div>\n",
              "<style scoped>\n",
              "    .dataframe tbody tr th:only-of-type {\n",
              "        vertical-align: middle;\n",
              "    }\n",
              "\n",
              "    .dataframe tbody tr th {\n",
              "        vertical-align: top;\n",
              "    }\n",
              "\n",
              "    .dataframe thead th {\n",
              "        text-align: right;\n",
              "    }\n",
              "</style>\n",
              "<table border=\"1\" class=\"dataframe\">\n",
              "  <thead>\n",
              "    <tr style=\"text-align: right;\">\n",
              "      <th></th>\n",
              "      <th>HighPerc</th>\n",
              "      <th>MidPerc</th>\n",
              "      <th>LowPerc</th>\n",
              "    </tr>\n",
              "    <tr>\n",
              "      <th>cluster</th>\n",
              "      <th></th>\n",
              "      <th></th>\n",
              "      <th></th>\n",
              "    </tr>\n",
              "  </thead>\n",
              "  <tbody>\n",
              "    <tr>\n",
              "      <th>Loyal</th>\n",
              "      <td>55.891021</td>\n",
              "      <td>38.246636</td>\n",
              "      <td>5.862342</td>\n",
              "    </tr>\n",
              "    <tr>\n",
              "      <th>Quality</th>\n",
              "      <td>77.945115</td>\n",
              "      <td>18.934045</td>\n",
              "      <td>3.120840</td>\n",
              "    </tr>\n",
              "    <tr>\n",
              "      <th>Value</th>\n",
              "      <td>33.763803</td>\n",
              "      <td>60.343782</td>\n",
              "      <td>5.892415</td>\n",
              "    </tr>\n",
              "  </tbody>\n",
              "</table>\n",
              "</div>"
            ],
            "text/plain": [
              "          HighPerc    MidPerc   LowPerc\n",
              "cluster                                \n",
              "Loyal    55.891021  38.246636  5.862342\n",
              "Quality  77.945115  18.934045  3.120840\n",
              "Value    33.763803  60.343782  5.892415"
            ]
          },
          "metadata": {
            "tags": []
          },
          "execution_count": 480
        }
      ]
    },
    {
      "cell_type": "markdown",
      "metadata": {
        "id": "wWFRoJm6fR9k"
      },
      "source": [
        "##### **Which cluster/segment to target?**\n",
        "The two tables below shows the unique customer count in each cluster and value tiers, as well as their total spending in millions.\n",
        "\n",
        "* Generally speaking, building the brand loyalty and design new products for distinct consumer require relatively long-term effort. Therefore, moving consumer from `Value` or `Quality` to `Loyal` may take a while.\n",
        "\n",
        "* Meanwhile, a handful of short-term levers such as promotion, can potentially upsell lower value tier consumers and move them to higher tiers.\n",
        "\n",
        "* In addition, if we assume they remain the same purchase pattern, namely purchase primarily high price point porducts, `Quality` cluster may offer higher incremental growth potential - even though it's not the highest valued segment (compared to all segments from `Loyal`).\n",
        "\n",
        "* In conclusion, I recommend focusing on `Mid`/`Low` value tier customers in `Quality` cluster. "
      ]
    },
    {
      "cell_type": "code",
      "metadata": {
        "colab": {
          "base_uri": "https://localhost:8080/",
          "height": 173
        },
        "id": "9V44XfdZvRLV",
        "outputId": "c4c35efa-d139-48ac-a441-da962f430e10"
      },
      "source": [
        "## customer counts in each cluster\n",
        "cnt_grid = df_clustered.groupby(['cluster','ValueTier'])['CustomerID'].count().reset_index()\n",
        "cnt_grid = pd.DataFrame(cnt_grid)\n",
        "for col in ['cluster','ValueTier']:\n",
        "    cnt_grid[col] = cnt_grid[col].astype('str')\n",
        "\n",
        "cnt_grid = pd.pivot_table(cnt_grid, values=['CustomerID'], index=['cluster'],\\\n",
        "                          columns=['ValueTier'], aggfunc=np.sum, fill_value=0)\\\n",
        "                          .droplevel(0, axis=1).sort_index()\n",
        "cnt_grid[['High', 'Mid', 'Low']]"
      ],
      "execution_count": 481,
      "outputs": [
        {
          "output_type": "execute_result",
          "data": {
            "text/html": [
              "<div>\n",
              "<style scoped>\n",
              "    .dataframe tbody tr th:only-of-type {\n",
              "        vertical-align: middle;\n",
              "    }\n",
              "\n",
              "    .dataframe tbody tr th {\n",
              "        vertical-align: top;\n",
              "    }\n",
              "\n",
              "    .dataframe thead th {\n",
              "        text-align: right;\n",
              "    }\n",
              "</style>\n",
              "<table border=\"1\" class=\"dataframe\">\n",
              "  <thead>\n",
              "    <tr style=\"text-align: right;\">\n",
              "      <th>ValueTier</th>\n",
              "      <th>High</th>\n",
              "      <th>Mid</th>\n",
              "      <th>Low</th>\n",
              "    </tr>\n",
              "    <tr>\n",
              "      <th>cluster</th>\n",
              "      <th></th>\n",
              "      <th></th>\n",
              "      <th></th>\n",
              "    </tr>\n",
              "  </thead>\n",
              "  <tbody>\n",
              "    <tr>\n",
              "      <th>Loyal</th>\n",
              "      <td>874</td>\n",
              "      <td>747</td>\n",
              "      <td>963</td>\n",
              "    </tr>\n",
              "    <tr>\n",
              "      <th>Quality</th>\n",
              "      <td>175</td>\n",
              "      <td>621</td>\n",
              "      <td>901</td>\n",
              "    </tr>\n",
              "    <tr>\n",
              "      <th>Value</th>\n",
              "      <td>79</td>\n",
              "      <td>343</td>\n",
              "      <td>972</td>\n",
              "    </tr>\n",
              "  </tbody>\n",
              "</table>\n",
              "</div>"
            ],
            "text/plain": [
              "ValueTier  High  Mid  Low\n",
              "cluster                  \n",
              "Loyal       874  747  963\n",
              "Quality     175  621  901\n",
              "Value        79  343  972"
            ]
          },
          "metadata": {
            "tags": []
          },
          "execution_count": 481
        }
      ]
    },
    {
      "cell_type": "code",
      "metadata": {
        "colab": {
          "base_uri": "https://localhost:8080/",
          "height": 173
        },
        "id": "nHqsyH_dDfeV",
        "outputId": "9c05c4cb-ca87-4092-8618-2327410d14ad"
      },
      "source": [
        "## toal seg value in each seg (M)\n",
        "val_grid = df_clustered.groupby(['cluster','ValueTier'])['TotalSpending'].sum().reset_index()\n",
        "val_grid = pd.DataFrame(val_grid)\n",
        "for col in ['cluster','ValueTier']:\n",
        "    val_grid[col] = val_grid[col].astype('str')\n",
        "\n",
        "val_grid = pd.pivot_table(val_grid, values=['TotalSpending'], index=['cluster'],\\\n",
        "                          columns=['ValueTier'], aggfunc=np.sum, fill_value=0)\\\n",
        "                          .droplevel(0, axis=1)\n",
        "val_grid[['High', 'Mid', 'Low']]/1000000"
      ],
      "execution_count": 482,
      "outputs": [
        {
          "output_type": "execute_result",
          "data": {
            "text/html": [
              "<div>\n",
              "<style scoped>\n",
              "    .dataframe tbody tr th:only-of-type {\n",
              "        vertical-align: middle;\n",
              "    }\n",
              "\n",
              "    .dataframe tbody tr th {\n",
              "        vertical-align: top;\n",
              "    }\n",
              "\n",
              "    .dataframe thead th {\n",
              "        text-align: right;\n",
              "    }\n",
              "</style>\n",
              "<table border=\"1\" class=\"dataframe\">\n",
              "  <thead>\n",
              "    <tr style=\"text-align: right;\">\n",
              "      <th>ValueTier</th>\n",
              "      <th>High</th>\n",
              "      <th>Mid</th>\n",
              "      <th>Low</th>\n",
              "    </tr>\n",
              "    <tr>\n",
              "      <th>cluster</th>\n",
              "      <th></th>\n",
              "      <th></th>\n",
              "      <th></th>\n",
              "    </tr>\n",
              "  </thead>\n",
              "  <tbody>\n",
              "    <tr>\n",
              "      <th>Loyal</th>\n",
              "      <td>2192.787474</td>\n",
              "      <td>641.213583</td>\n",
              "      <td>258.616132</td>\n",
              "    </tr>\n",
              "    <tr>\n",
              "      <th>Quality</th>\n",
              "      <td>307.162367</td>\n",
              "      <td>510.226155</td>\n",
              "      <td>247.668344</td>\n",
              "    </tr>\n",
              "    <tr>\n",
              "      <th>Value</th>\n",
              "      <td>141.282847</td>\n",
              "      <td>277.515329</td>\n",
              "      <td>224.596531</td>\n",
              "    </tr>\n",
              "  </tbody>\n",
              "</table>\n",
              "</div>"
            ],
            "text/plain": [
              "ValueTier         High         Mid         Low\n",
              "cluster                                       \n",
              "Loyal      2192.787474  641.213583  258.616132\n",
              "Quality     307.162367  510.226155  247.668344\n",
              "Value       141.282847  277.515329  224.596531"
            ]
          },
          "metadata": {
            "tags": []
          },
          "execution_count": 482
        }
      ]
    },
    {
      "cell_type": "markdown",
      "metadata": {
        "id": "PkYgvvY-dDo6"
      },
      "source": [
        "##### **Demographics**"
      ]
    },
    {
      "cell_type": "markdown",
      "metadata": {
        "id": "_VLmSNxMix33"
      },
      "source": [
        "Below demographic breakdowns can help facilitate tactical level marketing efforts. For example, `Value` cluster consists of much higher % of female customers (particularly among the high value tier). An in season home decoration collection or promotion may attract them to shop more. The `Quality` cluster shows a higher % in `36-45` age group, particularly among low- and high-valued segments, we may offer a campaign focus on the quality and design aspect of the product with an extra push of promotion."
      ]
    },
    {
      "cell_type": "code",
      "metadata": {
        "scrolled": true,
        "trusted": false,
        "id": "qyB1ZLvpcwIO",
        "colab": {
          "base_uri": "https://localhost:8080/",
          "height": 602
        },
        "outputId": "2d4ddd25-cbc8-4e1f-f83b-44127c623419"
      },
      "source": [
        "g0 = sns.FacetGrid(df_clustered, col='ValueTier', row=\"cluster\", col_order=['High','Mid','Low'])\n",
        "g0.map(sns.histplot,'Sex',stat=\"density\", common_norm=False)\n",
        "# g1.fig"
      ],
      "execution_count": 499,
      "outputs": [
        {
          "output_type": "execute_result",
          "data": {
            "text/plain": [
              "<seaborn.axisgrid.FacetGrid at 0x7fd845cd0a90>"
            ]
          },
          "metadata": {
            "tags": []
          },
          "execution_count": 499
        },
        {
          "output_type": "display_data",
          "data": {
            "image/png": "[encoded data removed]",
            "text/plain": [
              "<Figure size 648x648 with 9 Axes>"
            ]
          },
          "metadata": {
            "tags": []
          }
        }
      ]
    },
    {
      "cell_type": "code",
      "metadata": {
        "scrolled": true,
        "trusted": false,
        "id": "kOLh_ZSycwIQ",
        "colab": {
          "base_uri": "https://localhost:8080/",
          "height": 602
        },
        "outputId": "cf332442-c9ed-4cef-b798-58eb2ff28ac8"
      },
      "source": [
        "g3 = sns.FacetGrid(df_clustered, col='ValueTier', row=\"cluster\", col_order=['High','Mid','Low'])\n",
        "g3.map(sns.histplot,'Age',stat=\"density\", common_norm=False)\n",
        "# g3.fig"
      ],
      "execution_count": 495,
      "outputs": [
        {
          "output_type": "execute_result",
          "data": {
            "text/plain": [
              "<seaborn.axisgrid.FacetGrid at 0x7fd8469d8c10>"
            ]
          },
          "metadata": {
            "tags": []
          },
          "execution_count": 495
        },
        {
          "output_type": "display_data",
          "data": {
            "image/png": "[encoded data removed]",
            "text/plain": [
              "<Figure size 648x648 with 9 Axes>"
            ]
          },
          "metadata": {
            "tags": []
          }
        }
      ]
    },
    {
      "cell_type": "code",
      "metadata": {
        "trusted": false,
        "id": "txqknckWcwIR",
        "colab": {
          "base_uri": "https://localhost:8080/",
          "height": 602
        },
        "outputId": "226ce3cb-761a-4c5c-aeb0-d426bf619dc9"
      },
      "source": [
        "g4 = sns.FacetGrid(df_clustered, col='ValueTier', row=\"cluster\", col_order=['High','Mid','Low'])\n",
        "g4.map(sns.histplot,'YearsInCity',stat=\"density\", common_norm=False)\n",
        "# g3.fig"
      ],
      "execution_count": 496,
      "outputs": [
        {
          "output_type": "execute_result",
          "data": {
            "text/plain": [
              "<seaborn.axisgrid.FacetGrid at 0x7fd8469eb210>"
            ]
          },
          "metadata": {
            "tags": []
          },
          "execution_count": 496
        },
        {
          "output_type": "display_data",
          "data": {
            "image/png": "[encoded data removed]",
            "text/plain": [
              "<Figure size 648x648 with 9 Axes>"
            ]
          },
          "metadata": {
            "tags": []
          }
        }
      ]
    },
    {
      "cell_type": "code",
      "metadata": {
        "trusted": false,
        "id": "XSIEVv8DcwIS"
      },
      "source": [
        ""
      ],
      "execution_count": 487,
      "outputs": []
    }
  ]
}
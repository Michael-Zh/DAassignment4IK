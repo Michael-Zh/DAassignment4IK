{
  "nbformat": 4,
  "nbformat_minor": 0,
  "metadata": {
    "language_info": {
      "name": "python",
      "version": "3.7.10",
      "mimetype": "text/x-python",
      "codemirror_mode": {
        "name": "ipython",
        "version": 3
      },
      "pygments_lexer": "ipython3",
      "nbconvert_exporter": "python",
      "file_extension": ".py"
    },
    "kernelspec": {
      "name": "python3",
      "display_name": "Python 3",
      "language": "python"
    },
    "colab": {
      "name": "DA assignment IKEA V2.3.ipynb",
      "provenance": [],
      "collapsed_sections": [
        "jqy8nTlKcwIC",
        "DS-m_A8_cwID",
        "lMxRIW7rcwID",
        "eJuhueQHcwIE",
        "6dfd7L_BcwIF",
        "T2GZGSmccwIG"
      ],
      "toc_visible": true,
      "include_colab_link": true
    }
  },
  "cells": [
    {
      "cell_type": "markdown",
      "metadata": {
        "id": "view-in-github",
        "colab_type": "text"
      },
      "source": [
        "<a href=\"https://colab.research.google.com/github/Michael-Zh/DAassignment4IK/blob/main/DA_assignment_IKEA_V3.ipynb\" target=\"_parent\"><img src=\"https://colab.research.google.com/assets/colab-badge.svg\" alt=\"Open In Colab\"/></a>"
      ]
    },
    {
      "cell_type": "markdown",
      "metadata": {
        "id": "jyklO1HmcwHU"
      },
      "source": [
        "# Technical Assignment - IKEA DA"
      ]
    },
    {
      "cell_type": "markdown",
      "metadata": {
        "id": "5R94-KffcwHh"
      },
      "source": [
        "Prepared by **Michael Zhang** | 2021 Mar | @AMSTERDAM"
      ]
    },
    {
      "cell_type": "markdown",
      "metadata": {
        "id": "djD2b3pxcwHi"
      },
      "source": [
        "## 0. Executive Summary"
      ]
    },
    {
      "cell_type": "markdown",
      "metadata": {
        "id": "UH2Uwm0fcwHj"
      },
      "source": [
        "### Question 1: Propose a segmentation analysis\n",
        "\n",
        "A natural thought to segment the consumer is to use `clustering analysis`. With a relatively clean data... Seg A, B, C\n",
        "\n",
        "### Question 3: Key segment(s) to focus to increase sales\n",
        "\n",
        "Seg A\n",
        "based on A, B, C reasons\n",
        "* Increase sales is more of a short-term goal -> with the info I have, either focus on the large seg with potential to upsell (small improvement but big moneytory potential), or niche seg with great %growth potential\n",
        "\n",
        "### Question 2: Potential data points to improve the analysis\n",
        "\n",
        "* Unit info: understand if the product is of high unit price (which may not be purchased again in a short term)\n",
        "* Category info: similar to above; also make it difficult to interpret the clustering\n",
        "* Transactional info: what does it buy together per order -> basket analysis, frequency analysis, recency (3D of CLV or CV)\n",
        "\n",
        "\n",
        "### Question 4: Prediction of the value in \"HaveChildren\" with vitualization"
      ]
    },
    {
      "cell_type": "code",
      "metadata": {
        "id": "HDqbVpRkdK5L",
        "colab": {
          "base_uri": "https://localhost:8080/"
        },
        "outputId": "29a4a62e-8778-4028-aa5a-a7ffdeb0cbd3"
      },
      "source": [
        "!pip install kneed"
      ],
      "execution_count": 135,
      "outputs": [
        {
          "output_type": "stream",
          "text": [
            "Requirement already satisfied: kneed in /usr/local/lib/python3.7/dist-packages (0.7.0)\n",
            "Requirement already satisfied: numpy>=1.14.2 in /usr/local/lib/python3.7/dist-packages (from kneed) (1.19.5)\n",
            "Requirement already satisfied: scipy in /usr/local/lib/python3.7/dist-packages (from kneed) (1.4.1)\n",
            "Requirement already satisfied: matplotlib in /usr/local/lib/python3.7/dist-packages (from kneed) (3.2.2)\n",
            "Requirement already satisfied: python-dateutil>=2.1 in /usr/local/lib/python3.7/dist-packages (from matplotlib->kneed) (2.8.1)\n",
            "Requirement already satisfied: cycler>=0.10 in /usr/local/lib/python3.7/dist-packages (from matplotlib->kneed) (0.10.0)\n",
            "Requirement already satisfied: pyparsing!=2.0.4,!=2.1.2,!=2.1.6,>=2.0.1 in /usr/local/lib/python3.7/dist-packages (from matplotlib->kneed) (2.4.7)\n",
            "Requirement already satisfied: kiwisolver>=1.0.1 in /usr/local/lib/python3.7/dist-packages (from matplotlib->kneed) (1.3.1)\n",
            "Requirement already satisfied: six>=1.5 in /usr/local/lib/python3.7/dist-packages (from python-dateutil>=2.1->matplotlib->kneed) (1.15.0)\n"
          ],
          "name": "stdout"
        }
      ]
    },
    {
      "cell_type": "code",
      "metadata": {
        "trusted": true,
        "id": "sZ15LAY2cwHk"
      },
      "source": [
        "import numpy as np\n",
        "import pandas as pd\n",
        "import seaborn as sns\n",
        "import matplotlib.pyplot as plt\n",
        "from kneed import KneeLocator\n",
        "from sklearn.cluster import KMeans\n",
        "from sklearn.decomposition import PCA\n",
        "from sklearn.metrics import silhouette_score, adjusted_rand_score\n",
        "from sklearn.pipeline import Pipeline\n",
        "from sklearn.preprocessing import LabelEncoder, MinMaxScaler, StandardScaler\n",
        "# from sklearn-extras\n",
        "# from sk-learn-extra"
      ],
      "execution_count": 136,
      "outputs": []
    },
    {
      "cell_type": "code",
      "metadata": {
        "trusted": true,
        "id": "m3oIwq1xcwHm"
      },
      "source": [
        "## Build a data cleaning package/notebook"
      ],
      "execution_count": 137,
      "outputs": []
    },
    {
      "cell_type": "markdown",
      "metadata": {
        "id": "3DQZpMk3cwHn"
      },
      "source": [
        "## 1. Data Import and Exploration\n",
        "##### High-level descriptives\n",
        "* **Sex**: 70% are Male\n",
        "* **Age**: 35% are 26-35, followed by ~20% 18-25 and 36-45, respectively\n",
        "* **CityType**: 50%+ from type C cities\n",
        "* **YearsInCity**: 35% live 1-2 years, followed by 20% 2-3 years (other durations are close too)\n",
        "* **Professions**: can roughly split into 3 tiers based on the customer count\n",
        "* **HaveChildren**: 55% Customers do not have children (and 3.5% of them missing this information)\n",
        "\n",
        "##### Load raw data and convert to proper data type"
      ]
    },
    {
      "cell_type": "code",
      "metadata": {
        "trusted": true,
        "id": "MH7QKGupcwHn",
        "colab": {
          "base_uri": "https://localhost:8080/"
        },
        "outputId": "1793f686-c1b4-46fe-9f37-02512e88e95c"
      },
      "source": [
        "url = 'https://raw.githubusercontent.com/Michael-Zh/DAassignment4IK/main/RetailCustomerSales.csv'\n",
        "\n",
        "# df = pd.read_csv(url,sep = ';', dtype = {'CustomerID':'category',\n",
        "#                                          'ItemID':'category',\n",
        "#                                           'Sex':'category',\n",
        "#                                           'Age':'category',\n",
        "#                                           'Profession':'category',\n",
        "#                                           'CityType':'category',\n",
        "#                                           'YearsInCity':'category',\n",
        "#                                           'HaveChildren':'str',## to deal witht he NaN\n",
        "#                                           'ItemCategory1':'str',\n",
        "#                                           'ItemCategory2':'str',\n",
        "#                                           'ItemCategory3':'str'})\n",
        "# Categorical data is very slow in groupby\n",
        "\n",
        "df = pd.read_csv(url,sep = ';', dtype = {'CustomerID':'str',\n",
        "                                         'ItemID':'str',\n",
        "                                          'Sex':'str',\n",
        "                                          'Age':'str',\n",
        "                                          'Profession':'str',\n",
        "                                          'CityType':'str',\n",
        "                                          'YearsInCity':'str',\n",
        "                                          'HaveChildren':'str',## to deal witht he NaN\n",
        "                                          'ItemCategory1':'str',\n",
        "                                          'ItemCategory2':'str',\n",
        "                                          'ItemCategory3':'str'})\n",
        "df.info()"
      ],
      "execution_count": 138,
      "outputs": [
        {
          "output_type": "stream",
          "text": [
            "<class 'pandas.core.frame.DataFrame'>\n",
            "RangeIndex: 537577 entries, 0 to 537576\n",
            "Data columns (total 12 columns):\n",
            " #   Column         Non-Null Count   Dtype \n",
            "---  ------         --------------   ----- \n",
            " 0   CustomerID     537577 non-null  object\n",
            " 1   ItemID         537577 non-null  object\n",
            " 2   Sex            537577 non-null  object\n",
            " 3   Age            537577 non-null  object\n",
            " 4   Profession     537577 non-null  object\n",
            " 5   CityType       537577 non-null  object\n",
            " 6   YearsInCity    537577 non-null  object\n",
            " 7   HaveChildren   517407 non-null  object\n",
            " 8   ItemCategory1  537577 non-null  object\n",
            " 9   ItemCategory2  370591 non-null  object\n",
            " 10  ItemCategory3  164278 non-null  object\n",
            " 11  Amount         537577 non-null  int64 \n",
            "dtypes: int64(1), object(11)\n",
            "memory usage: 49.2+ MB\n"
          ],
          "name": "stdout"
        }
      ]
    },
    {
      "cell_type": "markdown",
      "metadata": {
        "id": "iAomfAcGcwHp"
      },
      "source": [
        "##### Check duplicated rows"
      ]
    },
    {
      "cell_type": "code",
      "metadata": {
        "trusted": true,
        "id": "d2Hj4TAdcwHq",
        "colab": {
          "base_uri": "https://localhost:8080/"
        },
        "outputId": "b73b7427-c1fd-4991-b2b1-49f13ad8089b"
      },
      "source": [
        "df.duplicated().sum()"
      ],
      "execution_count": 139,
      "outputs": [
        {
          "output_type": "execute_result",
          "data": {
            "text/plain": [
              "0"
            ]
          },
          "metadata": {
            "tags": []
          },
          "execution_count": 139
        }
      ]
    },
    {
      "cell_type": "markdown",
      "metadata": {
        "id": "r7C7dX16cwHr"
      },
      "source": [
        "##### Check Null value\n",
        "Only HaveChildren col has NaN"
      ]
    },
    {
      "cell_type": "code",
      "metadata": {
        "trusted": true,
        "scrolled": true,
        "id": "bX7IvwZUcwHr",
        "colab": {
          "base_uri": "https://localhost:8080/"
        },
        "outputId": "8c1aad47-e4ed-402b-e37a-26c2472a64fc"
      },
      "source": [
        "print(df.isnull().sum())"
      ],
      "execution_count": 140,
      "outputs": [
        {
          "output_type": "stream",
          "text": [
            "CustomerID            0\n",
            "ItemID                0\n",
            "Sex                   0\n",
            "Age                   0\n",
            "Profession            0\n",
            "CityType              0\n",
            "YearsInCity           0\n",
            "HaveChildren      20170\n",
            "ItemCategory1         0\n",
            "ItemCategory2    166986\n",
            "ItemCategory3    373299\n",
            "Amount                0\n",
            "dtype: int64\n"
          ],
          "name": "stdout"
        }
      ]
    },
    {
      "cell_type": "markdown",
      "metadata": {
        "id": "DliH3AomcwHs"
      },
      "source": [
        "##### Check potential outliers"
      ]
    },
    {
      "cell_type": "code",
      "metadata": {
        "trusted": true,
        "scrolled": true,
        "id": "gW1v40ugcwHs",
        "colab": {
          "base_uri": "https://localhost:8080/"
        },
        "outputId": "3476698f-af58-4dfc-c93b-c54503341346"
      },
      "source": [
        "consumer_spend = df.groupby('CustomerID')['Amount'].sum().sort_values()\n",
        "consumer_spend.describe()"
      ],
      "execution_count": 141,
      "outputs": [
        {
          "output_type": "execute_result",
          "data": {
            "text/plain": [
              "count    5.891000e+03\n",
              "mean     8.517515e+05\n",
              "std      9.329978e+05\n",
              "min      4.410800e+04\n",
              "25%      2.349140e+05\n",
              "50%      5.126120e+05\n",
              "75%      1.099005e+06\n",
              "max      1.053678e+07\n",
              "Name: Amount, dtype: float64"
            ]
          },
          "metadata": {
            "tags": []
          },
          "execution_count": 141
        }
      ]
    },
    {
      "cell_type": "markdown",
      "metadata": {
        "id": "S5Cloq8UcwHt"
      },
      "source": [
        "identify the top 3 dots in the box plot and remove them as outlier: > 7M"
      ]
    },
    {
      "cell_type": "code",
      "metadata": {
        "scrolled": true,
        "trusted": true,
        "id": "xOKQUQF2cwHt",
        "colab": {
          "base_uri": "https://localhost:8080/",
          "height": 296
        },
        "outputId": "1ac4933e-2f60-4569-b171-2041f2c103c9"
      },
      "source": [
        "plt.style.use(\"fivethirtyeight\")\n",
        "plt.boxplot(consumer_spend)\n",
        "plt.ylabel(\"Spending\")\n",
        "plt.show()"
      ],
      "execution_count": 142,
      "outputs": [
        {
          "output_type": "display_data",
          "data": {
            "image/png": "[encoded data removed]",
            "text/plain": [
              "<Figure size 432x288 with 1 Axes>"
            ]
          },
          "metadata": {
            "tags": []
          }
        }
      ]
    },
    {
      "cell_type": "code",
      "metadata": {
        "trusted": true,
        "id": "V3T6LLfRcwHu"
      },
      "source": [
        "## Numeric Outlier: set IQR to filter out the outlier\n",
        "## Ref: https://quantdare.com/isolation-forest-algorithm/\n",
        "## Ref: https://www.kdnuggets.com/2018/12/four-techniques-outlier-detection.html\n",
        "## Ref: https://scikit-learn.org/stable/modules/generated/sklearn.ensemble.IsolationForest.html\n",
        "\n",
        "## A bit too agreesive\n",
        "# IQR = (75%-25%)*1.5(k)\n",
        "# consumer_spend.loc[consumer_spend['Amount'] >= IQR, 'split'] = 'Outlier'\n",
        "# consumer_spend.loc[consumer_spend['Amount'] < IQR, 'split'] = 'Inliner' \n",
        "\n",
        "# consumer_qtile = consumer_spend.groupby('split')['Amount'].sum()\n",
        "# consumer_qtile"
      ],
      "execution_count": 143,
      "outputs": []
    },
    {
      "cell_type": "code",
      "metadata": {
        "trusted": true,
        "scrolled": true,
        "id": "braxMxH2cwHu",
        "colab": {
          "base_uri": "https://localhost:8080/"
        },
        "outputId": "20e8d59a-4870-4cbf-d455-9d61e90c17e2"
      },
      "source": [
        "## From the box plot, try to exclude only the top 3 dot\n",
        "## Check the top 10 amount -> identify the top dots in the box plot\n",
        "consumer_spend = pd.DataFrame(consumer_spend)\n",
        "consumer_spend['Amount'].sort_values(ascending=False).head(10)"
      ],
      "execution_count": 144,
      "outputs": [
        {
          "output_type": "execute_result",
          "data": {
            "text/plain": [
              "CustomerID\n",
              "1004277    10536783\n",
              "1001680     8699232\n",
              "1002909     7577505\n",
              "1001941     6817493\n",
              "1000424     6573609\n",
              "1004448     6565878\n",
              "1001015     6511302\n",
              "1003391     6476786\n",
              "1001181     6387899\n",
              "1000549     6310604\n",
              "Name: Amount, dtype: int64"
            ]
          },
          "metadata": {
            "tags": []
          },
          "execution_count": 144
        }
      ]
    },
    {
      "cell_type": "code",
      "metadata": {
        "trusted": true,
        "id": "BjsRyZBMcwHv",
        "colab": {
          "base_uri": "https://localhost:8080/"
        },
        "outputId": "44c95337-7567-4767-ea06-51e5dec3ac81"
      },
      "source": [
        "consumer_spend_outlier = consumer_spend['Amount'].sort_values(ascending=False).iloc[:3].index.tolist()\n",
        "consumer_spend_outlier"
      ],
      "execution_count": 145,
      "outputs": [
        {
          "output_type": "execute_result",
          "data": {
            "text/plain": [
              "['1004277', '1001680', '1002909']"
            ]
          },
          "metadata": {
            "tags": []
          },
          "execution_count": 145
        }
      ]
    },
    {
      "cell_type": "code",
      "metadata": {
        "trusted": true,
        "id": "xCEKOhbWcwHv",
        "colab": {
          "base_uri": "https://localhost:8080/"
        },
        "outputId": "61f7b6e7-b621-4509-a471-900151dd12f2"
      },
      "source": [
        "# len(df['ItemID'].unique())\n",
        "item_consumer = df.groupby('ItemID')['CustomerID'].nunique().sort_values()\n",
        "item_consumer.describe()"
      ],
      "execution_count": 146,
      "outputs": [
        {
          "output_type": "execute_result",
          "data": {
            "text/plain": [
              "count    3623.000000\n",
              "mean      148.378968\n",
              "std       208.176730\n",
              "min         1.000000\n",
              "25%        19.000000\n",
              "50%        70.000000\n",
              "75%       192.000000\n",
              "max      1858.000000\n",
              "Name: CustomerID, dtype: float64"
            ]
          },
          "metadata": {
            "tags": []
          },
          "execution_count": 146
        }
      ]
    },
    {
      "cell_type": "code",
      "metadata": {
        "trusted": true,
        "id": "NRFCSrzccwHw",
        "colab": {
          "base_uri": "https://localhost:8080/",
          "height": 304
        },
        "outputId": "2ad3469a-8299-4fee-9468-242b132b292f"
      },
      "source": [
        "#plot popular product and check distribution\n",
        "plt.style.use(\"fivethirtyeight\")\n",
        "plt.hist(item_consumer, bins = 100)\n",
        "plt.xlabel(\"Buyer count\")\n",
        "plt.ylabel(\"Item Count\")\n",
        "plt.show()"
      ],
      "execution_count": 147,
      "outputs": [
        {
          "output_type": "display_data",
          "data": {
            "image/png": "[encoded data removed]",
            "text/plain": [
              "<Figure size 432x288 with 1 Axes>"
            ]
          },
          "metadata": {
            "tags": []
          }
        }
      ]
    },
    {
      "cell_type": "code",
      "metadata": {
        "trusted": true,
        "id": "gO6_THJgcwHw",
        "colab": {
          "base_uri": "https://localhost:8080/"
        },
        "outputId": "dd6311af-a7ef-4190-d03d-cd95dff5cc3f"
      },
      "source": [
        "# len(df['ItemID'].unique())\n",
        "item_sales = df.groupby('ItemID')['Amount'].sum().sort_values()\n",
        "item_sales.describe()\n",
        "\n",
        "#plot high sales value"
      ],
      "execution_count": 148,
      "outputs": [
        {
          "output_type": "execute_result",
          "data": {
            "text/plain": [
              "count    3.623000e+03\n",
              "mean     1.384948e+06\n",
              "std      2.608237e+06\n",
              "min      4.050000e+02\n",
              "25%      1.143055e+05\n",
              "50%      4.352640e+05\n",
              "75%      1.503716e+06\n",
              "max      2.753243e+07\n",
              "Name: Amount, dtype: float64"
            ]
          },
          "metadata": {
            "tags": []
          },
          "execution_count": 148
        }
      ]
    },
    {
      "cell_type": "code",
      "metadata": {
        "scrolled": true,
        "trusted": true,
        "id": "TQFsMu2tcwHx",
        "colab": {
          "base_uri": "https://localhost:8080/",
          "height": 304
        },
        "outputId": "66dec814-7b9f-4432-872a-dc0b76747ff7"
      },
      "source": [
        "#plot high total sales value and check distribution\n",
        "plt.style.use(\"fivethirtyeight\")\n",
        "plt.hist(item_sales, bins = 100)\n",
        "plt.xlabel(\"Total Sales\")\n",
        "plt.ylabel(\"Item Count\")\n",
        "plt.show()"
      ],
      "execution_count": 149,
      "outputs": [
        {
          "output_type": "display_data",
          "data": {
            "image/png": "[encoded data removed]",
            "text/plain": [
              "<Figure size 432x288 with 1 Axes>"
            ]
          },
          "metadata": {
            "tags": []
          }
        }
      ]
    },
    {
      "cell_type": "markdown",
      "metadata": {
        "id": "zY42ZjFVcwHx"
      },
      "source": [
        "##### Other descriptives"
      ]
    },
    {
      "cell_type": "code",
      "metadata": {
        "trusted": true,
        "scrolled": true,
        "id": "aW1jHMxWcwHx",
        "colab": {
          "base_uri": "https://localhost:8080/",
          "height": 304
        },
        "outputId": "0b09fe91-82d3-429c-8333-96e00b7fb72e"
      },
      "source": [
        "sex = df.groupby('Sex')['CustomerID'].nunique().sort_index()\n",
        "plt.style.use(\"fivethirtyeight\")\n",
        "plt.bar(sex.index, sex)\n",
        "plt.xlabel(\"Sex\")\n",
        "plt.ylabel(\"Consumer Count\")\n",
        "plt.show()"
      ],
      "execution_count": 150,
      "outputs": [
        {
          "output_type": "display_data",
          "data": {
            "image/png": "[encoded data removed]",
            "text/plain": [
              "<Figure size 432x288 with 1 Axes>"
            ]
          },
          "metadata": {
            "tags": []
          }
        }
      ]
    },
    {
      "cell_type": "code",
      "metadata": {
        "trusted": true,
        "id": "fXrCyfKOcwHx",
        "colab": {
          "base_uri": "https://localhost:8080/"
        },
        "outputId": "053b6b66-8c7f-41b8-af0a-366a067b98e7"
      },
      "source": [
        "round(sex/sex.sum()*100,1)"
      ],
      "execution_count": 151,
      "outputs": [
        {
          "output_type": "execute_result",
          "data": {
            "text/plain": [
              "Sex\n",
              "F    28.3\n",
              "M    71.7\n",
              "Name: CustomerID, dtype: float64"
            ]
          },
          "metadata": {
            "tags": []
          },
          "execution_count": 151
        }
      ]
    },
    {
      "cell_type": "code",
      "metadata": {
        "trusted": true,
        "id": "ZYxGrfWvcwHy",
        "colab": {
          "base_uri": "https://localhost:8080/",
          "height": 304
        },
        "outputId": "0cbfed83-0770-4a4b-c403-ebca45eeee04"
      },
      "source": [
        "age = df.groupby('Age')['CustomerID'].nunique().sort_index()\n",
        "plt.style.use(\"fivethirtyeight\")\n",
        "plt.bar(age.index, age)\n",
        "plt.xlabel(\"Age\")\n",
        "plt.ylabel(\"Consumer Count\")\n",
        "plt.show()\n",
        "\n",
        "## Main consumer base is aroudn 26-35 YO"
      ],
      "execution_count": 152,
      "outputs": [
        {
          "output_type": "display_data",
          "data": {
            "image/png": "[encoded data removed]",
            "text/plain": [
              "<Figure size 432x288 with 1 Axes>"
            ]
          },
          "metadata": {
            "tags": []
          }
        }
      ]
    },
    {
      "cell_type": "code",
      "metadata": {
        "trusted": true,
        "id": "NJilPqmCcwHy",
        "colab": {
          "base_uri": "https://localhost:8080/"
        },
        "outputId": "8cabccff-91ad-4115-e052-a20f60ea989a"
      },
      "source": [
        "round(age/age.sum()*100,1)"
      ],
      "execution_count": 153,
      "outputs": [
        {
          "output_type": "execute_result",
          "data": {
            "text/plain": [
              "Age\n",
              "0-17      3.7\n",
              "18-25    18.1\n",
              "26-35    34.8\n",
              "36-45    19.8\n",
              "46-50     9.0\n",
              "51-55     8.2\n",
              "55+       6.3\n",
              "Name: CustomerID, dtype: float64"
            ]
          },
          "metadata": {
            "tags": []
          },
          "execution_count": 153
        }
      ]
    },
    {
      "cell_type": "code",
      "metadata": {
        "trusted": true,
        "id": "c8QrlS_OcwHy",
        "colab": {
          "base_uri": "https://localhost:8080/",
          "height": 304
        },
        "outputId": "33546c82-087c-42b8-f565-79a28727a8ab"
      },
      "source": [
        "CityType = df.groupby('CityType')['CustomerID'].nunique().sort_index()\n",
        "plt.style.use(\"fivethirtyeight\")\n",
        "plt.bar(CityType.index, CityType)\n",
        "plt.xlabel(\"CityType\")\n",
        "plt.ylabel(\"Consumer Count\")\n",
        "plt.show()"
      ],
      "execution_count": 154,
      "outputs": [
        {
          "output_type": "display_data",
          "data": {
            "image/png": "[encoded data removed]",
            "text/plain": [
              "<Figure size 432x288 with 1 Axes>"
            ]
          },
          "metadata": {
            "tags": []
          }
        }
      ]
    },
    {
      "cell_type": "code",
      "metadata": {
        "trusted": true,
        "id": "OqhffbykcwH0",
        "colab": {
          "base_uri": "https://localhost:8080/"
        },
        "outputId": "aa9ff98e-ca38-4dbc-e643-e3ffe8163d91"
      },
      "source": [
        "round(CityType/CityType.sum()*100,1)"
      ],
      "execution_count": 155,
      "outputs": [
        {
          "output_type": "execute_result",
          "data": {
            "text/plain": [
              "CityType\n",
              "A    17.7\n",
              "B    29.0\n",
              "C    53.3\n",
              "Name: CustomerID, dtype: float64"
            ]
          },
          "metadata": {
            "tags": []
          },
          "execution_count": 155
        }
      ]
    },
    {
      "cell_type": "code",
      "metadata": {
        "trusted": true,
        "id": "tDP2iK5UcwH1",
        "colab": {
          "base_uri": "https://localhost:8080/",
          "height": 304
        },
        "outputId": "c6f79fc5-9744-4acb-9da1-d712497e9afd"
      },
      "source": [
        "YearsInCity = df.groupby('YearsInCity')['CustomerID'].nunique().sort_index()\n",
        "plt.style.use(\"fivethirtyeight\")\n",
        "plt.bar(YearsInCity.index, YearsInCity)\n",
        "plt.xlabel(\"YearsInCity\")\n",
        "plt.ylabel(\"Consumer Count\")\n",
        "plt.show()"
      ],
      "execution_count": 156,
      "outputs": [
        {
          "output_type": "display_data",
          "data": {
            "image/png": "[encoded data removed]",
            "text/plain": [
              "<Figure size 432x288 with 1 Axes>"
            ]
          },
          "metadata": {
            "tags": []
          }
        }
      ]
    },
    {
      "cell_type": "code",
      "metadata": {
        "trusted": true,
        "id": "3gcxlFa3cwH1",
        "colab": {
          "base_uri": "https://localhost:8080/"
        },
        "outputId": "6c15213a-dc8c-469b-c1ef-e0d7f87bd488"
      },
      "source": [
        "round(YearsInCity/YearsInCity.sum()*100,1)"
      ],
      "execution_count": 157,
      "outputs": [
        {
          "output_type": "execute_result",
          "data": {
            "text/plain": [
              "YearsInCity\n",
              "0     13.1\n",
              "1     35.4\n",
              "2     19.4\n",
              "3     16.6\n",
              "4+    15.4\n",
              "Name: CustomerID, dtype: float64"
            ]
          },
          "metadata": {
            "tags": []
          },
          "execution_count": 157
        }
      ]
    },
    {
      "cell_type": "code",
      "metadata": {
        "scrolled": true,
        "trusted": true,
        "id": "TzSUxpD7cwH2",
        "colab": {
          "base_uri": "https://localhost:8080/",
          "height": 304
        },
        "outputId": "5ff0851b-d847-452e-9634-64f0eca6116d"
      },
      "source": [
        "Profession = df.groupby('Profession')['CustomerID'].nunique().sort_values(ascending=False)\n",
        "plt.style.use(\"fivethirtyeight\")\n",
        "plt.bar(Profession.index, Profession)\n",
        "plt.xlabel(\"Profession\")\n",
        "plt.ylabel(\"Consumer Count\")\n",
        "plt.show()"
      ],
      "execution_count": 158,
      "outputs": [
        {
          "output_type": "display_data",
          "data": {
            "image/png": "[encoded data removed]",
            "text/plain": [
              "<Figure size 432x288 with 1 Axes>"
            ]
          },
          "metadata": {
            "tags": []
          }
        }
      ]
    },
    {
      "cell_type": "code",
      "metadata": {
        "trusted": true,
        "id": "UNsbOpwucwH2",
        "colab": {
          "base_uri": "https://localhost:8080/"
        },
        "outputId": "2d22a007-dbcf-4462-c977-3ed8ca602950"
      },
      "source": [
        "round(Profession/Profession.sum()*100,1)"
      ],
      "execution_count": 159,
      "outputs": [
        {
          "output_type": "execute_result",
          "data": {
            "text/plain": [
              "Profession\n",
              "4     12.6\n",
              "0     11.7\n",
              "7     11.4\n",
              "1      8.8\n",
              "17     8.3\n",
              "12     6.4\n",
              "14     5.0\n",
              "20     4.6\n",
              "2      4.3\n",
              "16     4.0\n",
              "6      3.9\n",
              "10     3.3\n",
              "3      2.9\n",
              "15     2.4\n",
              "13     2.4\n",
              "11     2.2\n",
              "5      1.9\n",
              "9      1.5\n",
              "19     1.2\n",
              "18     1.1\n",
              "8      0.3\n",
              "Name: CustomerID, dtype: float64"
            ]
          },
          "metadata": {
            "tags": []
          },
          "execution_count": 159
        }
      ]
    },
    {
      "cell_type": "markdown",
      "metadata": {
        "id": "mlSxUs1CcwH3"
      },
      "source": [
        "Since the missing records account for a small subset (3.6%), consider remove it from the clustering"
      ]
    },
    {
      "cell_type": "code",
      "metadata": {
        "trusted": true,
        "scrolled": true,
        "id": "D5Iww2YtcwH3",
        "colab": {
          "base_uri": "https://localhost:8080/",
          "height": 304
        },
        "outputId": "c4b47389-62b0-44bb-c8d2-c4c637237a66"
      },
      "source": [
        "df_c = df.copy()\n",
        "df_c['HaveChildren'] = df_c['HaveChildren'].fillna('Missing')\n",
        "HaveChildren = df_c.groupby('HaveChildren')['CustomerID'].nunique().sort_index()\n",
        "plt.style.use(\"fivethirtyeight\")\n",
        "plt.bar(HaveChildren.index, HaveChildren)\n",
        "plt.xlabel(\"HaveChildren\")\n",
        "plt.ylabel(\"Consumer Count\")\n",
        "plt.show()"
      ],
      "execution_count": 160,
      "outputs": [
        {
          "output_type": "display_data",
          "data": {
            "image/png": "[encoded data removed]",
            "text/plain": [
              "<Figure size 432x288 with 1 Axes>"
            ]
          },
          "metadata": {
            "tags": []
          }
        }
      ]
    },
    {
      "cell_type": "code",
      "metadata": {
        "trusted": true,
        "id": "VaKhWY-OcwH3",
        "colab": {
          "base_uri": "https://localhost:8080/"
        },
        "outputId": "89768cb5-2b06-43b7-905c-3b0d735272e6"
      },
      "source": [
        "round(HaveChildren/HaveChildren.sum()*100,1)"
      ],
      "execution_count": 161,
      "outputs": [
        {
          "output_type": "execute_result",
          "data": {
            "text/plain": [
              "HaveChildren\n",
              "0          55.7\n",
              "1          40.7\n",
              "Missing     3.6\n",
              "Name: CustomerID, dtype: float64"
            ]
          },
          "metadata": {
            "tags": []
          },
          "execution_count": 161
        }
      ]
    },
    {
      "cell_type": "markdown",
      "metadata": {
        "id": "Iz3bm_EGcwH4"
      },
      "source": [
        "###### Check how the category columns structure"
      ]
    },
    {
      "cell_type": "code",
      "metadata": {
        "trusted": true,
        "id": "e8yE43cZcwH4",
        "colab": {
          "base_uri": "https://localhost:8080/"
        },
        "outputId": "f8c4817c-a5f0-42ac-a472-fa3fa69189d3"
      },
      "source": [
        "df.loc[df['ItemCategory1'] == df['ItemCategory2'],'ItemID'].unique()\n",
        "## cat start small"
      ],
      "execution_count": 162,
      "outputs": [
        {
          "output_type": "execute_result",
          "data": {
            "text/plain": [
              "array([], dtype=object)"
            ]
          },
          "metadata": {
            "tags": []
          },
          "execution_count": 162
        }
      ]
    },
    {
      "cell_type": "markdown",
      "metadata": {
        "id": "KB-1fN1gcwH5"
      },
      "source": [
        "##### Convert the category combination to one column\n",
        "Category 5 and 8 has both very high # of unique items and high sales"
      ]
    },
    {
      "cell_type": "code",
      "metadata": {
        "scrolled": true,
        "trusted": true,
        "id": "BZj_E4wIcwH5"
      },
      "source": [
        "df_combo = df.copy()\n",
        "\n",
        "df_combo['ItemCategory2'].fillna('N', inplace=True)\n",
        "df_combo['ItemCategory3'].fillna('N', inplace=True)\n",
        "\n",
        "df_combo['CatCombo'] = df_combo['ItemCategory1']+'_'\\\n",
        "                       +df_combo['ItemCategory2']+'_'\\\n",
        "                       +df_combo['ItemCategory3']"
      ],
      "execution_count": 163,
      "outputs": []
    },
    {
      "cell_type": "code",
      "metadata": {
        "trusted": true,
        "scrolled": true,
        "id": "M5csvjpTcwH5",
        "colab": {
          "base_uri": "https://localhost:8080/",
          "height": 282
        },
        "outputId": "99843538-283b-4bfe-e0e9-f1117c4685d8"
      },
      "source": [
        "ItemCombo = df_combo.groupby(['CatCombo'])['ItemID'].nunique().sort_values(ascending=False)\n",
        "plt.style.use(\"fivethirtyeight\")\n",
        "plt.boxplot(ItemCombo)\n",
        "plt.ylabel(\"Item Count\")\n",
        "plt.show()"
      ],
      "execution_count": 164,
      "outputs": [
        {
          "output_type": "display_data",
          "data": {
            "image/png": "[encoded data removed]",
            "text/plain": [
              "<Figure size 432x288 with 1 Axes>"
            ]
          },
          "metadata": {
            "tags": []
          }
        }
      ]
    },
    {
      "cell_type": "code",
      "metadata": {
        "trusted": true,
        "id": "zSjKtxo5cwH5",
        "colab": {
          "base_uri": "https://localhost:8080/"
        },
        "outputId": "0d67e2ac-e6a3-4a13-f570-c43bc1fb0dc2"
      },
      "source": [
        "ItemCombo.head(5)"
      ],
      "execution_count": 165,
      "outputs": [
        {
          "output_type": "execute_result",
          "data": {
            "text/plain": [
              "CatCombo\n",
              "8_N_N     727\n",
              "5_N_N     488\n",
              "11_N_N    171\n",
              "5_8_N     150\n",
              "5_14_N    136\n",
              "Name: ItemID, dtype: int64"
            ]
          },
          "metadata": {
            "tags": []
          },
          "execution_count": 165
        }
      ]
    },
    {
      "cell_type": "code",
      "metadata": {
        "trusted": true,
        "scrolled": true,
        "id": "YM3IhTc_cwH6",
        "colab": {
          "base_uri": "https://localhost:8080/",
          "height": 296
        },
        "outputId": "ef6cf64a-bfb3-4e5c-cc64-8603a270acce"
      },
      "source": [
        "ItemComboSales = df_combo.groupby(['CatCombo'])['Amount'].sum().sort_values(ascending=False)\n",
        "plt.style.use(\"fivethirtyeight\")\n",
        "plt.boxplot(ItemComboSales)\n",
        "plt.ylabel(\"Sales\")\n",
        "plt.show()"
      ],
      "execution_count": 166,
      "outputs": [
        {
          "output_type": "display_data",
          "data": {
            "image/png": "[encoded data removed]",
            "text/plain": [
              "<Figure size 432x288 with 1 Axes>"
            ]
          },
          "metadata": {
            "tags": []
          }
        }
      ]
    },
    {
      "cell_type": "code",
      "metadata": {
        "trusted": true,
        "id": "mBEDZGBhcwH6",
        "colab": {
          "base_uri": "https://localhost:8080/"
        },
        "outputId": "0562cd5e-8de8-4bc5-b8a9-fc48f5322cde"
      },
      "source": [
        "ItemComboSales.head(5)"
      ],
      "execution_count": 167,
      "outputs": [
        {
          "output_type": "execute_result",
          "data": {
            "text/plain": [
              "CatCombo\n",
              "8_N_N     449437193\n",
              "5_N_N     383126455\n",
              "1_16_N    198147606\n",
              "1_2_15    191990411\n",
              "5_8_N     149089678\n",
              "Name: Amount, dtype: int64"
            ]
          },
          "metadata": {
            "tags": []
          },
          "execution_count": 167
        }
      ]
    },
    {
      "cell_type": "markdown",
      "metadata": {
        "id": "d0z3zVe1cwH6"
      },
      "source": [
        "## 2. Segmentation (Clustering Analysis)\n",
        "#### Data Cleaning and Preprocessing\n",
        "\n",
        "* The dataset is clean overall\n",
        "\n",
        "* Only `HaveChildren` column has `NaN` values. Since it accounts for a small subset, they were dropped for clustering\n",
        "\n",
        "* Three outliers were removed (3 customers of exceptionally high total spending)  \n",
        "\n",
        "* Preprocessing of categorical data is shown below. In the actual clustering, `Profession` and `ItemCategory` columns were not used:\n",
        " * **Sex**: code `M` to `1` and `F` to `0`\n",
        " * **Age**: replace to mean of upper and lower boundary. Assign `17` to `0-17` and `55` for `55+`\n",
        "<!--  (as 16 is normally the lowest age we can legally target) -->\n",
        " * **CityType**: `A` as `1`, `B` as `2` and `C` as `3`\n",
        " * **YearsInCity**: convert to numeric; `4+` as `4`\n",
        " * **HaveChildren**: `N` as `-1`, `NaN` as `0` and `Y` as `1`  \n",
        " * **Profession**: one-hot encoding to 21 individual features with `1` or `0` values\n",
        " * **ItemCategory**: combine all three columns into one `CatCombo`, coded as `ItemCategory1_ItemCategory2_ItemCategory3` (resulting in 235 new categories/category combinations)\n",
        "* Normalize all features\n",
        "\n",
        "#### Considerations of clustering model/feature selection\n",
        "* The classic and popular `K-means` clustering method was chosen \n",
        "* Initially, `Profession` and `ItemCategory` were included in the clustering. However, the model performed poorly and the model significantly improved after the exclusion of these two sets of features. For the demonstration purpose, `TotalSpending` already represents a high level purchasing behavior and monetory value of a particular customer. Inclusion of these features is possible if given more time to explore different models/data transformation.\n",
        "<!-- What's more, even if we have a well-perform model, due to a lack of description of these two features, it limits a meaningful interpretation of  -->\n",
        "\n",
        "### 2.1 Data Preparation\n",
        "##### **Obtain demographic labels with `groupby` and save it as `df_demo`**"
      ]
    },
    {
      "cell_type": "code",
      "metadata": {
        "trusted": true,
        "id": "L86t9OCtcwH7",
        "colab": {
          "base_uri": "https://localhost:8080/",
          "height": 323
        },
        "outputId": "982724a2-e89b-4188-869d-7631b615403c"
      },
      "source": [
        "df_gb = df.copy()\n",
        "df_gb = df_gb.groupby(['CustomerID','Sex','Age','Profession',\\\n",
        "                       'CityType','YearsInCity','HaveChildren'],dropna=False)['Amount']\\\n",
        "                       .sum().reset_index().set_index('CustomerID')\n",
        "df_gb = df_gb.rename(columns={'Amount':'TotalSpending'})\n",
        "df_gb.head()"
      ],
      "execution_count": 197,
      "outputs": [
        {
          "output_type": "execute_result",
          "data": {
            "text/html": [
              "<div>\n",
              "<style scoped>\n",
              "    .dataframe tbody tr th:only-of-type {\n",
              "        vertical-align: middle;\n",
              "    }\n",
              "\n",
              "    .dataframe tbody tr th {\n",
              "        vertical-align: top;\n",
              "    }\n",
              "\n",
              "    .dataframe thead th {\n",
              "        text-align: right;\n",
              "    }\n",
              "</style>\n",
              "<table border=\"1\" class=\"dataframe\">\n",
              "  <thead>\n",
              "    <tr style=\"text-align: right;\">\n",
              "      <th></th>\n",
              "      <th>Sex</th>\n",
              "      <th>Age</th>\n",
              "      <th>Profession</th>\n",
              "      <th>CityType</th>\n",
              "      <th>YearsInCity</th>\n",
              "      <th>HaveChildren</th>\n",
              "      <th>TotalSpending</th>\n",
              "    </tr>\n",
              "    <tr>\n",
              "      <th>CustomerID</th>\n",
              "      <th></th>\n",
              "      <th></th>\n",
              "      <th></th>\n",
              "      <th></th>\n",
              "      <th></th>\n",
              "      <th></th>\n",
              "      <th></th>\n",
              "    </tr>\n",
              "  </thead>\n",
              "  <tbody>\n",
              "    <tr>\n",
              "      <th>1000001</th>\n",
              "      <td>F</td>\n",
              "      <td>0-17</td>\n",
              "      <td>10</td>\n",
              "      <td>A</td>\n",
              "      <td>2</td>\n",
              "      <td>0</td>\n",
              "      <td>333481</td>\n",
              "    </tr>\n",
              "    <tr>\n",
              "      <th>1000002</th>\n",
              "      <td>M</td>\n",
              "      <td>55+</td>\n",
              "      <td>16</td>\n",
              "      <td>C</td>\n",
              "      <td>4+</td>\n",
              "      <td>0</td>\n",
              "      <td>810353</td>\n",
              "    </tr>\n",
              "    <tr>\n",
              "      <th>1000003</th>\n",
              "      <td>M</td>\n",
              "      <td>26-35</td>\n",
              "      <td>15</td>\n",
              "      <td>A</td>\n",
              "      <td>3</td>\n",
              "      <td>0</td>\n",
              "      <td>341635</td>\n",
              "    </tr>\n",
              "    <tr>\n",
              "      <th>1000004</th>\n",
              "      <td>M</td>\n",
              "      <td>46-50</td>\n",
              "      <td>7</td>\n",
              "      <td>B</td>\n",
              "      <td>2</td>\n",
              "      <td>1</td>\n",
              "      <td>205987</td>\n",
              "    </tr>\n",
              "    <tr>\n",
              "      <th>1000005</th>\n",
              "      <td>M</td>\n",
              "      <td>26-35</td>\n",
              "      <td>20</td>\n",
              "      <td>A</td>\n",
              "      <td>1</td>\n",
              "      <td>1</td>\n",
              "      <td>821001</td>\n",
              "    </tr>\n",
              "  </tbody>\n",
              "</table>\n",
              "</div>"
            ],
            "text/plain": [
              "           Sex    Age Profession  ... YearsInCity HaveChildren TotalSpending\n",
              "CustomerID                        ...                                       \n",
              "1000001      F   0-17         10  ...           2            0        333481\n",
              "1000002      M    55+         16  ...          4+            0        810353\n",
              "1000003      M  26-35         15  ...           3            0        341635\n",
              "1000004      M  46-50          7  ...           2            1        205987\n",
              "1000005      M  26-35         20  ...           1            1        821001\n",
              "\n",
              "[5 rows x 7 columns]"
            ]
          },
          "metadata": {
            "tags": []
          },
          "execution_count": 197
        }
      ]
    },
    {
      "cell_type": "markdown",
      "metadata": {
        "id": "-zcjivDMcwH8"
      },
      "source": [
        "Create mapping for `Sex`, `Age`, `CityType`, `YearsInCity` and `HaveChildren`"
      ]
    },
    {
      "cell_type": "code",
      "metadata": {
        "trusted": true,
        "id": "TVviXOcfcwH9"
      },
      "source": [
        "replace_map = {'Sex': {'M': 1, 'F': 0},\n",
        "               'Age': {'0-17': 17, '18-25': 21.5, '26-35': 30.5, '36-45': 40.5,\n",
        "                       '46-50': 48, '51-55': 53, '55+': 55},\n",
        "               'CityType': {'A': 1, 'B': 2, 'C': 3},\n",
        "               'YearsInCity': {'0': 0, '1': 1, '2': 2, '3':3, '4+':4},\n",
        "               'HaveChildren': {'0': -0.5, '1': 0.5}}"
      ],
      "execution_count": 169,
      "outputs": []
    },
    {
      "cell_type": "markdown",
      "metadata": {
        "id": "v5W2MURGcwH9"
      },
      "source": [
        "Replace the value with the mapping above"
      ]
    },
    {
      "cell_type": "code",
      "metadata": {
        "trusted": true,
        "id": "grRp38ebcwH9",
        "colab": {
          "base_uri": "https://localhost:8080/"
        },
        "outputId": "71cc7992-320e-4f14-a636-e2cf2c065d5c"
      },
      "source": [
        "df_demo = df_gb.copy()\n",
        "df_demo.replace(replace_map, inplace=True)\n",
        "df_demo.drop(columns='Profession', inplace=True)\n",
        "\n",
        "print(df_demo.head())"
      ],
      "execution_count": 170,
      "outputs": [
        {
          "output_type": "stream",
          "text": [
            "            Sex   Age  CityType  YearsInCity  HaveChildren  TotalSpending\n",
            "CustomerID                                                               \n",
            "1000001       0  17.0         1            2          -0.5         333481\n",
            "1000002       1  55.0         3            4          -0.5         810353\n",
            "1000003       1  30.5         1            3          -0.5         341635\n",
            "1000004       1  48.0         2            2           0.5         205987\n",
            "1000005       1  30.5         1            1           0.5         821001\n"
          ],
          "name": "stdout"
        }
      ]
    },
    {
      "cell_type": "code",
      "metadata": {
        "trusted": true,
        "id": "d_kKbXtFcwH-",
        "colab": {
          "base_uri": "https://localhost:8080/"
        },
        "outputId": "a9762f38-bafc-478e-8367-f25650fc1dab"
      },
      "source": [
        "df_demo.info()"
      ],
      "execution_count": 171,
      "outputs": [
        {
          "output_type": "stream",
          "text": [
            "<class 'pandas.core.frame.DataFrame'>\n",
            "Index: 5891 entries, 1000001 to 1006040\n",
            "Data columns (total 6 columns):\n",
            " #   Column         Non-Null Count  Dtype  \n",
            "---  ------         --------------  -----  \n",
            " 0   Sex            5891 non-null   int64  \n",
            " 1   Age            5891 non-null   float64\n",
            " 2   CityType       5891 non-null   int64  \n",
            " 3   YearsInCity    5891 non-null   int64  \n",
            " 4   HaveChildren   5679 non-null   float64\n",
            " 5   TotalSpending  5891 non-null   int64  \n",
            "dtypes: float64(2), int64(4)\n",
            "memory usage: 322.2+ KB\n"
          ],
          "name": "stdout"
        }
      ]
    },
    {
      "cell_type": "markdown",
      "metadata": {
        "id": "SXA4EU4ycwH-"
      },
      "source": [
        "##### **Create one-hot encoding for `Professions` and save it as `df_prof`** (this feature is not used in the clustering)"
      ]
    },
    {
      "cell_type": "code",
      "metadata": {
        "scrolled": false,
        "trusted": true,
        "id": "KJ3SujxDcwH-",
        "colab": {
          "base_uri": "https://localhost:8080/"
        },
        "outputId": "61b56029-b36c-4e80-fa9a-1e359b1767b1"
      },
      "source": [
        "df_prof = df_gb.copy().reset_index().set_index('CustomerID')\n",
        "df_prof.drop(columns=['Sex','Age','CityType','YearsInCity','HaveChildren','TotalSpending'], inplace=True)\n",
        "df_prof = pd.get_dummies(df_prof, columns=['Profession'], prefix = ['Prof'])\n",
        "\n",
        "print(df_prof.head())"
      ],
      "execution_count": 172,
      "outputs": [
        {
          "output_type": "stream",
          "text": [
            "            Prof_0  Prof_1  Prof_10  Prof_11  ...  Prof_6  Prof_7  Prof_8  Prof_9\n",
            "CustomerID                                    ...                                \n",
            "1000001          0       0        1        0  ...       0       0       0       0\n",
            "1000002          0       0        0        0  ...       0       0       0       0\n",
            "1000003          0       0        0        0  ...       0       0       0       0\n",
            "1000004          0       0        0        0  ...       0       1       0       0\n",
            "1000005          0       0        0        0  ...       0       0       0       0\n",
            "\n",
            "[5 rows x 21 columns]\n"
          ],
          "name": "stdout"
        }
      ]
    },
    {
      "cell_type": "markdown",
      "metadata": {
        "id": "dhfE5nHvcwH-"
      },
      "source": [
        "##### **Combine three `ItemCategory` columns to `CatCombo` and save it as `df_combo`** (this feature is not used in the clustering, but it is included in the descriptive analysis)"
      ]
    },
    {
      "cell_type": "code",
      "metadata": {
        "scrolled": true,
        "trusted": true,
        "id": "81Gx5TYPcwH_",
        "colab": {
          "base_uri": "https://localhost:8080/"
        },
        "outputId": "cbc6703e-40ac-4b41-8c85-ee81ce39adae"
      },
      "source": [
        "df_combo = df.copy()\n",
        "\n",
        "df_combo['ItemCategory2'].fillna('N', inplace=True)\n",
        "df_combo['ItemCategory3'].fillna('N', inplace=True)\n",
        "\n",
        "df_combo['CatCombo'] = df_combo['ItemCategory1']+'_'\\\n",
        "                       +df_combo['ItemCategory2']+'_'\\\n",
        "                       +df_combo['ItemCategory3']\n",
        "\n",
        "print(df_combo.sort_values(['CatCombo']).head())"
      ],
      "execution_count": 173,
      "outputs": [
        {
          "output_type": "stream",
          "text": [
            "       CustomerID     ItemID Sex  ... ItemCategory3 Amount  CatCombo\n",
            "137562    1003292  P00308042   F  ...             N  19206   10_11_N\n",
            "409858    1003110  P00346542   M  ...            16   4932  10_13_16\n",
            "3908      1000645  P00116142   M  ...            16  23395  10_13_16\n",
            "220120    1003934  P00161842   M  ...            16   4627  10_13_16\n",
            "130594    1002049  P00116142   F  ...            16  14258  10_13_16\n",
            "\n",
            "[5 rows x 13 columns]\n"
          ],
          "name": "stdout"
        }
      ]
    },
    {
      "cell_type": "markdown",
      "metadata": {
        "id": "gNpHCo97cwH_"
      },
      "source": [
        "Pivot the `CatCombo` column to wide format, resulting in each row respresenting a unique `CustomerID` and each columns contains its spending in each category combo"
      ]
    },
    {
      "cell_type": "code",
      "metadata": {
        "trusted": true,
        "id": "py1cRxmCcwH_",
        "colab": {
          "base_uri": "https://localhost:8080/"
        },
        "outputId": "0742d533-da14-46a3-c7f8-220ba1f434db"
      },
      "source": [
        "df_combo = pd.pivot_table(df_combo, values=['Amount'], index=['CustomerID'],\\\n",
        "                          columns=['CatCombo'], aggfunc=np.sum, fill_value=0)\\\n",
        "                          .reset_index().set_index('CustomerID').droplevel(0, axis=1)\n",
        "\n",
        "df_combo.info()"
      ],
      "execution_count": 174,
      "outputs": [
        {
          "output_type": "stream",
          "text": [
            "<class 'pandas.core.frame.DataFrame'>\n",
            "Index: 5891 entries, 1000001 to 1006040\n",
            "Columns: 235 entries, 10_11_N to 9_N_N\n",
            "dtypes: int64(235)\n",
            "memory usage: 10.6+ MB\n"
          ],
          "name": "stdout"
        }
      ]
    },
    {
      "cell_type": "code",
      "metadata": {
        "trusted": true,
        "id": "o9dRMR2WcwIA",
        "colab": {
          "base_uri": "https://localhost:8080/"
        },
        "outputId": "361aadc6-c1bd-4ecb-f336-4df25500fea9"
      },
      "source": [
        "print(df_combo.head())"
      ],
      "execution_count": 175,
      "outputs": [
        {
          "output_type": "stream",
          "text": [
            "CatCombo    10_11_N  10_13_16  10_13_N  10_14_16  ...  8_9_N   8_N_N  9_15_N  9_N_N\n",
            "CustomerID                                        ...                              \n",
            "1000001           0         0        0         0  ...      0   59604       0      0\n",
            "1000002           0         0        0         0  ...      0  152360       0      0\n",
            "1000003           0         0        0         0  ...      0       0       0      0\n",
            "1000004           0         0        0         0  ...      0       0       0      0\n",
            "1000005           0         0        0         0  ...      0  174152       0      0\n",
            "\n",
            "[5 rows x 235 columns]\n"
          ],
          "name": "stdout"
        }
      ]
    },
    {
      "cell_type": "markdown",
      "metadata": {
        "id": "2haQ5ZMfcwIA"
      },
      "source": [
        "##### **Complie all the features**"
      ]
    },
    {
      "cell_type": "code",
      "metadata": {
        "trusted": true,
        "id": "_pLjiaqRcwIA",
        "colab": {
          "base_uri": "https://localhost:8080/"
        },
        "outputId": "777a413f-8981-4a33-e4e5-54bed719a7e8"
      },
      "source": [
        "# df_compile = df_demo.join([df_prof, df_combo])\n",
        "df_compile = df_demo.join(df_combo)\n",
        "print(df_compile.head(5))"
      ],
      "execution_count": 176,
      "outputs": [
        {
          "output_type": "stream",
          "text": [
            "            Sex   Age  CityType  YearsInCity  ...  8_9_N   8_N_N  9_15_N  9_N_N\n",
            "CustomerID                                    ...                              \n",
            "1000001       0  17.0         1            2  ...      0   59604       0      0\n",
            "1000002       1  55.0         3            4  ...      0  152360       0      0\n",
            "1000003       1  30.5         1            3  ...      0       0       0      0\n",
            "1000004       1  48.0         2            2  ...      0       0       0      0\n",
            "1000005       1  30.5         1            1  ...      0  174152       0      0\n",
            "\n",
            "[5 rows x 241 columns]\n"
          ],
          "name": "stdout"
        }
      ]
    },
    {
      "cell_type": "code",
      "metadata": {
        "scrolled": false,
        "trusted": true,
        "id": "3hRvnVszcwIB",
        "colab": {
          "base_uri": "https://localhost:8080/"
        },
        "outputId": "19348414-5347-4f1c-a675-23a0be76d2cb"
      },
      "source": [
        "df_compile.info()"
      ],
      "execution_count": 177,
      "outputs": [
        {
          "output_type": "stream",
          "text": [
            "<class 'pandas.core.frame.DataFrame'>\n",
            "Index: 5891 entries, 1000001 to 1006040\n",
            "Columns: 241 entries, Sex to 9_N_N\n",
            "dtypes: float64(2), int64(239)\n",
            "memory usage: 11.0+ MB\n"
          ],
          "name": "stdout"
        }
      ]
    },
    {
      "cell_type": "markdown",
      "metadata": {
        "id": "zVaCSn1xcwIB"
      },
      "source": [
        "Drop missing value in `HaveChildren`"
      ]
    },
    {
      "cell_type": "code",
      "metadata": {
        "trusted": true,
        "id": "r-8oRW-fcwIC",
        "colab": {
          "base_uri": "https://localhost:8080/"
        },
        "outputId": "3a58de88-59f8-42cf-8dbb-6f8150a0c140"
      },
      "source": [
        "df_dropna = df_compile.dropna(subset=['HaveChildren'])\n",
        "df_dropna.info()"
      ],
      "execution_count": 178,
      "outputs": [
        {
          "output_type": "stream",
          "text": [
            "<class 'pandas.core.frame.DataFrame'>\n",
            "Index: 5679 entries, 1000001 to 1006040\n",
            "Columns: 241 entries, Sex to 9_N_N\n",
            "dtypes: float64(2), int64(239)\n",
            "memory usage: 10.5+ MB\n"
          ],
          "name": "stdout"
        }
      ]
    },
    {
      "cell_type": "markdown",
      "metadata": {
        "id": "cjPVow5DcwIC"
      },
      "source": [
        "Drop outliers (`TotalSpending` >= 7M)"
      ]
    },
    {
      "cell_type": "code",
      "metadata": {
        "trusted": true,
        "id": "4wYpm-aTcwIC",
        "colab": {
          "base_uri": "https://localhost:8080/"
        },
        "outputId": "7f257a1d-a45d-4e25-ea0f-6bdbe44679ef"
      },
      "source": [
        "df_inliner = df_dropna.drop(consumer_spend_outlier)\n",
        "df_inliner.info()"
      ],
      "execution_count": 179,
      "outputs": [
        {
          "output_type": "stream",
          "text": [
            "<class 'pandas.core.frame.DataFrame'>\n",
            "Index: 5676 entries, 1000001 to 1006040\n",
            "Columns: 241 entries, Sex to 9_N_N\n",
            "dtypes: float64(2), int64(239)\n",
            "memory usage: 10.5+ MB\n"
          ],
          "name": "stdout"
        }
      ]
    },
    {
      "cell_type": "code",
      "metadata": {
        "colab": {
          "base_uri": "https://localhost:8080/",
          "height": 284
        },
        "id": "WsScC-1c2YWc",
        "outputId": "cb1dbc19-0d19-4df8-8fc4-6914c5fdff7b"
      },
      "source": [
        "df_inliner.head()"
      ],
      "execution_count": 180,
      "outputs": [
        {
          "output_type": "execute_result",
          "data": {
            "text/html": [
              "<div>\n",
              "<style scoped>\n",
              "    .dataframe tbody tr th:only-of-type {\n",
              "        vertical-align: middle;\n",
              "    }\n",
              "\n",
              "    .dataframe tbody tr th {\n",
              "        vertical-align: top;\n",
              "    }\n",
              "\n",
              "    .dataframe thead th {\n",
              "        text-align: right;\n",
              "    }\n",
              "</style>\n",
              "<table border=\"1\" class=\"dataframe\">\n",
              "  <thead>\n",
              "    <tr style=\"text-align: right;\">\n",
              "      <th></th>\n",
              "      <th>Sex</th>\n",
              "      <th>Age</th>\n",
              "      <th>CityType</th>\n",
              "      <th>YearsInCity</th>\n",
              "      <th>HaveChildren</th>\n",
              "      <th>TotalSpending</th>\n",
              "      <th>10_11_N</th>\n",
              "      <th>10_13_16</th>\n",
              "      <th>10_13_N</th>\n",
              "      <th>10_14_16</th>\n",
              "      <th>10_15_16</th>\n",
              "      <th>10_15_N</th>\n",
              "      <th>10_16_N</th>\n",
              "      <th>10_N_N</th>\n",
              "      <th>11_13_16</th>\n",
              "      <th>11_13_N</th>\n",
              "      <th>11_14_N</th>\n",
              "      <th>11_15_16</th>\n",
              "      <th>11_15_N</th>\n",
              "      <th>11_16_N</th>\n",
              "      <th>11_N_N</th>\n",
              "      <th>12_14_17</th>\n",
              "      <th>12_14_N</th>\n",
              "      <th>12_17_N</th>\n",
              "      <th>12_N_N</th>\n",
              "      <th>13_14_16</th>\n",
              "      <th>13_15_16</th>\n",
              "      <th>13_15_N</th>\n",
              "      <th>13_16_N</th>\n",
              "      <th>13_N_N</th>\n",
              "      <th>14_16_N</th>\n",
              "      <th>14_17_N</th>\n",
              "      <th>14_18_N</th>\n",
              "      <th>14_N_N</th>\n",
              "      <th>15_16_17</th>\n",
              "      <th>15_16_N</th>\n",
              "      <th>15_17_N</th>\n",
              "      <th>15_N_N</th>\n",
              "      <th>16_N_N</th>\n",
              "      <th>17_N_N</th>\n",
              "      <th>...</th>\n",
              "      <th>6_11_N</th>\n",
              "      <th>6_13_N</th>\n",
              "      <th>6_16_N</th>\n",
              "      <th>6_8_10</th>\n",
              "      <th>6_8_13</th>\n",
              "      <th>6_8_14</th>\n",
              "      <th>6_8_15</th>\n",
              "      <th>6_8_16</th>\n",
              "      <th>6_8_N</th>\n",
              "      <th>6_N_N</th>\n",
              "      <th>7_12_N</th>\n",
              "      <th>7_17_N</th>\n",
              "      <th>7_8_N</th>\n",
              "      <th>7_N_N</th>\n",
              "      <th>8_10_16</th>\n",
              "      <th>8_10_N</th>\n",
              "      <th>8_11_16</th>\n",
              "      <th>8_11_N</th>\n",
              "      <th>8_12_17</th>\n",
              "      <th>8_12_N</th>\n",
              "      <th>8_13_14</th>\n",
              "      <th>8_13_15</th>\n",
              "      <th>8_13_16</th>\n",
              "      <th>8_13_N</th>\n",
              "      <th>8_14_15</th>\n",
              "      <th>8_14_16</th>\n",
              "      <th>8_14_17</th>\n",
              "      <th>8_14_18</th>\n",
              "      <th>8_14_N</th>\n",
              "      <th>8_15_16</th>\n",
              "      <th>8_15_N</th>\n",
              "      <th>8_16_17</th>\n",
              "      <th>8_16_N</th>\n",
              "      <th>8_17_N</th>\n",
              "      <th>8_18_N</th>\n",
              "      <th>8_9_14</th>\n",
              "      <th>8_9_N</th>\n",
              "      <th>8_N_N</th>\n",
              "      <th>9_15_N</th>\n",
              "      <th>9_N_N</th>\n",
              "    </tr>\n",
              "    <tr>\n",
              "      <th>CustomerID</th>\n",
              "      <th></th>\n",
              "      <th></th>\n",
              "      <th></th>\n",
              "      <th></th>\n",
              "      <th></th>\n",
              "      <th></th>\n",
              "      <th></th>\n",
              "      <th></th>\n",
              "      <th></th>\n",
              "      <th></th>\n",
              "      <th></th>\n",
              "      <th></th>\n",
              "      <th></th>\n",
              "      <th></th>\n",
              "      <th></th>\n",
              "      <th></th>\n",
              "      <th></th>\n",
              "      <th></th>\n",
              "      <th></th>\n",
              "      <th></th>\n",
              "      <th></th>\n",
              "      <th></th>\n",
              "      <th></th>\n",
              "      <th></th>\n",
              "      <th></th>\n",
              "      <th></th>\n",
              "      <th></th>\n",
              "      <th></th>\n",
              "      <th></th>\n",
              "      <th></th>\n",
              "      <th></th>\n",
              "      <th></th>\n",
              "      <th></th>\n",
              "      <th></th>\n",
              "      <th></th>\n",
              "      <th></th>\n",
              "      <th></th>\n",
              "      <th></th>\n",
              "      <th></th>\n",
              "      <th></th>\n",
              "      <th></th>\n",
              "      <th></th>\n",
              "      <th></th>\n",
              "      <th></th>\n",
              "      <th></th>\n",
              "      <th></th>\n",
              "      <th></th>\n",
              "      <th></th>\n",
              "      <th></th>\n",
              "      <th></th>\n",
              "      <th></th>\n",
              "      <th></th>\n",
              "      <th></th>\n",
              "      <th></th>\n",
              "      <th></th>\n",
              "      <th></th>\n",
              "      <th></th>\n",
              "      <th></th>\n",
              "      <th></th>\n",
              "      <th></th>\n",
              "      <th></th>\n",
              "      <th></th>\n",
              "      <th></th>\n",
              "      <th></th>\n",
              "      <th></th>\n",
              "      <th></th>\n",
              "      <th></th>\n",
              "      <th></th>\n",
              "      <th></th>\n",
              "      <th></th>\n",
              "      <th></th>\n",
              "      <th></th>\n",
              "      <th></th>\n",
              "      <th></th>\n",
              "      <th></th>\n",
              "      <th></th>\n",
              "      <th></th>\n",
              "      <th></th>\n",
              "      <th></th>\n",
              "      <th></th>\n",
              "      <th></th>\n",
              "    </tr>\n",
              "  </thead>\n",
              "  <tbody>\n",
              "    <tr>\n",
              "      <th>1000001</th>\n",
              "      <td>0</td>\n",
              "      <td>17.0</td>\n",
              "      <td>1</td>\n",
              "      <td>2</td>\n",
              "      <td>-0.5</td>\n",
              "      <td>333481</td>\n",
              "      <td>0</td>\n",
              "      <td>0</td>\n",
              "      <td>0</td>\n",
              "      <td>0</td>\n",
              "      <td>0</td>\n",
              "      <td>0</td>\n",
              "      <td>0</td>\n",
              "      <td>0</td>\n",
              "      <td>0</td>\n",
              "      <td>0</td>\n",
              "      <td>0</td>\n",
              "      <td>0</td>\n",
              "      <td>0</td>\n",
              "      <td>0</td>\n",
              "      <td>0</td>\n",
              "      <td>0</td>\n",
              "      <td>1057</td>\n",
              "      <td>0</td>\n",
              "      <td>3137</td>\n",
              "      <td>0</td>\n",
              "      <td>0</td>\n",
              "      <td>0</td>\n",
              "      <td>0</td>\n",
              "      <td>0</td>\n",
              "      <td>0</td>\n",
              "      <td>0</td>\n",
              "      <td>0</td>\n",
              "      <td>11011</td>\n",
              "      <td>0</td>\n",
              "      <td>0</td>\n",
              "      <td>0</td>\n",
              "      <td>0</td>\n",
              "      <td>16446</td>\n",
              "      <td>0</td>\n",
              "      <td>...</td>\n",
              "      <td>0</td>\n",
              "      <td>0</td>\n",
              "      <td>0</td>\n",
              "      <td>0</td>\n",
              "      <td>0</td>\n",
              "      <td>0</td>\n",
              "      <td>0</td>\n",
              "      <td>16622</td>\n",
              "      <td>0</td>\n",
              "      <td>0</td>\n",
              "      <td>0</td>\n",
              "      <td>0</td>\n",
              "      <td>0</td>\n",
              "      <td>0</td>\n",
              "      <td>0</td>\n",
              "      <td>0</td>\n",
              "      <td>0</td>\n",
              "      <td>0</td>\n",
              "      <td>0</td>\n",
              "      <td>0</td>\n",
              "      <td>0</td>\n",
              "      <td>0</td>\n",
              "      <td>0</td>\n",
              "      <td>0</td>\n",
              "      <td>0</td>\n",
              "      <td>0</td>\n",
              "      <td>0</td>\n",
              "      <td>0</td>\n",
              "      <td>0</td>\n",
              "      <td>0</td>\n",
              "      <td>0</td>\n",
              "      <td>0</td>\n",
              "      <td>0</td>\n",
              "      <td>9938</td>\n",
              "      <td>0</td>\n",
              "      <td>0</td>\n",
              "      <td>0</td>\n",
              "      <td>59604</td>\n",
              "      <td>0</td>\n",
              "      <td>0</td>\n",
              "    </tr>\n",
              "    <tr>\n",
              "      <th>1000002</th>\n",
              "      <td>1</td>\n",
              "      <td>55.0</td>\n",
              "      <td>3</td>\n",
              "      <td>4</td>\n",
              "      <td>-0.5</td>\n",
              "      <td>810353</td>\n",
              "      <td>0</td>\n",
              "      <td>0</td>\n",
              "      <td>0</td>\n",
              "      <td>0</td>\n",
              "      <td>0</td>\n",
              "      <td>0</td>\n",
              "      <td>0</td>\n",
              "      <td>0</td>\n",
              "      <td>0</td>\n",
              "      <td>0</td>\n",
              "      <td>0</td>\n",
              "      <td>0</td>\n",
              "      <td>0</td>\n",
              "      <td>0</td>\n",
              "      <td>0</td>\n",
              "      <td>0</td>\n",
              "      <td>0</td>\n",
              "      <td>0</td>\n",
              "      <td>0</td>\n",
              "      <td>0</td>\n",
              "      <td>0</td>\n",
              "      <td>0</td>\n",
              "      <td>0</td>\n",
              "      <td>0</td>\n",
              "      <td>0</td>\n",
              "      <td>0</td>\n",
              "      <td>0</td>\n",
              "      <td>0</td>\n",
              "      <td>0</td>\n",
              "      <td>0</td>\n",
              "      <td>0</td>\n",
              "      <td>0</td>\n",
              "      <td>0</td>\n",
              "      <td>0</td>\n",
              "      <td>...</td>\n",
              "      <td>0</td>\n",
              "      <td>0</td>\n",
              "      <td>0</td>\n",
              "      <td>15952</td>\n",
              "      <td>0</td>\n",
              "      <td>0</td>\n",
              "      <td>0</td>\n",
              "      <td>0</td>\n",
              "      <td>74043</td>\n",
              "      <td>0</td>\n",
              "      <td>0</td>\n",
              "      <td>0</td>\n",
              "      <td>0</td>\n",
              "      <td>0</td>\n",
              "      <td>0</td>\n",
              "      <td>0</td>\n",
              "      <td>0</td>\n",
              "      <td>0</td>\n",
              "      <td>0</td>\n",
              "      <td>0</td>\n",
              "      <td>0</td>\n",
              "      <td>0</td>\n",
              "      <td>0</td>\n",
              "      <td>0</td>\n",
              "      <td>0</td>\n",
              "      <td>0</td>\n",
              "      <td>9899</td>\n",
              "      <td>0</td>\n",
              "      <td>8017</td>\n",
              "      <td>0</td>\n",
              "      <td>16001</td>\n",
              "      <td>0</td>\n",
              "      <td>17865</td>\n",
              "      <td>6187</td>\n",
              "      <td>0</td>\n",
              "      <td>0</td>\n",
              "      <td>0</td>\n",
              "      <td>152360</td>\n",
              "      <td>0</td>\n",
              "      <td>0</td>\n",
              "    </tr>\n",
              "    <tr>\n",
              "      <th>1000003</th>\n",
              "      <td>1</td>\n",
              "      <td>30.5</td>\n",
              "      <td>1</td>\n",
              "      <td>3</td>\n",
              "      <td>-0.5</td>\n",
              "      <td>341635</td>\n",
              "      <td>0</td>\n",
              "      <td>0</td>\n",
              "      <td>0</td>\n",
              "      <td>0</td>\n",
              "      <td>0</td>\n",
              "      <td>0</td>\n",
              "      <td>0</td>\n",
              "      <td>0</td>\n",
              "      <td>0</td>\n",
              "      <td>0</td>\n",
              "      <td>0</td>\n",
              "      <td>0</td>\n",
              "      <td>0</td>\n",
              "      <td>0</td>\n",
              "      <td>0</td>\n",
              "      <td>0</td>\n",
              "      <td>0</td>\n",
              "      <td>0</td>\n",
              "      <td>0</td>\n",
              "      <td>0</td>\n",
              "      <td>0</td>\n",
              "      <td>0</td>\n",
              "      <td>0</td>\n",
              "      <td>0</td>\n",
              "      <td>0</td>\n",
              "      <td>0</td>\n",
              "      <td>0</td>\n",
              "      <td>0</td>\n",
              "      <td>0</td>\n",
              "      <td>0</td>\n",
              "      <td>0</td>\n",
              "      <td>0</td>\n",
              "      <td>0</td>\n",
              "      <td>0</td>\n",
              "      <td>...</td>\n",
              "      <td>0</td>\n",
              "      <td>0</td>\n",
              "      <td>0</td>\n",
              "      <td>0</td>\n",
              "      <td>0</td>\n",
              "      <td>0</td>\n",
              "      <td>0</td>\n",
              "      <td>0</td>\n",
              "      <td>0</td>\n",
              "      <td>0</td>\n",
              "      <td>0</td>\n",
              "      <td>0</td>\n",
              "      <td>0</td>\n",
              "      <td>0</td>\n",
              "      <td>0</td>\n",
              "      <td>0</td>\n",
              "      <td>0</td>\n",
              "      <td>0</td>\n",
              "      <td>0</td>\n",
              "      <td>0</td>\n",
              "      <td>0</td>\n",
              "      <td>0</td>\n",
              "      <td>0</td>\n",
              "      <td>0</td>\n",
              "      <td>0</td>\n",
              "      <td>0</td>\n",
              "      <td>0</td>\n",
              "      <td>0</td>\n",
              "      <td>0</td>\n",
              "      <td>0</td>\n",
              "      <td>0</td>\n",
              "      <td>0</td>\n",
              "      <td>5817</td>\n",
              "      <td>0</td>\n",
              "      <td>0</td>\n",
              "      <td>0</td>\n",
              "      <td>0</td>\n",
              "      <td>0</td>\n",
              "      <td>0</td>\n",
              "      <td>0</td>\n",
              "    </tr>\n",
              "    <tr>\n",
              "      <th>1000004</th>\n",
              "      <td>1</td>\n",
              "      <td>48.0</td>\n",
              "      <td>2</td>\n",
              "      <td>2</td>\n",
              "      <td>0.5</td>\n",
              "      <td>205987</td>\n",
              "      <td>0</td>\n",
              "      <td>0</td>\n",
              "      <td>0</td>\n",
              "      <td>0</td>\n",
              "      <td>0</td>\n",
              "      <td>0</td>\n",
              "      <td>0</td>\n",
              "      <td>0</td>\n",
              "      <td>0</td>\n",
              "      <td>0</td>\n",
              "      <td>0</td>\n",
              "      <td>0</td>\n",
              "      <td>0</td>\n",
              "      <td>0</td>\n",
              "      <td>0</td>\n",
              "      <td>0</td>\n",
              "      <td>0</td>\n",
              "      <td>0</td>\n",
              "      <td>0</td>\n",
              "      <td>0</td>\n",
              "      <td>0</td>\n",
              "      <td>0</td>\n",
              "      <td>0</td>\n",
              "      <td>0</td>\n",
              "      <td>0</td>\n",
              "      <td>0</td>\n",
              "      <td>0</td>\n",
              "      <td>0</td>\n",
              "      <td>0</td>\n",
              "      <td>0</td>\n",
              "      <td>0</td>\n",
              "      <td>0</td>\n",
              "      <td>0</td>\n",
              "      <td>0</td>\n",
              "      <td>...</td>\n",
              "      <td>0</td>\n",
              "      <td>0</td>\n",
              "      <td>0</td>\n",
              "      <td>0</td>\n",
              "      <td>0</td>\n",
              "      <td>0</td>\n",
              "      <td>0</td>\n",
              "      <td>0</td>\n",
              "      <td>0</td>\n",
              "      <td>0</td>\n",
              "      <td>0</td>\n",
              "      <td>0</td>\n",
              "      <td>0</td>\n",
              "      <td>0</td>\n",
              "      <td>0</td>\n",
              "      <td>0</td>\n",
              "      <td>0</td>\n",
              "      <td>0</td>\n",
              "      <td>0</td>\n",
              "      <td>0</td>\n",
              "      <td>0</td>\n",
              "      <td>0</td>\n",
              "      <td>0</td>\n",
              "      <td>0</td>\n",
              "      <td>0</td>\n",
              "      <td>0</td>\n",
              "      <td>0</td>\n",
              "      <td>0</td>\n",
              "      <td>0</td>\n",
              "      <td>0</td>\n",
              "      <td>0</td>\n",
              "      <td>0</td>\n",
              "      <td>0</td>\n",
              "      <td>0</td>\n",
              "      <td>0</td>\n",
              "      <td>0</td>\n",
              "      <td>0</td>\n",
              "      <td>0</td>\n",
              "      <td>0</td>\n",
              "      <td>0</td>\n",
              "    </tr>\n",
              "    <tr>\n",
              "      <th>1000005</th>\n",
              "      <td>1</td>\n",
              "      <td>30.5</td>\n",
              "      <td>1</td>\n",
              "      <td>1</td>\n",
              "      <td>0.5</td>\n",
              "      <td>821001</td>\n",
              "      <td>0</td>\n",
              "      <td>0</td>\n",
              "      <td>0</td>\n",
              "      <td>0</td>\n",
              "      <td>0</td>\n",
              "      <td>0</td>\n",
              "      <td>0</td>\n",
              "      <td>0</td>\n",
              "      <td>4653</td>\n",
              "      <td>0</td>\n",
              "      <td>0</td>\n",
              "      <td>0</td>\n",
              "      <td>0</td>\n",
              "      <td>0</td>\n",
              "      <td>5895</td>\n",
              "      <td>0</td>\n",
              "      <td>0</td>\n",
              "      <td>0</td>\n",
              "      <td>0</td>\n",
              "      <td>0</td>\n",
              "      <td>0</td>\n",
              "      <td>0</td>\n",
              "      <td>0</td>\n",
              "      <td>0</td>\n",
              "      <td>0</td>\n",
              "      <td>0</td>\n",
              "      <td>0</td>\n",
              "      <td>11085</td>\n",
              "      <td>0</td>\n",
              "      <td>17374</td>\n",
              "      <td>0</td>\n",
              "      <td>0</td>\n",
              "      <td>25195</td>\n",
              "      <td>0</td>\n",
              "      <td>...</td>\n",
              "      <td>4240</td>\n",
              "      <td>0</td>\n",
              "      <td>8232</td>\n",
              "      <td>0</td>\n",
              "      <td>0</td>\n",
              "      <td>0</td>\n",
              "      <td>0</td>\n",
              "      <td>16244</td>\n",
              "      <td>20603</td>\n",
              "      <td>16421</td>\n",
              "      <td>0</td>\n",
              "      <td>0</td>\n",
              "      <td>0</td>\n",
              "      <td>74954</td>\n",
              "      <td>0</td>\n",
              "      <td>0</td>\n",
              "      <td>0</td>\n",
              "      <td>0</td>\n",
              "      <td>0</td>\n",
              "      <td>4004</td>\n",
              "      <td>0</td>\n",
              "      <td>0</td>\n",
              "      <td>4263</td>\n",
              "      <td>7913</td>\n",
              "      <td>0</td>\n",
              "      <td>6181</td>\n",
              "      <td>0</td>\n",
              "      <td>0</td>\n",
              "      <td>28140</td>\n",
              "      <td>0</td>\n",
              "      <td>7803</td>\n",
              "      <td>0</td>\n",
              "      <td>20245</td>\n",
              "      <td>7850</td>\n",
              "      <td>0</td>\n",
              "      <td>0</td>\n",
              "      <td>0</td>\n",
              "      <td>174152</td>\n",
              "      <td>0</td>\n",
              "      <td>0</td>\n",
              "    </tr>\n",
              "  </tbody>\n",
              "</table>\n",
              "<p>5 rows × 241 columns</p>\n",
              "</div>"
            ],
            "text/plain": [
              "            Sex   Age  CityType  YearsInCity  ...  8_9_N   8_N_N  9_15_N  9_N_N\n",
              "CustomerID                                    ...                              \n",
              "1000001       0  17.0         1            2  ...      0   59604       0      0\n",
              "1000002       1  55.0         3            4  ...      0  152360       0      0\n",
              "1000003       1  30.5         1            3  ...      0       0       0      0\n",
              "1000004       1  48.0         2            2  ...      0       0       0      0\n",
              "1000005       1  30.5         1            1  ...      0  174152       0      0\n",
              "\n",
              "[5 rows x 241 columns]"
            ]
          },
          "metadata": {
            "tags": []
          },
          "execution_count": 180
        }
      ]
    },
    {
      "cell_type": "markdown",
      "metadata": {
        "id": "1kV_sa_0cwIC"
      },
      "source": [
        "### 2.2 K-mean Clustering"
      ]
    },
    {
      "cell_type": "markdown",
      "metadata": {
        "id": "PpesbGQvcwIH"
      },
      "source": [
        "##### **Build the pipeline**"
      ]
    },
    {
      "cell_type": "code",
      "metadata": {
        "trusted": false,
        "id": "xc1vsb9WcwIH"
      },
      "source": [
        "def KMeanCluster(n, data):\n",
        "    \n",
        "    preprocessor = Pipeline(\n",
        "        [\n",
        "            (\"scaler\", MinMaxScaler())\n",
        "        ]\n",
        "    )\n",
        "\n",
        "    clusterer = Pipeline(\n",
        "       [\n",
        "           (\n",
        "               \"kmeans\",\n",
        "               KMeans(\n",
        "                   n_clusters=n,\n",
        "                   init=\"k-means++\",\n",
        "                   n_init=50,\n",
        "                   max_iter=500,\n",
        "                   random_state=99,\n",
        "               ),\n",
        "           ),\n",
        "       ]\n",
        "    )\n",
        "\n",
        "    pipe = Pipeline(\n",
        "        [\n",
        "            (\"preprocessor\", preprocessor),\n",
        "            (\"clusterer\", clusterer)\n",
        "        ]\n",
        "    )\n",
        "\n",
        "    pipe.fit(data)\n",
        "    \n",
        "    preprocessed_data = pipe[\"preprocessor\"].transform(data)\n",
        "\n",
        "    predicted_labels = pipe[\"clusterer\"][\"kmeans\"].labels_\n",
        "\n",
        "    sse = pipe[\"clusterer\"][\"kmeans\"].inertia_\n",
        "    \n",
        "    ss = silhouette_score(preprocessed_data, predicted_labels)\n",
        "\n",
        "    return predicted_labels, sse, ss"
      ],
      "execution_count": 181,
      "outputs": []
    },
    {
      "cell_type": "markdown",
      "metadata": {
        "id": "8acf7A4acwIH"
      },
      "source": [
        "##### **Vectorize the data**"
      ]
    },
    {
      "cell_type": "code",
      "metadata": {
        "trusted": false,
        "id": "Ya-WAqbjcwIH",
        "colab": {
          "base_uri": "https://localhost:8080/"
        },
        "outputId": "6564c8e0-4e1a-41b6-bb35-1946dcf533c8"
      },
      "source": [
        "features = df_inliner.iloc[:,1:6].to_numpy() \n",
        "features"
      ],
      "execution_count": 211,
      "outputs": [
        {
          "output_type": "execute_result",
          "data": {
            "text/plain": [
              "array([[ 1.700000e+01,  1.000000e+00,  2.000000e+00, -5.000000e-01,\n",
              "         3.334810e+05],\n",
              "       [ 5.500000e+01,  3.000000e+00,  4.000000e+00, -5.000000e-01,\n",
              "         8.103530e+05],\n",
              "       [ 3.050000e+01,  1.000000e+00,  3.000000e+00, -5.000000e-01,\n",
              "         3.416350e+05],\n",
              "       ...,\n",
              "       [ 5.500000e+01,  3.000000e+00,  2.000000e+00, -5.000000e-01,\n",
              "         8.085900e+04],\n",
              "       [ 4.800000e+01,  2.000000e+00,  4.000000e+00,  5.000000e-01,\n",
              "         5.545040e+05],\n",
              "       [ 3.050000e+01,  2.000000e+00,  2.000000e+00, -5.000000e-01,\n",
              "         1.562615e+06]])"
            ]
          },
          "metadata": {
            "tags": []
          },
          "execution_count": 211
        }
      ]
    },
    {
      "cell_type": "markdown",
      "metadata": {
        "id": "wDpwFK9m0XYb"
      },
      "source": [
        "##### **Run the model**"
      ]
    },
    {
      "cell_type": "code",
      "metadata": {
        "scrolled": false,
        "trusted": false,
        "id": "MKmCVjfIcwIH"
      },
      "source": [
        "# A list holds the silhouette coefficients for each k\n",
        "silhouette_coefficients = []\n",
        "predicted_labels = []\n",
        "sseList = []\n",
        "    \n",
        "for k in range(2, 11):\n",
        "    pred_labels, sse, ss = KMeanCluster(k, features)\n",
        "    silhouette_coefficients.append(ss)\n",
        "    predicted_labels.append(pred_labels)\n",
        "    sseList.append(sse)"
      ],
      "execution_count": 212,
      "outputs": []
    },
    {
      "cell_type": "markdown",
      "metadata": {
        "id": "VOA1N7vx0dMY"
      },
      "source": [
        "##### **Evaluate the models and choose right number of clusters**\n",
        "Based on `SC` and `SSE` metrics, `4` or `5` clusters appear to be sensible numbers"
      ]
    },
    {
      "cell_type": "code",
      "metadata": {
        "colab": {
          "base_uri": "https://localhost:8080/",
          "height": 304
        },
        "id": "p3p2hdVvrliy",
        "outputId": "4872ede3-3d2a-44dc-8af6-043cfc676ca8"
      },
      "source": [
        "## Determine the max(sc) from plot\n",
        "plt.style.use(\"fivethirtyeight\")\n",
        "plt.plot(range(2, 11), silhouette_coefficients)\n",
        "plt.xticks(range(2, 11))\n",
        "plt.xlabel(\"Number of Clusters\")\n",
        "plt.ylabel(\"Silhouette Coefficient\")\n",
        "plt.show()"
      ],
      "execution_count": 213,
      "outputs": [
        {
          "output_type": "display_data",
          "data": {
            "image/png": "[encoded data removed]",
            "text/plain": [
              "<Figure size 432x288 with 1 Axes>"
            ]
          },
          "metadata": {
            "tags": []
          }
        }
      ]
    },
    {
      "cell_type": "code",
      "metadata": {
        "colab": {
          "base_uri": "https://localhost:8080/",
          "height": 307
        },
        "id": "Gki6_qqQru_s",
        "outputId": "0c04751b-d984-4070-8083-212424686d7d"
      },
      "source": [
        "# ## Determine the elbow from plot\n",
        "plt.style.use(\"fivethirtyeight\")\n",
        "plt.plot(range(2, 11), sseList)\n",
        "plt.xticks(range(2, 11))\n",
        "plt.xlabel(\"Number of Clusters\")\n",
        "plt.ylabel(\"SSE\")\n",
        "plt.show()"
      ],
      "execution_count": 214,
      "outputs": [
        {
          "output_type": "display_data",
          "data": {
            "image/png": "[encoded data removed]",
            "text/plain": [
              "<Figure size 432x288 with 1 Axes>"
            ]
          },
          "metadata": {
            "tags": []
          }
        }
      ]
    },
    {
      "cell_type": "code",
      "metadata": {
        "colab": {
          "base_uri": "https://localhost:8080/"
        },
        "id": "cGsiSW8ll0qR",
        "outputId": "32247850-da3a-417c-e558-76557528792a"
      },
      "source": [
        "## Determine the elbow programmatically\n",
        "kl = KneeLocator(\n",
        "    range(2, 11), sseList, curve=\"convex\", direction=\"decreasing\"\n",
        ")\n",
        "\n",
        "kl.elbow"
      ],
      "execution_count": 215,
      "outputs": [
        {
          "output_type": "execute_result",
          "data": {
            "text/plain": [
              "4"
            ]
          },
          "metadata": {
            "tags": []
          },
          "execution_count": 215
        }
      ]
    },
    {
      "cell_type": "markdown",
      "metadata": {
        "id": "QHg7E5A7cwIN"
      },
      "source": [
        "### 2.3 Descriptives of each cluster"
      ]
    },
    {
      "cell_type": "markdown",
      "metadata": {
        "id": "x_JhsPSMcwIN"
      },
      "source": [
        "##### Assigning labels to each row"
      ]
    },
    {
      "cell_type": "code",
      "metadata": {
        "trusted": false,
        "id": "nD5aCdKfcwIN",
        "colab": {
          "base_uri": "https://localhost:8080/",
          "height": 321
        },
        "outputId": "4b93d5ce-2bd2-4061-8674-3242962845ce"
      },
      "source": [
        "df_clustered = df_gb.iloc[:,:7].join(df_inliner.iloc[:,6:],how='inner')\n",
        "df_clustered['cluster'] = predicted_labels[3]\n",
        "\n",
        "for col in ['Sex','Age','Profession','CityType','YearsInCity','HaveChildren','cluster']:\n",
        "    df_clustered[col] = df_clustered[col].astype('category')\n",
        "\n",
        "df_clustered = df_clustered.reset_index()\n",
        "df_clustered.head(5)"
      ],
      "execution_count": 216,
      "outputs": [
        {
          "output_type": "execute_result",
          "data": {
            "text/html": [
              "<div>\n",
              "<style scoped>\n",
              "    .dataframe tbody tr th:only-of-type {\n",
              "        vertical-align: middle;\n",
              "    }\n",
              "\n",
              "    .dataframe tbody tr th {\n",
              "        vertical-align: top;\n",
              "    }\n",
              "\n",
              "    .dataframe thead th {\n",
              "        text-align: right;\n",
              "    }\n",
              "</style>\n",
              "<table border=\"1\" class=\"dataframe\">\n",
              "  <thead>\n",
              "    <tr style=\"text-align: right;\">\n",
              "      <th></th>\n",
              "      <th>CustomerID</th>\n",
              "      <th>Sex</th>\n",
              "      <th>Age</th>\n",
              "      <th>Profession</th>\n",
              "      <th>CityType</th>\n",
              "      <th>YearsInCity</th>\n",
              "      <th>HaveChildren</th>\n",
              "      <th>TotalSpending</th>\n",
              "      <th>10_11_N</th>\n",
              "      <th>10_13_16</th>\n",
              "      <th>10_13_N</th>\n",
              "      <th>10_14_16</th>\n",
              "      <th>10_15_16</th>\n",
              "      <th>10_15_N</th>\n",
              "      <th>10_16_N</th>\n",
              "      <th>10_N_N</th>\n",
              "      <th>11_13_16</th>\n",
              "      <th>11_13_N</th>\n",
              "      <th>11_14_N</th>\n",
              "      <th>11_15_16</th>\n",
              "      <th>11_15_N</th>\n",
              "      <th>11_16_N</th>\n",
              "      <th>11_N_N</th>\n",
              "      <th>12_14_17</th>\n",
              "      <th>12_14_N</th>\n",
              "      <th>12_17_N</th>\n",
              "      <th>12_N_N</th>\n",
              "      <th>13_14_16</th>\n",
              "      <th>13_15_16</th>\n",
              "      <th>13_15_N</th>\n",
              "      <th>13_16_N</th>\n",
              "      <th>13_N_N</th>\n",
              "      <th>14_16_N</th>\n",
              "      <th>14_17_N</th>\n",
              "      <th>14_18_N</th>\n",
              "      <th>14_N_N</th>\n",
              "      <th>15_16_17</th>\n",
              "      <th>15_16_N</th>\n",
              "      <th>15_17_N</th>\n",
              "      <th>15_N_N</th>\n",
              "      <th>...</th>\n",
              "      <th>6_13_N</th>\n",
              "      <th>6_16_N</th>\n",
              "      <th>6_8_10</th>\n",
              "      <th>6_8_13</th>\n",
              "      <th>6_8_14</th>\n",
              "      <th>6_8_15</th>\n",
              "      <th>6_8_16</th>\n",
              "      <th>6_8_N</th>\n",
              "      <th>6_N_N</th>\n",
              "      <th>7_12_N</th>\n",
              "      <th>7_17_N</th>\n",
              "      <th>7_8_N</th>\n",
              "      <th>7_N_N</th>\n",
              "      <th>8_10_16</th>\n",
              "      <th>8_10_N</th>\n",
              "      <th>8_11_16</th>\n",
              "      <th>8_11_N</th>\n",
              "      <th>8_12_17</th>\n",
              "      <th>8_12_N</th>\n",
              "      <th>8_13_14</th>\n",
              "      <th>8_13_15</th>\n",
              "      <th>8_13_16</th>\n",
              "      <th>8_13_N</th>\n",
              "      <th>8_14_15</th>\n",
              "      <th>8_14_16</th>\n",
              "      <th>8_14_17</th>\n",
              "      <th>8_14_18</th>\n",
              "      <th>8_14_N</th>\n",
              "      <th>8_15_16</th>\n",
              "      <th>8_15_N</th>\n",
              "      <th>8_16_17</th>\n",
              "      <th>8_16_N</th>\n",
              "      <th>8_17_N</th>\n",
              "      <th>8_18_N</th>\n",
              "      <th>8_9_14</th>\n",
              "      <th>8_9_N</th>\n",
              "      <th>8_N_N</th>\n",
              "      <th>9_15_N</th>\n",
              "      <th>9_N_N</th>\n",
              "      <th>cluster</th>\n",
              "    </tr>\n",
              "  </thead>\n",
              "  <tbody>\n",
              "    <tr>\n",
              "      <th>0</th>\n",
              "      <td>1000001</td>\n",
              "      <td>F</td>\n",
              "      <td>0-17</td>\n",
              "      <td>10</td>\n",
              "      <td>A</td>\n",
              "      <td>2</td>\n",
              "      <td>0</td>\n",
              "      <td>333481</td>\n",
              "      <td>0</td>\n",
              "      <td>0</td>\n",
              "      <td>0</td>\n",
              "      <td>0</td>\n",
              "      <td>0</td>\n",
              "      <td>0</td>\n",
              "      <td>0</td>\n",
              "      <td>0</td>\n",
              "      <td>0</td>\n",
              "      <td>0</td>\n",
              "      <td>0</td>\n",
              "      <td>0</td>\n",
              "      <td>0</td>\n",
              "      <td>0</td>\n",
              "      <td>0</td>\n",
              "      <td>0</td>\n",
              "      <td>1057</td>\n",
              "      <td>0</td>\n",
              "      <td>3137</td>\n",
              "      <td>0</td>\n",
              "      <td>0</td>\n",
              "      <td>0</td>\n",
              "      <td>0</td>\n",
              "      <td>0</td>\n",
              "      <td>0</td>\n",
              "      <td>0</td>\n",
              "      <td>0</td>\n",
              "      <td>11011</td>\n",
              "      <td>0</td>\n",
              "      <td>0</td>\n",
              "      <td>0</td>\n",
              "      <td>0</td>\n",
              "      <td>...</td>\n",
              "      <td>0</td>\n",
              "      <td>0</td>\n",
              "      <td>0</td>\n",
              "      <td>0</td>\n",
              "      <td>0</td>\n",
              "      <td>0</td>\n",
              "      <td>16622</td>\n",
              "      <td>0</td>\n",
              "      <td>0</td>\n",
              "      <td>0</td>\n",
              "      <td>0</td>\n",
              "      <td>0</td>\n",
              "      <td>0</td>\n",
              "      <td>0</td>\n",
              "      <td>0</td>\n",
              "      <td>0</td>\n",
              "      <td>0</td>\n",
              "      <td>0</td>\n",
              "      <td>0</td>\n",
              "      <td>0</td>\n",
              "      <td>0</td>\n",
              "      <td>0</td>\n",
              "      <td>0</td>\n",
              "      <td>0</td>\n",
              "      <td>0</td>\n",
              "      <td>0</td>\n",
              "      <td>0</td>\n",
              "      <td>0</td>\n",
              "      <td>0</td>\n",
              "      <td>0</td>\n",
              "      <td>0</td>\n",
              "      <td>0</td>\n",
              "      <td>9938</td>\n",
              "      <td>0</td>\n",
              "      <td>0</td>\n",
              "      <td>0</td>\n",
              "      <td>59604</td>\n",
              "      <td>0</td>\n",
              "      <td>0</td>\n",
              "      <td>2</td>\n",
              "    </tr>\n",
              "    <tr>\n",
              "      <th>1</th>\n",
              "      <td>1000002</td>\n",
              "      <td>M</td>\n",
              "      <td>55+</td>\n",
              "      <td>16</td>\n",
              "      <td>C</td>\n",
              "      <td>4+</td>\n",
              "      <td>0</td>\n",
              "      <td>810353</td>\n",
              "      <td>0</td>\n",
              "      <td>0</td>\n",
              "      <td>0</td>\n",
              "      <td>0</td>\n",
              "      <td>0</td>\n",
              "      <td>0</td>\n",
              "      <td>0</td>\n",
              "      <td>0</td>\n",
              "      <td>0</td>\n",
              "      <td>0</td>\n",
              "      <td>0</td>\n",
              "      <td>0</td>\n",
              "      <td>0</td>\n",
              "      <td>0</td>\n",
              "      <td>0</td>\n",
              "      <td>0</td>\n",
              "      <td>0</td>\n",
              "      <td>0</td>\n",
              "      <td>0</td>\n",
              "      <td>0</td>\n",
              "      <td>0</td>\n",
              "      <td>0</td>\n",
              "      <td>0</td>\n",
              "      <td>0</td>\n",
              "      <td>0</td>\n",
              "      <td>0</td>\n",
              "      <td>0</td>\n",
              "      <td>0</td>\n",
              "      <td>0</td>\n",
              "      <td>0</td>\n",
              "      <td>0</td>\n",
              "      <td>0</td>\n",
              "      <td>...</td>\n",
              "      <td>0</td>\n",
              "      <td>0</td>\n",
              "      <td>15952</td>\n",
              "      <td>0</td>\n",
              "      <td>0</td>\n",
              "      <td>0</td>\n",
              "      <td>0</td>\n",
              "      <td>74043</td>\n",
              "      <td>0</td>\n",
              "      <td>0</td>\n",
              "      <td>0</td>\n",
              "      <td>0</td>\n",
              "      <td>0</td>\n",
              "      <td>0</td>\n",
              "      <td>0</td>\n",
              "      <td>0</td>\n",
              "      <td>0</td>\n",
              "      <td>0</td>\n",
              "      <td>0</td>\n",
              "      <td>0</td>\n",
              "      <td>0</td>\n",
              "      <td>0</td>\n",
              "      <td>0</td>\n",
              "      <td>0</td>\n",
              "      <td>0</td>\n",
              "      <td>9899</td>\n",
              "      <td>0</td>\n",
              "      <td>8017</td>\n",
              "      <td>0</td>\n",
              "      <td>16001</td>\n",
              "      <td>0</td>\n",
              "      <td>17865</td>\n",
              "      <td>6187</td>\n",
              "      <td>0</td>\n",
              "      <td>0</td>\n",
              "      <td>0</td>\n",
              "      <td>152360</td>\n",
              "      <td>0</td>\n",
              "      <td>0</td>\n",
              "      <td>1</td>\n",
              "    </tr>\n",
              "    <tr>\n",
              "      <th>2</th>\n",
              "      <td>1000003</td>\n",
              "      <td>M</td>\n",
              "      <td>26-35</td>\n",
              "      <td>15</td>\n",
              "      <td>A</td>\n",
              "      <td>3</td>\n",
              "      <td>0</td>\n",
              "      <td>341635</td>\n",
              "      <td>0</td>\n",
              "      <td>0</td>\n",
              "      <td>0</td>\n",
              "      <td>0</td>\n",
              "      <td>0</td>\n",
              "      <td>0</td>\n",
              "      <td>0</td>\n",
              "      <td>0</td>\n",
              "      <td>0</td>\n",
              "      <td>0</td>\n",
              "      <td>0</td>\n",
              "      <td>0</td>\n",
              "      <td>0</td>\n",
              "      <td>0</td>\n",
              "      <td>0</td>\n",
              "      <td>0</td>\n",
              "      <td>0</td>\n",
              "      <td>0</td>\n",
              "      <td>0</td>\n",
              "      <td>0</td>\n",
              "      <td>0</td>\n",
              "      <td>0</td>\n",
              "      <td>0</td>\n",
              "      <td>0</td>\n",
              "      <td>0</td>\n",
              "      <td>0</td>\n",
              "      <td>0</td>\n",
              "      <td>0</td>\n",
              "      <td>0</td>\n",
              "      <td>0</td>\n",
              "      <td>0</td>\n",
              "      <td>0</td>\n",
              "      <td>...</td>\n",
              "      <td>0</td>\n",
              "      <td>0</td>\n",
              "      <td>0</td>\n",
              "      <td>0</td>\n",
              "      <td>0</td>\n",
              "      <td>0</td>\n",
              "      <td>0</td>\n",
              "      <td>0</td>\n",
              "      <td>0</td>\n",
              "      <td>0</td>\n",
              "      <td>0</td>\n",
              "      <td>0</td>\n",
              "      <td>0</td>\n",
              "      <td>0</td>\n",
              "      <td>0</td>\n",
              "      <td>0</td>\n",
              "      <td>0</td>\n",
              "      <td>0</td>\n",
              "      <td>0</td>\n",
              "      <td>0</td>\n",
              "      <td>0</td>\n",
              "      <td>0</td>\n",
              "      <td>0</td>\n",
              "      <td>0</td>\n",
              "      <td>0</td>\n",
              "      <td>0</td>\n",
              "      <td>0</td>\n",
              "      <td>0</td>\n",
              "      <td>0</td>\n",
              "      <td>0</td>\n",
              "      <td>0</td>\n",
              "      <td>5817</td>\n",
              "      <td>0</td>\n",
              "      <td>0</td>\n",
              "      <td>0</td>\n",
              "      <td>0</td>\n",
              "      <td>0</td>\n",
              "      <td>0</td>\n",
              "      <td>0</td>\n",
              "      <td>2</td>\n",
              "    </tr>\n",
              "    <tr>\n",
              "      <th>3</th>\n",
              "      <td>1000004</td>\n",
              "      <td>M</td>\n",
              "      <td>46-50</td>\n",
              "      <td>7</td>\n",
              "      <td>B</td>\n",
              "      <td>2</td>\n",
              "      <td>1</td>\n",
              "      <td>205987</td>\n",
              "      <td>0</td>\n",
              "      <td>0</td>\n",
              "      <td>0</td>\n",
              "      <td>0</td>\n",
              "      <td>0</td>\n",
              "      <td>0</td>\n",
              "      <td>0</td>\n",
              "      <td>0</td>\n",
              "      <td>0</td>\n",
              "      <td>0</td>\n",
              "      <td>0</td>\n",
              "      <td>0</td>\n",
              "      <td>0</td>\n",
              "      <td>0</td>\n",
              "      <td>0</td>\n",
              "      <td>0</td>\n",
              "      <td>0</td>\n",
              "      <td>0</td>\n",
              "      <td>0</td>\n",
              "      <td>0</td>\n",
              "      <td>0</td>\n",
              "      <td>0</td>\n",
              "      <td>0</td>\n",
              "      <td>0</td>\n",
              "      <td>0</td>\n",
              "      <td>0</td>\n",
              "      <td>0</td>\n",
              "      <td>0</td>\n",
              "      <td>0</td>\n",
              "      <td>0</td>\n",
              "      <td>0</td>\n",
              "      <td>0</td>\n",
              "      <td>...</td>\n",
              "      <td>0</td>\n",
              "      <td>0</td>\n",
              "      <td>0</td>\n",
              "      <td>0</td>\n",
              "      <td>0</td>\n",
              "      <td>0</td>\n",
              "      <td>0</td>\n",
              "      <td>0</td>\n",
              "      <td>0</td>\n",
              "      <td>0</td>\n",
              "      <td>0</td>\n",
              "      <td>0</td>\n",
              "      <td>0</td>\n",
              "      <td>0</td>\n",
              "      <td>0</td>\n",
              "      <td>0</td>\n",
              "      <td>0</td>\n",
              "      <td>0</td>\n",
              "      <td>0</td>\n",
              "      <td>0</td>\n",
              "      <td>0</td>\n",
              "      <td>0</td>\n",
              "      <td>0</td>\n",
              "      <td>0</td>\n",
              "      <td>0</td>\n",
              "      <td>0</td>\n",
              "      <td>0</td>\n",
              "      <td>0</td>\n",
              "      <td>0</td>\n",
              "      <td>0</td>\n",
              "      <td>0</td>\n",
              "      <td>0</td>\n",
              "      <td>0</td>\n",
              "      <td>0</td>\n",
              "      <td>0</td>\n",
              "      <td>0</td>\n",
              "      <td>0</td>\n",
              "      <td>0</td>\n",
              "      <td>0</td>\n",
              "      <td>0</td>\n",
              "    </tr>\n",
              "    <tr>\n",
              "      <th>4</th>\n",
              "      <td>1000005</td>\n",
              "      <td>M</td>\n",
              "      <td>26-35</td>\n",
              "      <td>20</td>\n",
              "      <td>A</td>\n",
              "      <td>1</td>\n",
              "      <td>1</td>\n",
              "      <td>821001</td>\n",
              "      <td>0</td>\n",
              "      <td>0</td>\n",
              "      <td>0</td>\n",
              "      <td>0</td>\n",
              "      <td>0</td>\n",
              "      <td>0</td>\n",
              "      <td>0</td>\n",
              "      <td>0</td>\n",
              "      <td>4653</td>\n",
              "      <td>0</td>\n",
              "      <td>0</td>\n",
              "      <td>0</td>\n",
              "      <td>0</td>\n",
              "      <td>0</td>\n",
              "      <td>5895</td>\n",
              "      <td>0</td>\n",
              "      <td>0</td>\n",
              "      <td>0</td>\n",
              "      <td>0</td>\n",
              "      <td>0</td>\n",
              "      <td>0</td>\n",
              "      <td>0</td>\n",
              "      <td>0</td>\n",
              "      <td>0</td>\n",
              "      <td>0</td>\n",
              "      <td>0</td>\n",
              "      <td>0</td>\n",
              "      <td>11085</td>\n",
              "      <td>0</td>\n",
              "      <td>17374</td>\n",
              "      <td>0</td>\n",
              "      <td>0</td>\n",
              "      <td>...</td>\n",
              "      <td>0</td>\n",
              "      <td>8232</td>\n",
              "      <td>0</td>\n",
              "      <td>0</td>\n",
              "      <td>0</td>\n",
              "      <td>0</td>\n",
              "      <td>16244</td>\n",
              "      <td>20603</td>\n",
              "      <td>16421</td>\n",
              "      <td>0</td>\n",
              "      <td>0</td>\n",
              "      <td>0</td>\n",
              "      <td>74954</td>\n",
              "      <td>0</td>\n",
              "      <td>0</td>\n",
              "      <td>0</td>\n",
              "      <td>0</td>\n",
              "      <td>0</td>\n",
              "      <td>4004</td>\n",
              "      <td>0</td>\n",
              "      <td>0</td>\n",
              "      <td>4263</td>\n",
              "      <td>7913</td>\n",
              "      <td>0</td>\n",
              "      <td>6181</td>\n",
              "      <td>0</td>\n",
              "      <td>0</td>\n",
              "      <td>28140</td>\n",
              "      <td>0</td>\n",
              "      <td>7803</td>\n",
              "      <td>0</td>\n",
              "      <td>20245</td>\n",
              "      <td>7850</td>\n",
              "      <td>0</td>\n",
              "      <td>0</td>\n",
              "      <td>0</td>\n",
              "      <td>174152</td>\n",
              "      <td>0</td>\n",
              "      <td>0</td>\n",
              "      <td>0</td>\n",
              "    </tr>\n",
              "  </tbody>\n",
              "</table>\n",
              "<p>5 rows × 244 columns</p>\n",
              "</div>"
            ],
            "text/plain": [
              "  CustomerID Sex    Age Profession  ...   8_N_N 9_15_N 9_N_N  cluster\n",
              "0    1000001   F   0-17         10  ...   59604      0     0        2\n",
              "1    1000002   M    55+         16  ...  152360      0     0        1\n",
              "2    1000003   M  26-35         15  ...       0      0     0        2\n",
              "3    1000004   M  46-50          7  ...       0      0     0        0\n",
              "4    1000005   M  26-35         20  ...  174152      0     0        0\n",
              "\n",
              "[5 rows x 244 columns]"
            ]
          },
          "metadata": {
            "tags": []
          },
          "execution_count": 216
        }
      ]
    },
    {
      "cell_type": "code",
      "metadata": {
        "colab": {
          "base_uri": "https://localhost:8080/"
        },
        "id": "mF_zy1HW66Zy",
        "outputId": "895176fe-1dab-4e9d-88c4-1cbbe0b23ab7"
      },
      "source": [
        "df_clustered.info()"
      ],
      "execution_count": 217,
      "outputs": [
        {
          "output_type": "stream",
          "text": [
            "<class 'pandas.core.frame.DataFrame'>\n",
            "RangeIndex: 5676 entries, 0 to 5675\n",
            "Columns: 244 entries, CustomerID to cluster\n",
            "dtypes: category(7), int64(236), object(1)\n",
            "memory usage: 10.3+ MB\n"
          ],
          "name": "stdout"
        }
      ]
    },
    {
      "cell_type": "code",
      "metadata": {
        "trusted": false,
        "id": "uGOT3_pocwIN",
        "colab": {
          "base_uri": "https://localhost:8080/"
        },
        "outputId": "03931103-c607-4d77-bf7b-67f3d1729968"
      },
      "source": [
        "## customer counts in each cluster\n",
        "df_clustered.groupby('cluster')['CustomerID'].count()"
      ],
      "execution_count": 218,
      "outputs": [
        {
          "output_type": "execute_result",
          "data": {
            "text/plain": [
              "cluster\n",
              "0    1063\n",
              "1     857\n",
              "2    1271\n",
              "3    1335\n",
              "4    1150\n",
              "Name: CustomerID, dtype: int64"
            ]
          },
          "metadata": {
            "tags": []
          },
          "execution_count": 218
        }
      ]
    },
    {
      "cell_type": "code",
      "metadata": {
        "colab": {
          "base_uri": "https://localhost:8080/"
        },
        "id": "qQA_2fcdDnEc",
        "outputId": "0cf0ffd3-5e49-49a7-a969-b78461bcd7f5"
      },
      "source": [
        "df_clustered = df_gb.iloc[:,:7].join(df_inliner.iloc[:,6:],how='inner')\n",
        "df_clustered['cluster'] = predicted_labels[2]\n",
        "\n",
        "for col in ['Sex','Age','Profession','CityType','YearsInCity','HaveChildren','cluster']:\n",
        "    df_clustered[col] = df_clustered[col].astype('category')\n",
        "\n",
        "df_clustered = df_clustered.reset_index()\n",
        "df_clustered.groupby('cluster')['CustomerID'].count()"
      ],
      "execution_count": 220,
      "outputs": [
        {
          "output_type": "execute_result",
          "data": {
            "text/plain": [
              "cluster\n",
              "0    1335\n",
              "1    1692\n",
              "2    1586\n",
              "3    1063\n",
              "Name: CustomerID, dtype: int64"
            ]
          },
          "metadata": {
            "tags": []
          },
          "execution_count": 220
        }
      ]
    },
    {
      "cell_type": "code",
      "metadata": {
        "trusted": false,
        "id": "4hmO7WnlcwIO",
        "colab": {
          "base_uri": "https://localhost:8080/"
        },
        "outputId": "f7f1193c-c9d9-4b20-854a-f7a9697316ab"
      },
      "source": [
        "## customer counts in each cluster\n",
        "df_clustered.groupby(['cluster','Sex'])['CustomerID'].count()#/df_clustered.groupby('cluster')['CustomerID'].count()*100"
      ],
      "execution_count": 221,
      "outputs": [
        {
          "output_type": "execute_result",
          "data": {
            "text/plain": [
              "cluster  Sex\n",
              "0        F       382\n",
              "         M       953\n",
              "1        F       452\n",
              "         M      1240\n",
              "2        F       457\n",
              "         M      1129\n",
              "3        F       310\n",
              "         M       753\n",
              "Name: CustomerID, dtype: int64"
            ]
          },
          "metadata": {
            "tags": []
          },
          "execution_count": 221
        }
      ]
    },
    {
      "cell_type": "code",
      "metadata": {
        "scrolled": true,
        "trusted": false,
        "id": "qyB1ZLvpcwIO",
        "outputId": "7ad89fd9-ef5f-40d0-b30d-67e878d82e76"
      },
      "source": [
        "g0 = sns.FacetGrid(df_clustered, col=\"cluster\")\n",
        "g0.map(sns.histplot,'Sex',stat=\"density\", common_norm=False)\n",
        "# g1.fig"
      ],
      "execution_count": null,
      "outputs": [
        {
          "output_type": "execute_result",
          "data": {
            "text/plain": [
              "<seaborn.axisgrid.FacetGrid at 0x7f4f7d4b0c50>"
            ]
          },
          "metadata": {
            "tags": []
          },
          "execution_count": 248
        },
        {
          "output_type": "display_data",
          "data": {
            "text/plain": [
              "<Figure size 1296x216 with 6 Axes>"
            ],
            "image/png": "[encoded data removed]"
          },
          "metadata": {
            "tags": []
          }
        }
      ]
    },
    {
      "cell_type": "code",
      "metadata": {
        "trusted": false,
        "id": "9DZrYNgCcwIO",
        "outputId": "b73ecb29-9c06-480d-c447-cdee7a15b083"
      },
      "source": [
        "## customer counts in each cluster\n",
        "df_clustered.groupby(['cluster','CityType'])['CustomerID'].count()/len(df_clustered)*100"
      ],
      "execution_count": null,
      "outputs": [
        {
          "output_type": "execute_result",
          "data": {
            "text/plain": [
              "cluster  CityType\n",
              "0        A           0.099304\n",
              "         B           0.001358\n",
              "         C           0.000000\n",
              "1        A           0.015108\n",
              "         B           0.034459\n",
              "         C           0.068070\n",
              "2        A           0.000000\n",
              "         B           0.063826\n",
              "         C           0.166695\n",
              "3        A           0.028348\n",
              "         B           0.044984\n",
              "         C           0.079273\n",
              "4        A           0.000000\n",
              "         B           0.083857\n",
              "         C           0.218808\n",
              "5        A           0.034629\n",
              "         B           0.061280\n",
              "         C           0.000000\n",
              "Name: CustomerID, dtype: float64"
            ]
          },
          "metadata": {
            "tags": []
          },
          "execution_count": 223
        }
      ]
    },
    {
      "cell_type": "code",
      "metadata": {
        "trusted": false,
        "id": "fBGtWMGRcwIP",
        "outputId": "b8bf2727-c708-4c79-cd85-509eececb8a2"
      },
      "source": [
        "g1 = sns.FacetGrid(df_clustered, col=\"cluster\")\n",
        "g1.map(sns.histplot,'CityType',stat=\"density\", common_norm=False)\n",
        "# g1.fig"
      ],
      "execution_count": null,
      "outputs": [
        {
          "output_type": "execute_result",
          "data": {
            "text/plain": [
              "<seaborn.axisgrid.FacetGrid at 0x7f4f7d6bee10>"
            ]
          },
          "metadata": {
            "tags": []
          },
          "execution_count": 247
        },
        {
          "output_type": "display_data",
          "data": {
            "text/plain": [
              "<Figure size 1296x216 with 6 Axes>"
            ],
            "image/png": "[encoded data removed]"
          },
          "metadata": {
            "tags": []
          }
        }
      ]
    },
    {
      "cell_type": "code",
      "metadata": {
        "trusted": false,
        "id": "xg6cWTFwcwIP",
        "outputId": "ccbbf5d2-2d35-413a-f203-a8d67fd1c149"
      },
      "source": [
        "## Difficult to interpret - optentially related to income level/education etc.\n",
        "g2 = sns.FacetGrid(df_clustered, col=\"cluster\")\n",
        "g2.map(sns.histplot,'Profession',stat=\"density\", common_norm=False)\n",
        "# g2.fig"
      ],
      "execution_count": null,
      "outputs": [
        {
          "output_type": "execute_result",
          "data": {
            "text/plain": [
              "<seaborn.axisgrid.FacetGrid at 0x7f4f7df0a7d0>"
            ]
          },
          "metadata": {
            "tags": []
          },
          "execution_count": 246
        },
        {
          "output_type": "display_data",
          "data": {
            "text/plain": [
              "<Figure size 1296x216 with 6 Axes>"
            ],
            "image/png": "[encoded data removed]"
          },
          "metadata": {
            "tags": []
          }
        }
      ]
    },
    {
      "cell_type": "code",
      "metadata": {
        "trusted": false,
        "id": "JgOhiOQmcwIQ"
      },
      "source": [
        "# ## customer aounts in each cluster\n",
        "# df_clustered.groupby(['cluster'])['Age'].mean()"
      ],
      "execution_count": null,
      "outputs": []
    },
    {
      "cell_type": "code",
      "metadata": {
        "scrolled": true,
        "trusted": false,
        "id": "kOLh_ZSycwIQ",
        "outputId": "4231f85d-158b-484d-90b1-1540899ec6bc"
      },
      "source": [
        "g3 = sns.FacetGrid(df_clustered, col=\"cluster\")\n",
        "g3.map(sns.histplot,'Age',stat=\"density\", common_norm=False)\n",
        "# g3.fig"
      ],
      "execution_count": null,
      "outputs": [
        {
          "output_type": "execute_result",
          "data": {
            "text/plain": [
              "<seaborn.axisgrid.FacetGrid at 0x7f4f7e208210>"
            ]
          },
          "metadata": {
            "tags": []
          },
          "execution_count": 245
        },
        {
          "output_type": "display_data",
          "data": {
            "text/plain": [
              "<Figure size 1296x216 with 6 Axes>"
            ],
            "image/png": "[encoded data removed]"
          },
          "metadata": {
            "tags": []
          }
        }
      ]
    },
    {
      "cell_type": "code",
      "metadata": {
        "trusted": false,
        "id": "K6qg65ZNcwIQ",
        "outputId": "aa920985-e145-4ad0-ba81-05d35a7d60b9"
      },
      "source": [
        "## customer counts in each cluster\n",
        "df_clustered.groupby(['cluster','YearsInCity'])['YearsInCity'].count()"
      ],
      "execution_count": null,
      "outputs": [
        {
          "output_type": "execute_result",
          "data": {
            "text/plain": [
              "cluster  YearsInCity\n",
              "0        0               74\n",
              "         1              233\n",
              "         2               90\n",
              "         3               99\n",
              "         4+              97\n",
              "1        0               90\n",
              "         1              259\n",
              "         2              135\n",
              "         3              116\n",
              "         4+              93\n",
              "2        0              161\n",
              "         1              496\n",
              "         2              278\n",
              "         3              211\n",
              "         4+             212\n",
              "3        0              116\n",
              "         1              314\n",
              "         2              184\n",
              "         3              155\n",
              "         4+             130\n",
              "4        0              248\n",
              "         1              595\n",
              "         2              358\n",
              "         3              293\n",
              "         4+             289\n",
              "5        0               83\n",
              "         1              189\n",
              "         2              100\n",
              "         3              105\n",
              "         4+              88\n",
              "Name: YearsInCity, dtype: int64"
            ]
          },
          "metadata": {
            "tags": []
          },
          "execution_count": 236
        }
      ]
    },
    {
      "cell_type": "code",
      "metadata": {
        "trusted": false,
        "id": "txqknckWcwIR",
        "outputId": "bf801a57-6c5a-45eb-b0fe-357f7f78b3d5"
      },
      "source": [
        "g4 = sns.FacetGrid(df_clustered, col=\"cluster\")\n",
        "g4.map(sns.histplot,'YearsInCity',stat=\"density\", common_norm=False)\n",
        "# g3.fig"
      ],
      "execution_count": null,
      "outputs": [
        {
          "output_type": "execute_result",
          "data": {
            "text/plain": [
              "<seaborn.axisgrid.FacetGrid at 0x7f4f7d4a2650>"
            ]
          },
          "metadata": {
            "tags": []
          },
          "execution_count": 249
        },
        {
          "output_type": "display_data",
          "data": {
            "text/plain": [
              "<Figure size 1296x216 with 6 Axes>"
            ],
            "image/png": "[encoded data removed]"
          },
          "metadata": {
            "tags": []
          }
        }
      ]
    },
    {
      "cell_type": "code",
      "metadata": {
        "trusted": false,
        "id": "rX0GQdsTcwIR",
        "outputId": "fc744f44-7e02-4bc6-a6f2-283e212af2f1"
      },
      "source": [
        "## customer counts in each cluster\n",
        "df_clustered.groupby(['cluster','HaveChildren'])['CustomerID'].count()/len(df_clustered)"
      ],
      "execution_count": null,
      "outputs": [
        {
          "output_type": "execute_result",
          "data": {
            "text/plain": [
              "cluster  HaveChildren\n",
              "0        0               0.058055\n",
              "         1               0.037345\n",
              "1        0               0.000000\n",
              "         1               0.112545\n",
              "2        0               0.000000\n",
              "         1               0.223731\n",
              "3        0               0.147174\n",
              "         1               0.000000\n",
              "4        0               0.293499\n",
              "         1               0.000000\n",
              "5        0               0.058055\n",
              "         1               0.033611\n",
              "Name: CustomerID, dtype: float64"
            ]
          },
          "metadata": {
            "tags": []
          },
          "execution_count": 230
        }
      ]
    },
    {
      "cell_type": "code",
      "metadata": {
        "scrolled": false,
        "trusted": false,
        "id": "TLyCbkANcwIR",
        "outputId": "0489e7b0-aba6-4e9a-8619-293da199b555"
      },
      "source": [
        "g5 = sns.FacetGrid(df_clustered, col=\"cluster\")\n",
        "g5.map(sns.histplot,'HaveChildren')\n",
        "# g3.fig"
      ],
      "execution_count": null,
      "outputs": [
        {
          "output_type": "error",
          "ename": "ConversionError",
          "evalue": "Failed to convert value(s) to axis units: 2         0\n4         1\n14      NaN\n18        0\n19        0\n       ... \n5870      1\n5874      1\n5878      0\n5882      0\n5884      0\nName: x, Length: 593, dtype: category\nCategories (2, object): ['0', '1']",
          "traceback": [
            "\u001b[0;31m---------------------------------------------------------------------------\u001b[0m",
            "\u001b[0;31mTypeError\u001b[0m                                 Traceback (most recent call last)",
            "\u001b[0;32m/srv/conda/envs/notebook/lib/python3.7/site-packages/matplotlib/axis.py\u001b[0m in \u001b[0;36mconvert_units\u001b[0;34m(self, x)\u001b[0m\n\u001b[1;32m   1522\u001b[0m         \u001b[0;32mtry\u001b[0m\u001b[0;34m:\u001b[0m\u001b[0;34m\u001b[0m\u001b[0;34m\u001b[0m\u001b[0m\n\u001b[0;32m-> 1523\u001b[0;31m             \u001b[0mret\u001b[0m \u001b[0;34m=\u001b[0m \u001b[0mself\u001b[0m\u001b[0;34m.\u001b[0m\u001b[0mconverter\u001b[0m\u001b[0;34m.\u001b[0m\u001b[0mconvert\u001b[0m\u001b[0;34m(\u001b[0m\u001b[0mx\u001b[0m\u001b[0;34m,\u001b[0m \u001b[0mself\u001b[0m\u001b[0;34m.\u001b[0m\u001b[0munits\u001b[0m\u001b[0;34m,\u001b[0m \u001b[0mself\u001b[0m\u001b[0;34m)\u001b[0m\u001b[0;34m\u001b[0m\u001b[0;34m\u001b[0m\u001b[0m\n\u001b[0m\u001b[1;32m   1524\u001b[0m         \u001b[0;32mexcept\u001b[0m \u001b[0mException\u001b[0m \u001b[0;32mas\u001b[0m \u001b[0me\u001b[0m\u001b[0;34m:\u001b[0m\u001b[0;34m\u001b[0m\u001b[0;34m\u001b[0m\u001b[0m\n",
            "\u001b[0;32m/srv/conda/envs/notebook/lib/python3.7/site-packages/matplotlib/category.py\u001b[0m in \u001b[0;36mconvert\u001b[0;34m(value, unit, axis)\u001b[0m\n\u001b[1;32m     60\u001b[0m         \u001b[0;31m# force an update so it also does type checking\u001b[0m\u001b[0;34m\u001b[0m\u001b[0;34m\u001b[0m\u001b[0;34m\u001b[0m\u001b[0m\n\u001b[0;32m---> 61\u001b[0;31m         \u001b[0munit\u001b[0m\u001b[0;34m.\u001b[0m\u001b[0mupdate\u001b[0m\u001b[0;34m(\u001b[0m\u001b[0mvalues\u001b[0m\u001b[0;34m)\u001b[0m\u001b[0;34m\u001b[0m\u001b[0;34m\u001b[0m\u001b[0m\n\u001b[0m\u001b[1;32m     62\u001b[0m         \u001b[0;32mreturn\u001b[0m \u001b[0mnp\u001b[0m\u001b[0;34m.\u001b[0m\u001b[0mvectorize\u001b[0m\u001b[0;34m(\u001b[0m\u001b[0munit\u001b[0m\u001b[0;34m.\u001b[0m\u001b[0m_mapping\u001b[0m\u001b[0;34m.\u001b[0m\u001b[0m__getitem__\u001b[0m\u001b[0;34m,\u001b[0m \u001b[0motypes\u001b[0m\u001b[0;34m=\u001b[0m\u001b[0;34m[\u001b[0m\u001b[0mfloat\u001b[0m\u001b[0;34m]\u001b[0m\u001b[0;34m)\u001b[0m\u001b[0;34m(\u001b[0m\u001b[0mvalues\u001b[0m\u001b[0;34m)\u001b[0m\u001b[0;34m\u001b[0m\u001b[0;34m\u001b[0m\u001b[0m\n",
            "\u001b[0;32m/srv/conda/envs/notebook/lib/python3.7/site-packages/matplotlib/category.py\u001b[0m in \u001b[0;36mupdate\u001b[0;34m(self, data)\u001b[0m\n\u001b[1;32m    210\u001b[0m             \u001b[0;31m# OrderedDict just iterates over unique values in data.\u001b[0m\u001b[0;34m\u001b[0m\u001b[0;34m\u001b[0m\u001b[0;34m\u001b[0m\u001b[0m\n\u001b[0;32m--> 211\u001b[0;31m             \u001b[0mcbook\u001b[0m\u001b[0;34m.\u001b[0m\u001b[0m_check_isinstance\u001b[0m\u001b[0;34m(\u001b[0m\u001b[0;34m(\u001b[0m\u001b[0mstr\u001b[0m\u001b[0;34m,\u001b[0m \u001b[0mbytes\u001b[0m\u001b[0;34m)\u001b[0m\u001b[0;34m,\u001b[0m \u001b[0mvalue\u001b[0m\u001b[0;34m=\u001b[0m\u001b[0mval\u001b[0m\u001b[0;34m)\u001b[0m\u001b[0;34m\u001b[0m\u001b[0;34m\u001b[0m\u001b[0m\n\u001b[0m\u001b[1;32m    212\u001b[0m             \u001b[0;32mif\u001b[0m \u001b[0mconvertible\u001b[0m\u001b[0;34m:\u001b[0m\u001b[0;34m\u001b[0m\u001b[0;34m\u001b[0m\u001b[0m\n",
            "\u001b[0;32m/srv/conda/envs/notebook/lib/python3.7/site-packages/matplotlib/cbook/__init__.py\u001b[0m in \u001b[0;36m_check_isinstance\u001b[0;34m(_types, **kwargs)\u001b[0m\n\u001b[1;32m   2250\u001b[0m                     \u001b[0;32mif\u001b[0m \u001b[0mlen\u001b[0m\u001b[0;34m(\u001b[0m\u001b[0mnames\u001b[0m\u001b[0;34m)\u001b[0m \u001b[0;34m>\u001b[0m \u001b[0;36m1\u001b[0m \u001b[0;32melse\u001b[0m \u001b[0mnames\u001b[0m\u001b[0;34m[\u001b[0m\u001b[0;36m0\u001b[0m\u001b[0;34m]\u001b[0m\u001b[0;34m,\u001b[0m\u001b[0;34m\u001b[0m\u001b[0;34m\u001b[0m\u001b[0m\n\u001b[0;32m-> 2251\u001b[0;31m                     type_name(type(v))))\n\u001b[0m\u001b[1;32m   2252\u001b[0m \u001b[0;34m\u001b[0m\u001b[0m\n",
            "\u001b[0;31mTypeError\u001b[0m: 'value' must be an instance of str or bytes, not a float",
            "\nThe above exception was the direct cause of the following exception:\n",
            "\u001b[0;31mConversionError\u001b[0m                           Traceback (most recent call last)",
            "\u001b[0;32m<ipython-input-237-866f6e7c9f36>\u001b[0m in \u001b[0;36m<module>\u001b[0;34m\u001b[0m\n\u001b[1;32m      1\u001b[0m \u001b[0mg5\u001b[0m \u001b[0;34m=\u001b[0m \u001b[0msns\u001b[0m\u001b[0;34m.\u001b[0m\u001b[0mFacetGrid\u001b[0m\u001b[0;34m(\u001b[0m\u001b[0mdf_clustered\u001b[0m\u001b[0;34m,\u001b[0m \u001b[0mcol\u001b[0m\u001b[0;34m=\u001b[0m\u001b[0;34m\"cluster\"\u001b[0m\u001b[0;34m)\u001b[0m\u001b[0;34m\u001b[0m\u001b[0;34m\u001b[0m\u001b[0m\n\u001b[0;32m----> 2\u001b[0;31m \u001b[0mg5\u001b[0m\u001b[0;34m.\u001b[0m\u001b[0mmap\u001b[0m\u001b[0;34m(\u001b[0m\u001b[0msns\u001b[0m\u001b[0;34m.\u001b[0m\u001b[0mhistplot\u001b[0m\u001b[0;34m,\u001b[0m\u001b[0;34m'HaveChildren'\u001b[0m\u001b[0;34m)\u001b[0m\u001b[0;34m\u001b[0m\u001b[0;34m\u001b[0m\u001b[0m\n\u001b[0m\u001b[1;32m      3\u001b[0m \u001b[0;31m# g3.fig\u001b[0m\u001b[0;34m\u001b[0m\u001b[0;34m\u001b[0m\u001b[0;34m\u001b[0m\u001b[0m\n",
            "\u001b[0;32m/srv/conda/envs/notebook/lib/python3.7/site-packages/seaborn/axisgrid.py\u001b[0m in \u001b[0;36mmap\u001b[0;34m(self, func, *args, **kwargs)\u001b[0m\n\u001b[1;32m    681\u001b[0m \u001b[0;34m\u001b[0m\u001b[0m\n\u001b[1;32m    682\u001b[0m             \u001b[0;31m# Draw the plot\u001b[0m\u001b[0;34m\u001b[0m\u001b[0;34m\u001b[0m\u001b[0;34m\u001b[0m\u001b[0m\n\u001b[0;32m--> 683\u001b[0;31m             \u001b[0mself\u001b[0m\u001b[0;34m.\u001b[0m\u001b[0m_facet_plot\u001b[0m\u001b[0;34m(\u001b[0m\u001b[0mfunc\u001b[0m\u001b[0;34m,\u001b[0m \u001b[0max\u001b[0m\u001b[0;34m,\u001b[0m \u001b[0mplot_args\u001b[0m\u001b[0;34m,\u001b[0m \u001b[0mkwargs\u001b[0m\u001b[0;34m)\u001b[0m\u001b[0;34m\u001b[0m\u001b[0;34m\u001b[0m\u001b[0m\n\u001b[0m\u001b[1;32m    684\u001b[0m \u001b[0;34m\u001b[0m\u001b[0m\n\u001b[1;32m    685\u001b[0m         \u001b[0;31m# Finalize the annotations and layout\u001b[0m\u001b[0;34m\u001b[0m\u001b[0;34m\u001b[0m\u001b[0;34m\u001b[0m\u001b[0m\n",
            "\u001b[0;32m/srv/conda/envs/notebook/lib/python3.7/site-packages/seaborn/axisgrid.py\u001b[0m in \u001b[0;36m_facet_plot\u001b[0;34m(self, func, ax, plot_args, plot_kwargs)\u001b[0m\n\u001b[1;32m    773\u001b[0m             \u001b[0mplot_args\u001b[0m \u001b[0;34m=\u001b[0m \u001b[0;34m[\u001b[0m\u001b[0;34m]\u001b[0m\u001b[0;34m\u001b[0m\u001b[0;34m\u001b[0m\u001b[0m\n\u001b[1;32m    774\u001b[0m             \u001b[0mplot_kwargs\u001b[0m\u001b[0;34m[\u001b[0m\u001b[0;34m\"ax\"\u001b[0m\u001b[0;34m]\u001b[0m \u001b[0;34m=\u001b[0m \u001b[0max\u001b[0m\u001b[0;34m\u001b[0m\u001b[0;34m\u001b[0m\u001b[0m\n\u001b[0;32m--> 775\u001b[0;31m         \u001b[0mfunc\u001b[0m\u001b[0;34m(\u001b[0m\u001b[0;34m*\u001b[0m\u001b[0mplot_args\u001b[0m\u001b[0;34m,\u001b[0m \u001b[0;34m**\u001b[0m\u001b[0mplot_kwargs\u001b[0m\u001b[0;34m)\u001b[0m\u001b[0;34m\u001b[0m\u001b[0;34m\u001b[0m\u001b[0m\n\u001b[0m\u001b[1;32m    776\u001b[0m \u001b[0;34m\u001b[0m\u001b[0m\n\u001b[1;32m    777\u001b[0m         \u001b[0;31m# Sort out the supporting information\u001b[0m\u001b[0;34m\u001b[0m\u001b[0;34m\u001b[0m\u001b[0;34m\u001b[0m\u001b[0m\n",
            "\u001b[0;32m/srv/conda/envs/notebook/lib/python3.7/site-packages/seaborn/distributions.py\u001b[0m in \u001b[0;36mhistplot\u001b[0;34m(data, x, y, hue, weights, stat, bins, binwidth, binrange, discrete, cumulative, common_bins, common_norm, multiple, element, fill, shrink, kde, kde_kws, line_kws, thresh, pthresh, pmax, cbar, cbar_ax, cbar_kws, palette, hue_order, hue_norm, color, log_scale, legend, ax, **kwargs)\u001b[0m\n\u001b[1;32m   1434\u001b[0m             \u001b[0mestimate_kws\u001b[0m\u001b[0;34m=\u001b[0m\u001b[0mestimate_kws\u001b[0m\u001b[0;34m,\u001b[0m\u001b[0;34m\u001b[0m\u001b[0;34m\u001b[0m\u001b[0m\n\u001b[1;32m   1435\u001b[0m             \u001b[0mline_kws\u001b[0m\u001b[0;34m=\u001b[0m\u001b[0mline_kws\u001b[0m\u001b[0;34m,\u001b[0m\u001b[0;34m\u001b[0m\u001b[0;34m\u001b[0m\u001b[0m\n\u001b[0;32m-> 1436\u001b[0;31m             \u001b[0;34m**\u001b[0m\u001b[0mkwargs\u001b[0m\u001b[0;34m,\u001b[0m\u001b[0;34m\u001b[0m\u001b[0;34m\u001b[0m\u001b[0m\n\u001b[0m\u001b[1;32m   1437\u001b[0m         )\n\u001b[1;32m   1438\u001b[0m \u001b[0;34m\u001b[0m\u001b[0m\n",
            "\u001b[0;32m/srv/conda/envs/notebook/lib/python3.7/site-packages/seaborn/distributions.py\u001b[0m in \u001b[0;36mplot_univariate_histogram\u001b[0;34m(self, multiple, element, fill, common_norm, common_bins, shrink, kde, kde_kws, color, legend, line_kws, estimate_kws, **plot_kws)\u001b[0m\n\u001b[1;32m    422\u001b[0m \u001b[0;34m\u001b[0m\u001b[0m\n\u001b[1;32m    423\u001b[0m         \u001b[0;31m# First pass through the data to compute the histograms\u001b[0m\u001b[0;34m\u001b[0m\u001b[0;34m\u001b[0m\u001b[0;34m\u001b[0m\u001b[0m\n\u001b[0;32m--> 424\u001b[0;31m         \u001b[0;32mfor\u001b[0m \u001b[0msub_vars\u001b[0m\u001b[0;34m,\u001b[0m \u001b[0msub_data\u001b[0m \u001b[0;32min\u001b[0m \u001b[0mself\u001b[0m\u001b[0;34m.\u001b[0m\u001b[0miter_data\u001b[0m\u001b[0;34m(\u001b[0m\u001b[0;34m\"hue\"\u001b[0m\u001b[0;34m,\u001b[0m \u001b[0mfrom_comp_data\u001b[0m\u001b[0;34m=\u001b[0m\u001b[0;32mTrue\u001b[0m\u001b[0;34m)\u001b[0m\u001b[0;34m:\u001b[0m\u001b[0;34m\u001b[0m\u001b[0;34m\u001b[0m\u001b[0m\n\u001b[0m\u001b[1;32m    425\u001b[0m \u001b[0;34m\u001b[0m\u001b[0m\n\u001b[1;32m    426\u001b[0m             \u001b[0;31m# Prepare the relevant data\u001b[0m\u001b[0;34m\u001b[0m\u001b[0;34m\u001b[0m\u001b[0;34m\u001b[0m\u001b[0m\n",
            "\u001b[0;32m/srv/conda/envs/notebook/lib/python3.7/site-packages/seaborn/_core.py\u001b[0m in \u001b[0;36miter_data\u001b[0;34m(self, grouping_vars, reverse, from_comp_data)\u001b[0m\n\u001b[1;32m    980\u001b[0m \u001b[0;34m\u001b[0m\u001b[0m\n\u001b[1;32m    981\u001b[0m         \u001b[0;32mif\u001b[0m \u001b[0mfrom_comp_data\u001b[0m\u001b[0;34m:\u001b[0m\u001b[0;34m\u001b[0m\u001b[0;34m\u001b[0m\u001b[0m\n\u001b[0;32m--> 982\u001b[0;31m             \u001b[0mdata\u001b[0m \u001b[0;34m=\u001b[0m \u001b[0mself\u001b[0m\u001b[0;34m.\u001b[0m\u001b[0mcomp_data\u001b[0m\u001b[0;34m\u001b[0m\u001b[0;34m\u001b[0m\u001b[0m\n\u001b[0m\u001b[1;32m    983\u001b[0m         \u001b[0;32melse\u001b[0m\u001b[0;34m:\u001b[0m\u001b[0;34m\u001b[0m\u001b[0;34m\u001b[0m\u001b[0m\n\u001b[1;32m    984\u001b[0m             \u001b[0mdata\u001b[0m \u001b[0;34m=\u001b[0m \u001b[0mself\u001b[0m\u001b[0;34m.\u001b[0m\u001b[0mplot_data\u001b[0m\u001b[0;34m\u001b[0m\u001b[0;34m\u001b[0m\u001b[0m\n",
            "\u001b[0;32m/srv/conda/envs/notebook/lib/python3.7/site-packages/seaborn/_core.py\u001b[0m in \u001b[0;36mcomp_data\u001b[0;34m(self)\u001b[0m\n\u001b[1;32m   1049\u001b[0m                 \u001b[0maxis\u001b[0m \u001b[0;34m=\u001b[0m \u001b[0mgetattr\u001b[0m\u001b[0;34m(\u001b[0m\u001b[0max\u001b[0m\u001b[0;34m,\u001b[0m \u001b[0;34mf\"{var}axis\"\u001b[0m\u001b[0;34m)\u001b[0m\u001b[0;34m\u001b[0m\u001b[0;34m\u001b[0m\u001b[0m\n\u001b[1;32m   1050\u001b[0m \u001b[0;34m\u001b[0m\u001b[0m\n\u001b[0;32m-> 1051\u001b[0;31m                 \u001b[0mcomp_var\u001b[0m \u001b[0;34m=\u001b[0m \u001b[0maxis\u001b[0m\u001b[0;34m.\u001b[0m\u001b[0mconvert_units\u001b[0m\u001b[0;34m(\u001b[0m\u001b[0mself\u001b[0m\u001b[0;34m.\u001b[0m\u001b[0mplot_data\u001b[0m\u001b[0;34m[\u001b[0m\u001b[0mvar\u001b[0m\u001b[0;34m]\u001b[0m\u001b[0;34m)\u001b[0m\u001b[0;34m\u001b[0m\u001b[0;34m\u001b[0m\u001b[0m\n\u001b[0m\u001b[1;32m   1052\u001b[0m                 \u001b[0;32mif\u001b[0m \u001b[0maxis\u001b[0m\u001b[0;34m.\u001b[0m\u001b[0mget_scale\u001b[0m\u001b[0;34m(\u001b[0m\u001b[0;34m)\u001b[0m \u001b[0;34m==\u001b[0m \u001b[0;34m\"log\"\u001b[0m\u001b[0;34m:\u001b[0m\u001b[0;34m\u001b[0m\u001b[0;34m\u001b[0m\u001b[0m\n\u001b[1;32m   1053\u001b[0m                     \u001b[0mcomp_var\u001b[0m \u001b[0;34m=\u001b[0m \u001b[0mnp\u001b[0m\u001b[0;34m.\u001b[0m\u001b[0mlog10\u001b[0m\u001b[0;34m(\u001b[0m\u001b[0mcomp_var\u001b[0m\u001b[0;34m)\u001b[0m\u001b[0;34m\u001b[0m\u001b[0;34m\u001b[0m\u001b[0m\n",
            "\u001b[0;32m/srv/conda/envs/notebook/lib/python3.7/site-packages/matplotlib/axis.py\u001b[0m in \u001b[0;36mconvert_units\u001b[0;34m(self, x)\u001b[0m\n\u001b[1;32m   1524\u001b[0m         \u001b[0;32mexcept\u001b[0m \u001b[0mException\u001b[0m \u001b[0;32mas\u001b[0m \u001b[0me\u001b[0m\u001b[0;34m:\u001b[0m\u001b[0;34m\u001b[0m\u001b[0;34m\u001b[0m\u001b[0m\n\u001b[1;32m   1525\u001b[0m             raise munits.ConversionError('Failed to convert value(s) to axis '\n\u001b[0;32m-> 1526\u001b[0;31m                                          f'units: {x!r}') from e\n\u001b[0m\u001b[1;32m   1527\u001b[0m         \u001b[0;32mreturn\u001b[0m \u001b[0mret\u001b[0m\u001b[0;34m\u001b[0m\u001b[0;34m\u001b[0m\u001b[0m\n\u001b[1;32m   1528\u001b[0m \u001b[0;34m\u001b[0m\u001b[0m\n",
            "\u001b[0;31mConversionError\u001b[0m: Failed to convert value(s) to axis units: 2         0\n4         1\n14      NaN\n18        0\n19        0\n       ... \n5870      1\n5874      1\n5878      0\n5882      0\n5884      0\nName: x, Length: 593, dtype: category\nCategories (2, object): ['0', '1']"
          ]
        },
        {
          "output_type": "display_data",
          "data": {
            "text/plain": [
              "<Figure size 1296x216 with 6 Axes>"
            ],
            "image/png": "[encoded data removed]"
          },
          "metadata": {
            "tags": []
          }
        }
      ]
    },
    {
      "cell_type": "code",
      "metadata": {
        "trusted": false,
        "id": "M-cPsg90cwIS",
        "outputId": "4797592a-134a-4ba9-b741-174a3f8fc3eb"
      },
      "source": [
        "df_clustered.groupby(['cluster'])['TotalSpending'].mean()"
      ],
      "execution_count": null,
      "outputs": [
        {
          "output_type": "execute_result",
          "data": {
            "text/plain": [
              "cluster\n",
              "0    7.118089e+05\n",
              "1    5.619352e+05\n",
              "2    6.243762e+05\n",
              "3    5.808918e+05\n",
              "4    6.076993e+05\n",
              "5    3.101756e+06\n",
              "Name: TotalSpending, dtype: float64"
            ]
          },
          "metadata": {
            "tags": []
          },
          "execution_count": 238
        }
      ]
    },
    {
      "cell_type": "code",
      "metadata": {
        "trusted": false,
        "id": "sagpxNTycwIS",
        "outputId": "abcf7654-5b59-4fc3-b9eb-d5412e38b052"
      },
      "source": [
        "g6 = sns.FacetGrid(df_clustered, col=\"cluster\")\n",
        "g6.map(sns.histplot,'TotalSpending',stat=\"density\", common_norm=False, bins=10)\n",
        "# g3.fig"
      ],
      "execution_count": null,
      "outputs": [
        {
          "output_type": "execute_result",
          "data": {
            "text/plain": [
              "<seaborn.axisgrid.FacetGrid at 0x7f4f7c7364d0>"
            ]
          },
          "metadata": {
            "tags": []
          },
          "execution_count": 253
        },
        {
          "output_type": "display_data",
          "data": {
            "text/plain": [
              "<Figure size 1296x216 with 6 Axes>"
            ],
            "image/png": "[encoded data removed]"
          },
          "metadata": {
            "tags": []
          }
        }
      ]
    },
    {
      "cell_type": "code",
      "metadata": {
        "trusted": false,
        "id": "XSIEVv8DcwIS"
      },
      "source": [
        ""
      ],
      "execution_count": null,
      "outputs": []
    }
  ]
}